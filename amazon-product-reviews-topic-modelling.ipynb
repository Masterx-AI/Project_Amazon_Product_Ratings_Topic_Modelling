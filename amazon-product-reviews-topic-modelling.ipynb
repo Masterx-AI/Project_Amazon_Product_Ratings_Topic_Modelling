{
 "cells": [
  {
   "cell_type": "markdown",
   "id": "bbfe5dd1",
   "metadata": {
    "papermill": {
     "duration": 0.036684,
     "end_time": "2022-01-23T18:11:54.625170",
     "exception": false,
     "start_time": "2022-01-23T18:11:54.588486",
     "status": "completed"
    },
    "tags": []
   },
   "source": [
    "---"
   ]
  },
  {
   "cell_type": "markdown",
   "id": "9797c739",
   "metadata": {
    "papermill": {
     "duration": 0.035178,
     "end_time": "2022-01-23T18:11:54.695864",
     "exception": false,
     "start_time": "2022-01-23T18:11:54.660686",
     "status": "completed"
    },
    "tags": []
   },
   "source": [
    "# <center> ★ AI & ML Project - Amazon Product Reviews Topic Modelling ★\n",
    "### <center> ***Domain: E-Commerce***"
   ]
  },
  {
   "cell_type": "markdown",
   "id": "75227b12",
   "metadata": {
    "papermill": {
     "duration": 0.035136,
     "end_time": "2022-01-23T18:11:54.766384",
     "exception": false,
     "start_time": "2022-01-23T18:11:54.731248",
     "status": "completed"
    },
    "tags": []
   },
   "source": [
    "---"
   ]
  },
  {
   "cell_type": "markdown",
   "id": "7adcc979",
   "metadata": {
    "papermill": {
     "duration": 0.035216,
     "end_time": "2022-01-23T18:11:54.837130",
     "exception": false,
     "start_time": "2022-01-23T18:11:54.801914",
     "status": "completed"
    },
    "tags": []
   },
   "source": [
    "<center><img src=\"https://raw.githubusercontent.com/Masterx-AI/Project_Amazon_Product_Ratings_Topic_Modelling/main/Amazon.png\" style=\"width: 800px;\"/>"
   ]
  },
  {
   "cell_type": "markdown",
   "id": "765cfb63",
   "metadata": {
    "papermill": {
     "duration": 0.035356,
     "end_time": "2022-01-23T18:11:54.909626",
     "exception": false,
     "start_time": "2022-01-23T18:11:54.874270",
     "status": "completed"
    },
    "tags": []
   },
   "source": [
    "---"
   ]
  },
  {
   "cell_type": "markdown",
   "id": "fda9f36c",
   "metadata": {
    "papermill": {
     "duration": 0.035075,
     "end_time": "2022-01-23T18:11:54.980357",
     "exception": false,
     "start_time": "2022-01-23T18:11:54.945282",
     "status": "completed"
    },
    "tags": []
   },
   "source": [
    "### Description:\n",
    "\n",
    "The dataset is samples of Amazon Ratings for select produts. The reviews are picked randomly and the corpus has nearly 1.6k reviews of different customers.\\\n",
    "Amazon aims to understand what are the main topics of these reviews to classify them for easier search.\\\n",
    "Can you build a strong model that differentiates the topics based on the reviews corpus? \n",
    "\n",
    "#### Acknowledgements\n",
    "The dataset is referred from Kaggle.\n",
    "\n",
    "### Objective:\n",
    "- Understand the Dataset & perform the necessary cleanup.\n",
    "- Build a strong Topic Modelling Algorithm to classify the topics."
   ]
  },
  {
   "cell_type": "markdown",
   "id": "78b622f8",
   "metadata": {
    "papermill": {
     "duration": 0.034958,
     "end_time": "2022-01-23T18:11:55.050747",
     "exception": false,
     "start_time": "2022-01-23T18:11:55.015789",
     "status": "completed"
    },
    "tags": []
   },
   "source": [
    "---"
   ]
  },
  {
   "cell_type": "markdown",
   "id": "fc6d344f",
   "metadata": {
    "papermill": {
     "duration": 0.034736,
     "end_time": "2022-01-23T18:11:55.120792",
     "exception": false,
     "start_time": "2022-01-23T18:11:55.086056",
     "status": "completed"
    },
    "tags": []
   },
   "source": [
    "#### Importing the necessary libraries"
   ]
  },
  {
   "cell_type": "code",
   "execution_count": 1,
   "id": "9ee197f5",
   "metadata": {
    "execution": {
     "iopub.execute_input": "2022-01-23T18:11:55.197359Z",
     "iopub.status.busy": "2022-01-23T18:11:55.196213Z",
     "iopub.status.idle": "2022-01-23T18:12:05.000656Z",
     "shell.execute_reply": "2022-01-23T18:12:05.001166Z",
     "shell.execute_reply.started": "2022-01-23T17:33:05.794586Z"
    },
    "papermill": {
     "duration": 9.844371,
     "end_time": "2022-01-23T18:12:05.001424",
     "exception": false,
     "start_time": "2022-01-23T18:11:55.157053",
     "status": "completed"
    },
    "tags": []
   },
   "outputs": [
    {
     "name": "stderr",
     "output_type": "stream",
     "text": [
      "/opt/conda/lib/python3.7/site-packages/past/types/oldstr.py:36: DeprecationWarning: invalid escape sequence \\d\n",
      "  \"\"\"\n"
     ]
    }
   ],
   "source": [
    "# import libraries  \n",
    "import numpy as np\n",
    "import pandas as pd\n",
    "import nltk\n",
    "import re, random, os\n",
    "import string, pprint\n",
    "import matplotlib.pyplot as plt\n",
    "import seaborn as sns\n",
    "\n",
    "# spacy for basic preprocessing, optional, can use nltk as well (lemmatisation etc.)\n",
    "import spacy\n",
    "\n",
    "# gensim for LDA \n",
    "import gensim\n",
    "import gensim.corpora as corpora\n",
    "from gensim.utils import simple_preprocess\n",
    "from gensim.models import CoherenceModel\n",
    "\n",
    "# Plotting tools\n",
    "import pyLDAvis\n",
    "import pyLDAvis.gensim  # don't skip this\n",
    "#from pyLDAvis import gensim_models as pg\n",
    "import matplotlib.pyplot as plt\n",
    "%matplotlib inline\n",
    "\n",
    "import warnings\n",
    "warnings.filterwarnings(\"ignore\",category=DeprecationWarning)"
   ]
  },
  {
   "cell_type": "code",
   "execution_count": 2,
   "id": "913df11e",
   "metadata": {
    "execution": {
     "iopub.execute_input": "2022-01-23T18:12:05.077031Z",
     "iopub.status.busy": "2022-01-23T18:12:05.076427Z",
     "iopub.status.idle": "2022-01-23T18:12:05.517120Z",
     "shell.execute_reply": "2022-01-23T18:12:05.517626Z",
     "shell.execute_reply.started": "2022-01-23T17:33:05.806923Z"
    },
    "papermill": {
     "duration": 0.479601,
     "end_time": "2022-01-23T18:12:05.517792",
     "exception": false,
     "start_time": "2022-01-23T18:12:05.038191",
     "status": "completed"
    },
    "tags": []
   },
   "outputs": [
    {
     "name": "stdout",
     "output_type": "stream",
     "text": [
      "(1597, 27)\n"
     ]
    },
    {
     "data": {
      "text/html": [
       "<div>\n",
       "<style scoped>\n",
       "    .dataframe tbody tr th:only-of-type {\n",
       "        vertical-align: middle;\n",
       "    }\n",
       "\n",
       "    .dataframe tbody tr th {\n",
       "        vertical-align: top;\n",
       "    }\n",
       "\n",
       "    .dataframe thead th {\n",
       "        text-align: right;\n",
       "    }\n",
       "</style>\n",
       "<table border=\"1\" class=\"dataframe\">\n",
       "  <thead>\n",
       "    <tr style=\"text-align: right;\">\n",
       "      <th></th>\n",
       "      <th>id</th>\n",
       "      <th>asins</th>\n",
       "      <th>brand</th>\n",
       "      <th>categories</th>\n",
       "      <th>colors</th>\n",
       "      <th>dateAdded</th>\n",
       "      <th>dateUpdated</th>\n",
       "      <th>dimension</th>\n",
       "      <th>ean</th>\n",
       "      <th>keys</th>\n",
       "      <th>...</th>\n",
       "      <th>reviews.rating</th>\n",
       "      <th>reviews.sourceURLs</th>\n",
       "      <th>reviews.text</th>\n",
       "      <th>reviews.title</th>\n",
       "      <th>reviews.userCity</th>\n",
       "      <th>reviews.userProvince</th>\n",
       "      <th>reviews.username</th>\n",
       "      <th>sizes</th>\n",
       "      <th>upc</th>\n",
       "      <th>weight</th>\n",
       "    </tr>\n",
       "  </thead>\n",
       "  <tbody>\n",
       "    <tr>\n",
       "      <th>0</th>\n",
       "      <td>AVpe7AsMilAPnD_xQ78G</td>\n",
       "      <td>B00QJDU3KY</td>\n",
       "      <td>Amazon</td>\n",
       "      <td>Amazon Devices,mazon.co.uk</td>\n",
       "      <td>NaN</td>\n",
       "      <td>2016-03-08T20:21:53Z</td>\n",
       "      <td>2017-07-18T23:52:58Z</td>\n",
       "      <td>169 mm x 117 mm x 9.1 mm</td>\n",
       "      <td>NaN</td>\n",
       "      <td>kindlepaperwhite/b00qjdu3ky</td>\n",
       "      <td>...</td>\n",
       "      <td>5.0</td>\n",
       "      <td>https://www.amazon.com/Kindle-Paperwhite-High-...</td>\n",
       "      <td>I initially had trouble deciding between the p...</td>\n",
       "      <td>Paperwhite voyage, no regrets!</td>\n",
       "      <td>NaN</td>\n",
       "      <td>NaN</td>\n",
       "      <td>Cristina M</td>\n",
       "      <td>NaN</td>\n",
       "      <td>NaN</td>\n",
       "      <td>205 grams</td>\n",
       "    </tr>\n",
       "    <tr>\n",
       "      <th>1</th>\n",
       "      <td>AVpe7AsMilAPnD_xQ78G</td>\n",
       "      <td>B00QJDU3KY</td>\n",
       "      <td>Amazon</td>\n",
       "      <td>Amazon Devices,mazon.co.uk</td>\n",
       "      <td>NaN</td>\n",
       "      <td>2016-03-08T20:21:53Z</td>\n",
       "      <td>2017-07-18T23:52:58Z</td>\n",
       "      <td>169 mm x 117 mm x 9.1 mm</td>\n",
       "      <td>NaN</td>\n",
       "      <td>kindlepaperwhite/b00qjdu3ky</td>\n",
       "      <td>...</td>\n",
       "      <td>5.0</td>\n",
       "      <td>https://www.amazon.com/Kindle-Paperwhite-High-...</td>\n",
       "      <td>Allow me to preface this with a little history...</td>\n",
       "      <td>One Simply Could Not Ask For More</td>\n",
       "      <td>NaN</td>\n",
       "      <td>NaN</td>\n",
       "      <td>Ricky</td>\n",
       "      <td>NaN</td>\n",
       "      <td>NaN</td>\n",
       "      <td>205 grams</td>\n",
       "    </tr>\n",
       "    <tr>\n",
       "      <th>2</th>\n",
       "      <td>AVpe7AsMilAPnD_xQ78G</td>\n",
       "      <td>B00QJDU3KY</td>\n",
       "      <td>Amazon</td>\n",
       "      <td>Amazon Devices,mazon.co.uk</td>\n",
       "      <td>NaN</td>\n",
       "      <td>2016-03-08T20:21:53Z</td>\n",
       "      <td>2017-07-18T23:52:58Z</td>\n",
       "      <td>169 mm x 117 mm x 9.1 mm</td>\n",
       "      <td>NaN</td>\n",
       "      <td>kindlepaperwhite/b00qjdu3ky</td>\n",
       "      <td>...</td>\n",
       "      <td>4.0</td>\n",
       "      <td>https://www.amazon.com/Kindle-Paperwhite-High-...</td>\n",
       "      <td>I am enjoying it so far. Great for reading. Ha...</td>\n",
       "      <td>Great for those that just want an e-reader</td>\n",
       "      <td>NaN</td>\n",
       "      <td>NaN</td>\n",
       "      <td>Tedd Gardiner</td>\n",
       "      <td>NaN</td>\n",
       "      <td>NaN</td>\n",
       "      <td>205 grams</td>\n",
       "    </tr>\n",
       "    <tr>\n",
       "      <th>3</th>\n",
       "      <td>AVpe7AsMilAPnD_xQ78G</td>\n",
       "      <td>B00QJDU3KY</td>\n",
       "      <td>Amazon</td>\n",
       "      <td>Amazon Devices,mazon.co.uk</td>\n",
       "      <td>NaN</td>\n",
       "      <td>2016-03-08T20:21:53Z</td>\n",
       "      <td>2017-07-18T23:52:58Z</td>\n",
       "      <td>169 mm x 117 mm x 9.1 mm</td>\n",
       "      <td>NaN</td>\n",
       "      <td>kindlepaperwhite/b00qjdu3ky</td>\n",
       "      <td>...</td>\n",
       "      <td>5.0</td>\n",
       "      <td>https://www.amazon.com/Kindle-Paperwhite-High-...</td>\n",
       "      <td>I bought one of the first Paperwhites and have...</td>\n",
       "      <td>Love / Hate relationship</td>\n",
       "      <td>NaN</td>\n",
       "      <td>NaN</td>\n",
       "      <td>Dougal</td>\n",
       "      <td>NaN</td>\n",
       "      <td>NaN</td>\n",
       "      <td>205 grams</td>\n",
       "    </tr>\n",
       "    <tr>\n",
       "      <th>4</th>\n",
       "      <td>AVpe7AsMilAPnD_xQ78G</td>\n",
       "      <td>B00QJDU3KY</td>\n",
       "      <td>Amazon</td>\n",
       "      <td>Amazon Devices,mazon.co.uk</td>\n",
       "      <td>NaN</td>\n",
       "      <td>2016-03-08T20:21:53Z</td>\n",
       "      <td>2017-07-18T23:52:58Z</td>\n",
       "      <td>169 mm x 117 mm x 9.1 mm</td>\n",
       "      <td>NaN</td>\n",
       "      <td>kindlepaperwhite/b00qjdu3ky</td>\n",
       "      <td>...</td>\n",
       "      <td>5.0</td>\n",
       "      <td>https://www.amazon.com/Kindle-Paperwhite-High-...</td>\n",
       "      <td>I have to say upfront - I don't like coroporat...</td>\n",
       "      <td>I LOVE IT</td>\n",
       "      <td>NaN</td>\n",
       "      <td>NaN</td>\n",
       "      <td>Miljan David Tanic</td>\n",
       "      <td>NaN</td>\n",
       "      <td>NaN</td>\n",
       "      <td>205 grams</td>\n",
       "    </tr>\n",
       "  </tbody>\n",
       "</table>\n",
       "<p>5 rows × 27 columns</p>\n",
       "</div>"
      ],
      "text/plain": [
       "                     id       asins   brand                  categories  \\\n",
       "0  AVpe7AsMilAPnD_xQ78G  B00QJDU3KY  Amazon  Amazon Devices,mazon.co.uk   \n",
       "1  AVpe7AsMilAPnD_xQ78G  B00QJDU3KY  Amazon  Amazon Devices,mazon.co.uk   \n",
       "2  AVpe7AsMilAPnD_xQ78G  B00QJDU3KY  Amazon  Amazon Devices,mazon.co.uk   \n",
       "3  AVpe7AsMilAPnD_xQ78G  B00QJDU3KY  Amazon  Amazon Devices,mazon.co.uk   \n",
       "4  AVpe7AsMilAPnD_xQ78G  B00QJDU3KY  Amazon  Amazon Devices,mazon.co.uk   \n",
       "\n",
       "  colors             dateAdded           dateUpdated  \\\n",
       "0    NaN  2016-03-08T20:21:53Z  2017-07-18T23:52:58Z   \n",
       "1    NaN  2016-03-08T20:21:53Z  2017-07-18T23:52:58Z   \n",
       "2    NaN  2016-03-08T20:21:53Z  2017-07-18T23:52:58Z   \n",
       "3    NaN  2016-03-08T20:21:53Z  2017-07-18T23:52:58Z   \n",
       "4    NaN  2016-03-08T20:21:53Z  2017-07-18T23:52:58Z   \n",
       "\n",
       "                  dimension  ean                         keys  ...  \\\n",
       "0  169 mm x 117 mm x 9.1 mm  NaN  kindlepaperwhite/b00qjdu3ky  ...   \n",
       "1  169 mm x 117 mm x 9.1 mm  NaN  kindlepaperwhite/b00qjdu3ky  ...   \n",
       "2  169 mm x 117 mm x 9.1 mm  NaN  kindlepaperwhite/b00qjdu3ky  ...   \n",
       "3  169 mm x 117 mm x 9.1 mm  NaN  kindlepaperwhite/b00qjdu3ky  ...   \n",
       "4  169 mm x 117 mm x 9.1 mm  NaN  kindlepaperwhite/b00qjdu3ky  ...   \n",
       "\n",
       "  reviews.rating                                 reviews.sourceURLs  \\\n",
       "0            5.0  https://www.amazon.com/Kindle-Paperwhite-High-...   \n",
       "1            5.0  https://www.amazon.com/Kindle-Paperwhite-High-...   \n",
       "2            4.0  https://www.amazon.com/Kindle-Paperwhite-High-...   \n",
       "3            5.0  https://www.amazon.com/Kindle-Paperwhite-High-...   \n",
       "4            5.0  https://www.amazon.com/Kindle-Paperwhite-High-...   \n",
       "\n",
       "                                        reviews.text  \\\n",
       "0  I initially had trouble deciding between the p...   \n",
       "1  Allow me to preface this with a little history...   \n",
       "2  I am enjoying it so far. Great for reading. Ha...   \n",
       "3  I bought one of the first Paperwhites and have...   \n",
       "4  I have to say upfront - I don't like coroporat...   \n",
       "\n",
       "                                reviews.title reviews.userCity  \\\n",
       "0              Paperwhite voyage, no regrets!              NaN   \n",
       "1           One Simply Could Not Ask For More              NaN   \n",
       "2  Great for those that just want an e-reader              NaN   \n",
       "3                    Love / Hate relationship              NaN   \n",
       "4                                   I LOVE IT              NaN   \n",
       "\n",
       "  reviews.userProvince    reviews.username  sizes upc     weight  \n",
       "0                  NaN          Cristina M    NaN NaN  205 grams  \n",
       "1                  NaN               Ricky    NaN NaN  205 grams  \n",
       "2                  NaN       Tedd Gardiner    NaN NaN  205 grams  \n",
       "3                  NaN              Dougal    NaN NaN  205 grams  \n",
       "4                  NaN  Miljan David Tanic    NaN NaN  205 grams  \n",
       "\n",
       "[5 rows x 27 columns]"
      ]
     },
     "execution_count": 2,
     "metadata": {},
     "output_type": "execute_result"
    }
   ],
   "source": [
    "df = pd.read_csv('../input/amazon-product-reviews-dataset/7817_1.csv')\n",
    "print(df.shape)\n",
    "df.head()"
   ]
  },
  {
   "cell_type": "markdown",
   "id": "29a24831",
   "metadata": {
    "papermill": {
     "duration": 0.036872,
     "end_time": "2022-01-23T18:12:05.592249",
     "exception": false,
     "start_time": "2022-01-23T18:12:05.555377",
     "status": "completed"
    },
    "tags": []
   },
   "source": [
    "Let's now filter the dataframe to only one product - Amazon Echo. If you are not aware of Echo, <a href=\"https://www.amazon.in/Amazon-Echo-control-weather-Powered/dp/B0749YXL1J?tag=googinhydr18418-21\">here's the amazon page</a>."
   ]
  },
  {
   "cell_type": "code",
   "execution_count": 3,
   "id": "e91e5aea",
   "metadata": {
    "execution": {
     "iopub.execute_input": "2022-01-23T18:12:05.669631Z",
     "iopub.status.busy": "2022-01-23T18:12:05.669050Z",
     "iopub.status.idle": "2022-01-23T18:12:05.701826Z",
     "shell.execute_reply": "2022-01-23T18:12:05.702356Z",
     "shell.execute_reply.started": "2022-01-23T17:33:05.988073Z"
    },
    "papermill": {
     "duration": 0.072987,
     "end_time": "2022-01-23T18:12:05.702520",
     "exception": false,
     "start_time": "2022-01-23T18:12:05.629533",
     "status": "completed"
    },
    "tags": []
   },
   "outputs": [
    {
     "name": "stdout",
     "output_type": "stream",
     "text": [
      "(542, 27)\n"
     ]
    },
    {
     "data": {
      "text/html": [
       "<div>\n",
       "<style scoped>\n",
       "    .dataframe tbody tr th:only-of-type {\n",
       "        vertical-align: middle;\n",
       "    }\n",
       "\n",
       "    .dataframe tbody tr th {\n",
       "        vertical-align: top;\n",
       "    }\n",
       "\n",
       "    .dataframe thead th {\n",
       "        text-align: right;\n",
       "    }\n",
       "</style>\n",
       "<table border=\"1\" class=\"dataframe\">\n",
       "  <thead>\n",
       "    <tr style=\"text-align: right;\">\n",
       "      <th></th>\n",
       "      <th>id</th>\n",
       "      <th>asins</th>\n",
       "      <th>brand</th>\n",
       "      <th>categories</th>\n",
       "      <th>colors</th>\n",
       "      <th>dateAdded</th>\n",
       "      <th>dateUpdated</th>\n",
       "      <th>dimension</th>\n",
       "      <th>ean</th>\n",
       "      <th>keys</th>\n",
       "      <th>...</th>\n",
       "      <th>reviews.rating</th>\n",
       "      <th>reviews.sourceURLs</th>\n",
       "      <th>reviews.text</th>\n",
       "      <th>reviews.title</th>\n",
       "      <th>reviews.userCity</th>\n",
       "      <th>reviews.userProvince</th>\n",
       "      <th>reviews.username</th>\n",
       "      <th>sizes</th>\n",
       "      <th>upc</th>\n",
       "      <th>weight</th>\n",
       "    </tr>\n",
       "  </thead>\n",
       "  <tbody>\n",
       "    <tr>\n",
       "      <th>852</th>\n",
       "      <td>AVpfpK8KLJeJML43BCuD</td>\n",
       "      <td>B01BH83OOM</td>\n",
       "      <td>Amazon</td>\n",
       "      <td>Amazon Devices,Home,Smart Home &amp; Connected Liv...</td>\n",
       "      <td>Black</td>\n",
       "      <td>2017-01-04T03:51:17Z</td>\n",
       "      <td>2017-08-13T08:31:07Z</td>\n",
       "      <td>4.8 in x 6.6 in x 3.2 in</td>\n",
       "      <td>8.416670e+11</td>\n",
       "      <td>amazontapalexaenabledportablebluetoothspeaker/...</td>\n",
       "      <td>...</td>\n",
       "      <td>5.0</td>\n",
       "      <td>https://www.amazon.com/dp/B01BH83OOM,https://w...</td>\n",
       "      <td>IMPORTANT UPDATE (3/8/17): As you read my orig...</td>\n",
       "      <td>The Echo's Little Sister Is AMAZING!! 3,</td>\n",
       "      <td>NaN</td>\n",
       "      <td>NaN</td>\n",
       "      <td>Deanokat</td>\n",
       "      <td>NaN</td>\n",
       "      <td>8.416670e+11</td>\n",
       "      <td>1.75 lbs</td>\n",
       "    </tr>\n",
       "    <tr>\n",
       "      <th>853</th>\n",
       "      <td>AVpfpK8KLJeJML43BCuD</td>\n",
       "      <td>B01BH83OOM</td>\n",
       "      <td>Amazon</td>\n",
       "      <td>Amazon Devices,Home,Smart Home &amp; Connected Liv...</td>\n",
       "      <td>Black</td>\n",
       "      <td>2017-01-04T03:51:17Z</td>\n",
       "      <td>2017-08-13T08:31:07Z</td>\n",
       "      <td>4.8 in x 6.6 in x 3.2 in</td>\n",
       "      <td>8.416670e+11</td>\n",
       "      <td>amazontapalexaenabledportablebluetoothspeaker/...</td>\n",
       "      <td>...</td>\n",
       "      <td>5.0</td>\n",
       "      <td>https://www.amazon.com/dp/B01BH83OOM,https://w...</td>\n",
       "      <td>It was just a few weeks ago that I was bemoani...</td>\n",
       "      <td>Tap Alexa on the go!</td>\n",
       "      <td>NaN</td>\n",
       "      <td>NaN</td>\n",
       "      <td>Heather A</td>\n",
       "      <td>NaN</td>\n",
       "      <td>8.416670e+11</td>\n",
       "      <td>1.75 lbs</td>\n",
       "    </tr>\n",
       "    <tr>\n",
       "      <th>854</th>\n",
       "      <td>AVpfpK8KLJeJML43BCuD</td>\n",
       "      <td>B01BH83OOM</td>\n",
       "      <td>Amazon</td>\n",
       "      <td>Amazon Devices,Home,Smart Home &amp; Connected Liv...</td>\n",
       "      <td>Black</td>\n",
       "      <td>2017-01-04T03:51:17Z</td>\n",
       "      <td>2017-08-13T08:31:07Z</td>\n",
       "      <td>4.8 in x 6.6 in x 3.2 in</td>\n",
       "      <td>8.416670e+11</td>\n",
       "      <td>amazontapalexaenabledportablebluetoothspeaker/...</td>\n",
       "      <td>...</td>\n",
       "      <td>5.0</td>\n",
       "      <td>https://www.amazon.com/dp/B01BH83OOM,https://w...</td>\n",
       "      <td>The Amazon Tap is a portable Bluetooth speaker...</td>\n",
       "      <td>Amazon Tap Review - Best Bluetooth Speaker in ...</td>\n",
       "      <td>NaN</td>\n",
       "      <td>NaN</td>\n",
       "      <td>Quentin Moore</td>\n",
       "      <td>NaN</td>\n",
       "      <td>8.416670e+11</td>\n",
       "      <td>1.75 lbs</td>\n",
       "    </tr>\n",
       "    <tr>\n",
       "      <th>855</th>\n",
       "      <td>AVpfpK8KLJeJML43BCuD</td>\n",
       "      <td>B01BH83OOM</td>\n",
       "      <td>Amazon</td>\n",
       "      <td>Amazon Devices,Home,Smart Home &amp; Connected Liv...</td>\n",
       "      <td>Black</td>\n",
       "      <td>2017-01-04T03:51:17Z</td>\n",
       "      <td>2017-08-13T08:31:07Z</td>\n",
       "      <td>4.8 in x 6.6 in x 3.2 in</td>\n",
       "      <td>8.416670e+11</td>\n",
       "      <td>amazontapalexaenabledportablebluetoothspeaker/...</td>\n",
       "      <td>...</td>\n",
       "      <td>5.0</td>\n",
       "      <td>http://reviews.bestbuy.com/3545/5097300/review...</td>\n",
       "      <td>Look at this product as a portable speaker fir...</td>\n",
       "      <td>Great for what it does</td>\n",
       "      <td>NaN</td>\n",
       "      <td>NaN</td>\n",
       "      <td>Casey</td>\n",
       "      <td>NaN</td>\n",
       "      <td>8.416670e+11</td>\n",
       "      <td>1.75 lbs</td>\n",
       "    </tr>\n",
       "    <tr>\n",
       "      <th>856</th>\n",
       "      <td>AVpfpK8KLJeJML43BCuD</td>\n",
       "      <td>B01BH83OOM</td>\n",
       "      <td>Amazon</td>\n",
       "      <td>Amazon Devices,Home,Smart Home &amp; Connected Liv...</td>\n",
       "      <td>Black</td>\n",
       "      <td>2017-01-04T03:51:17Z</td>\n",
       "      <td>2017-08-13T08:31:07Z</td>\n",
       "      <td>4.8 in x 6.6 in x 3.2 in</td>\n",
       "      <td>8.416670e+11</td>\n",
       "      <td>amazontapalexaenabledportablebluetoothspeaker/...</td>\n",
       "      <td>...</td>\n",
       "      <td>5.0</td>\n",
       "      <td>http://reviews.bestbuy.com/3545/5097300/review...</td>\n",
       "      <td>This Amazon tap is not only a great Bluetooth ...</td>\n",
       "      <td>Awesome, smart little portable speaker</td>\n",
       "      <td>NaN</td>\n",
       "      <td>NaN</td>\n",
       "      <td>Tazman3582</td>\n",
       "      <td>NaN</td>\n",
       "      <td>8.416670e+11</td>\n",
       "      <td>1.75 lbs</td>\n",
       "    </tr>\n",
       "  </tbody>\n",
       "</table>\n",
       "<p>5 rows × 27 columns</p>\n",
       "</div>"
      ],
      "text/plain": [
       "                       id       asins   brand  \\\n",
       "852  AVpfpK8KLJeJML43BCuD  B01BH83OOM  Amazon   \n",
       "853  AVpfpK8KLJeJML43BCuD  B01BH83OOM  Amazon   \n",
       "854  AVpfpK8KLJeJML43BCuD  B01BH83OOM  Amazon   \n",
       "855  AVpfpK8KLJeJML43BCuD  B01BH83OOM  Amazon   \n",
       "856  AVpfpK8KLJeJML43BCuD  B01BH83OOM  Amazon   \n",
       "\n",
       "                                            categories colors  \\\n",
       "852  Amazon Devices,Home,Smart Home & Connected Liv...  Black   \n",
       "853  Amazon Devices,Home,Smart Home & Connected Liv...  Black   \n",
       "854  Amazon Devices,Home,Smart Home & Connected Liv...  Black   \n",
       "855  Amazon Devices,Home,Smart Home & Connected Liv...  Black   \n",
       "856  Amazon Devices,Home,Smart Home & Connected Liv...  Black   \n",
       "\n",
       "                dateAdded           dateUpdated                 dimension  \\\n",
       "852  2017-01-04T03:51:17Z  2017-08-13T08:31:07Z  4.8 in x 6.6 in x 3.2 in   \n",
       "853  2017-01-04T03:51:17Z  2017-08-13T08:31:07Z  4.8 in x 6.6 in x 3.2 in   \n",
       "854  2017-01-04T03:51:17Z  2017-08-13T08:31:07Z  4.8 in x 6.6 in x 3.2 in   \n",
       "855  2017-01-04T03:51:17Z  2017-08-13T08:31:07Z  4.8 in x 6.6 in x 3.2 in   \n",
       "856  2017-01-04T03:51:17Z  2017-08-13T08:31:07Z  4.8 in x 6.6 in x 3.2 in   \n",
       "\n",
       "              ean                                               keys  ...  \\\n",
       "852  8.416670e+11  amazontapalexaenabledportablebluetoothspeaker/...  ...   \n",
       "853  8.416670e+11  amazontapalexaenabledportablebluetoothspeaker/...  ...   \n",
       "854  8.416670e+11  amazontapalexaenabledportablebluetoothspeaker/...  ...   \n",
       "855  8.416670e+11  amazontapalexaenabledportablebluetoothspeaker/...  ...   \n",
       "856  8.416670e+11  amazontapalexaenabledportablebluetoothspeaker/...  ...   \n",
       "\n",
       "    reviews.rating                                 reviews.sourceURLs  \\\n",
       "852            5.0  https://www.amazon.com/dp/B01BH83OOM,https://w...   \n",
       "853            5.0  https://www.amazon.com/dp/B01BH83OOM,https://w...   \n",
       "854            5.0  https://www.amazon.com/dp/B01BH83OOM,https://w...   \n",
       "855            5.0  http://reviews.bestbuy.com/3545/5097300/review...   \n",
       "856            5.0  http://reviews.bestbuy.com/3545/5097300/review...   \n",
       "\n",
       "                                          reviews.text  \\\n",
       "852  IMPORTANT UPDATE (3/8/17): As you read my orig...   \n",
       "853  It was just a few weeks ago that I was bemoani...   \n",
       "854  The Amazon Tap is a portable Bluetooth speaker...   \n",
       "855  Look at this product as a portable speaker fir...   \n",
       "856  This Amazon tap is not only a great Bluetooth ...   \n",
       "\n",
       "                                         reviews.title reviews.userCity  \\\n",
       "852           The Echo's Little Sister Is AMAZING!! 3,              NaN   \n",
       "853                               Tap Alexa on the go!              NaN   \n",
       "854  Amazon Tap Review - Best Bluetooth Speaker in ...              NaN   \n",
       "855                             Great for what it does              NaN   \n",
       "856             Awesome, smart little portable speaker              NaN   \n",
       "\n",
       "    reviews.userProvince  reviews.username  sizes           upc    weight  \n",
       "852                  NaN          Deanokat    NaN  8.416670e+11  1.75 lbs  \n",
       "853                  NaN         Heather A    NaN  8.416670e+11  1.75 lbs  \n",
       "854                  NaN     Quentin Moore    NaN  8.416670e+11  1.75 lbs  \n",
       "855                  NaN             Casey    NaN  8.416670e+11  1.75 lbs  \n",
       "856                  NaN        Tazman3582    NaN  8.416670e+11  1.75 lbs  \n",
       "\n",
       "[5 rows x 27 columns]"
      ]
     },
     "execution_count": 3,
     "metadata": {},
     "output_type": "execute_result"
    }
   ],
   "source": [
    "# filter for product id = amazon echo\n",
    "df = df[df['asins']==\"B01BH83OOM\"]\n",
    "print(df.shape)\n",
    "df.head()"
   ]
  },
  {
   "cell_type": "markdown",
   "id": "a5c01bc6",
   "metadata": {
    "papermill": {
     "duration": 0.038615,
     "end_time": "2022-01-23T18:12:05.780308",
     "exception": false,
     "start_time": "2022-01-23T18:12:05.741693",
     "status": "completed"
    },
    "tags": []
   },
   "source": [
    "### Preprocessing\n",
    "\n",
    "Let's first do some preprocessing. For tokenisation, though one can use NLTK as well, let's try using gensim's ```simple_preprocess``` this time. The preprocessing pipeline is mentioned below.<br>\n",
    "\n",
    "1. Tokenize each review (using gensim)\n",
    "2. Remove stop words (including punctuations)\n",
    "3. Lemmatize (using spacy)\n",
    "\n",
    "Though you can build topic models without lemmatisation, it is actually quite important (and highly recommended) because otherwise you may end up getting topics having similar words for e.g. *speaker, speakers* etc. (which are basically referring to the same thing - speaker).\n",
    "\n",
    "Note that lemmatization uses POS tags of words, so we need to specify a list of POS tags - here we've used ```['NOUN', 'ADJ', 'VERB', 'ADV']``` ."
   ]
  },
  {
   "cell_type": "code",
   "execution_count": 4,
   "id": "d60b7695",
   "metadata": {
    "execution": {
     "iopub.execute_input": "2022-01-23T18:12:05.860729Z",
     "iopub.status.busy": "2022-01-23T18:12:05.860139Z",
     "iopub.status.idle": "2022-01-23T18:12:05.915159Z",
     "shell.execute_reply": "2022-01-23T18:12:05.914531Z",
     "shell.execute_reply.started": "2022-01-23T17:33:06.030348Z"
    },
    "papermill": {
     "duration": 0.096034,
     "end_time": "2022-01-23T18:12:05.915285",
     "exception": false,
     "start_time": "2022-01-23T18:12:05.819251",
     "status": "completed"
    },
    "scrolled": true,
    "tags": []
   },
   "outputs": [
    {
     "name": "stdout",
     "output_type": "stream",
     "text": [
      "['look', 'at', 'this', 'product', 'as', 'portable', 'speaker', 'first', 'and', 'an', 'echo', 'replacement', 'second', 'the', 'big', 'reason', 'to', 'buy', 'this', 'over', 'standard', 'bluetooth', 'speakers', 'is', 'this', 'has', 'wifi', 'streaming', 'enabled', 'when', 'you', 'are', 'at', 'home', 'you', 'can', 'stream', 'music', 'with', 'ease', 'to', 'it', 'voice', 'recognition', 'is', 'top', 'notch', 'and', 'it', 'really', 'shines', 'when', 'using', 'it', 'with', 'other', 'smart', 'home', 'accessories', 'the', 'only', 'problem', 'is', 'having', 'to', 'tap', 'the', 'microphone', 'button', 'for', 'it', 'to', 'listen', 'to', 'your', 'voice', 'if', 'you', 'want', 'bigger', 'sound', 'and', 'always', 'listening', 'features', 'spend', 'the', 'extra', 'money', 'on', 'the', 'amazon', 'echo']\n"
     ]
    }
   ],
   "source": [
    "# tokenize using gensim simple_preprocess\n",
    "def sent_to_words(sentences, deacc=True): # deacc=True removes punctuations\n",
    "    for sentence in sentences:\n",
    "        yield(gensim.utils.simple_preprocess(str(sentence)))  \n",
    "\n",
    "\n",
    "# convert to list\n",
    "data = df['reviews.text'].values.tolist()\n",
    "data_words = list(sent_to_words(data))\n",
    "\n",
    "# sample\n",
    "print(data_words[3])"
   ]
  },
  {
   "cell_type": "markdown",
   "id": "af84f9f4",
   "metadata": {
    "papermill": {
     "duration": 0.03822,
     "end_time": "2022-01-23T18:12:05.992514",
     "exception": false,
     "start_time": "2022-01-23T18:12:05.954294",
     "status": "completed"
    },
    "tags": []
   },
   "source": [
    "The code below creates a list of stop words. The 'string' module in python comes with a list of punctuation characters, which we'll append to the builtin stopwords of NLTK."
   ]
  },
  {
   "cell_type": "code",
   "execution_count": 5,
   "id": "340b81e3",
   "metadata": {
    "execution": {
     "iopub.execute_input": "2022-01-23T18:12:06.072108Z",
     "iopub.status.busy": "2022-01-23T18:12:06.071508Z",
     "iopub.status.idle": "2022-01-23T18:12:06.081179Z",
     "shell.execute_reply": "2022-01-23T18:12:06.081746Z",
     "shell.execute_reply.started": "2022-01-23T17:33:06.094386Z"
    },
    "papermill": {
     "duration": 0.050886,
     "end_time": "2022-01-23T18:12:06.081896",
     "exception": false,
     "start_time": "2022-01-23T18:12:06.031010",
     "status": "completed"
    },
    "tags": []
   },
   "outputs": [],
   "source": [
    "# create list of stop words\n",
    "# string.punctuation (from the 'string' module) contains a list of punctuations\n",
    "from nltk.corpus import stopwords\n",
    "stop_words = stopwords.words('english') + list(string.punctuation)\n"
   ]
  },
  {
   "cell_type": "code",
   "execution_count": 6,
   "id": "5ca3ccde",
   "metadata": {
    "execution": {
     "iopub.execute_input": "2022-01-23T18:12:06.166001Z",
     "iopub.status.busy": "2022-01-23T18:12:06.163555Z",
     "iopub.status.idle": "2022-01-23T18:12:06.167563Z",
     "shell.execute_reply": "2022-01-23T18:12:06.168117Z",
     "shell.execute_reply.started": "2022-01-23T17:33:06.10561Z"
    },
    "papermill": {
     "duration": 0.047803,
     "end_time": "2022-01-23T18:12:06.168268",
     "exception": false,
     "start_time": "2022-01-23T18:12:06.120465",
     "status": "completed"
    },
    "tags": []
   },
   "outputs": [],
   "source": [
    "# functions for removing stopwords and lemmatization\n",
    "def remove_stopwords(texts):\n",
    "    return [[word for word in simple_preprocess(str(doc)) if word not in stop_words] for doc in texts]\n",
    "\n",
    "def lemmatization(texts, allowed_postags=['NOUN', 'ADJ', 'VERB', 'ADV']):\n",
    "    \"\"\"https://spacy.io/api/annotation\"\"\"\n",
    "    texts_out = []\n",
    "    for sent in texts:\n",
    "        doc = nlp(\" \".join(sent)) \n",
    "        texts_out.append([token.lemma_ for token in doc if token.pos_ in allowed_postags])\n",
    "    return texts_out"
   ]
  },
  {
   "cell_type": "markdown",
   "id": "83bf5ecd",
   "metadata": {
    "papermill": {
     "duration": 0.038925,
     "end_time": "2022-01-23T18:12:06.246327",
     "exception": false,
     "start_time": "2022-01-23T18:12:06.207402",
     "status": "completed"
    },
    "tags": []
   },
   "source": [
    "**Important Note:** All models are not automatically downloaded with spacy, so you will need to do a ```python -m spacy download en``` to use its preprocessing methods."
   ]
  },
  {
   "cell_type": "code",
   "execution_count": 7,
   "id": "82687d9e",
   "metadata": {
    "execution": {
     "iopub.execute_input": "2022-01-23T18:12:06.328833Z",
     "iopub.status.busy": "2022-01-23T18:12:06.328026Z",
     "iopub.status.idle": "2022-01-23T18:12:09.349350Z",
     "shell.execute_reply": "2022-01-23T18:12:09.349954Z",
     "shell.execute_reply.started": "2022-01-23T17:33:06.115492Z"
    },
    "papermill": {
     "duration": 3.064826,
     "end_time": "2022-01-23T18:12:09.350112",
     "exception": false,
     "start_time": "2022-01-23T18:12:06.285286",
     "status": "completed"
    },
    "scrolled": true,
    "tags": []
   },
   "outputs": [
    {
     "name": "stdout",
     "output_type": "stream",
     "text": [
      "['look', 'product', 'portable', 'speaker', 'replacement', 'second', 'big', 'reason', 'buy', 'standard', 'bluetooth', 'speaker', 'enable', 'home', 'stream', 'music', 'ease', 'voice', 'recognition', 'top', 'notch', 'really', 'shine', 'use', 'smart', 'home', 'accessory', 'problem', 'tap', 'microphone', 'button', 'listen', 'voice', 'want', 'big', 'sound', 'always', 'listen', 'feature', 'spend', 'extra', 'money', 'amazon', 'echo']\n"
     ]
    }
   ],
   "source": [
    "# call functions\n",
    "\n",
    "# remove stop words\n",
    "data_words_nostops = remove_stopwords(data_words)\n",
    "\n",
    "# initialize spacy 'en' model, use only tagger since we don't need parsing or NER \n",
    "# python3 -m spacy download en\n",
    "nlp = spacy.load('en_core_web_sm', disable=['parser', 'ner'])\n",
    "\n",
    "# lemmatization keeping only noun, adj, vb, adv\n",
    "data_lemmatized = lemmatization(data_words_nostops, allowed_postags=['NOUN', 'ADJ', 'VERB', 'ADV'])\n",
    "\n",
    "print(data_lemmatized[3])"
   ]
  },
  {
   "cell_type": "code",
   "execution_count": 8,
   "id": "c91d3739",
   "metadata": {
    "execution": {
     "iopub.execute_input": "2022-01-23T18:12:09.434209Z",
     "iopub.status.busy": "2022-01-23T18:12:09.433453Z",
     "iopub.status.idle": "2022-01-23T18:12:09.438114Z",
     "shell.execute_reply": "2022-01-23T18:12:09.438475Z",
     "shell.execute_reply.started": "2022-01-23T17:33:09.327088Z"
    },
    "papermill": {
     "duration": 0.048623,
     "end_time": "2022-01-23T18:12:09.438601",
     "exception": false,
     "start_time": "2022-01-23T18:12:09.389978",
     "status": "completed"
    },
    "tags": []
   },
   "outputs": [
    {
     "name": "stdout",
     "output_type": "stream",
     "text": [
      "look at this product as portable speaker first and an echo replacement second the big reason to buy this over standard bluetooth speakers is this has wifi streaming enabled when you are at home you can stream music with ease to it voice recognition is top notch and it really shines when using it with other smart home accessories the only problem is having to tap the microphone button for it to listen to your voice if you want bigger sound and always listening features spend the extra money on the amazon echo \n",
      "\n",
      "look product portable speaker replacement second big reason buy standard bluetooth speaker enable home stream music ease voice recognition top notch really shine use smart home accessory problem tap microphone button listen voice want big sound always listen feature spend extra money amazon echo\n"
     ]
    }
   ],
   "source": [
    "# compare the nostop, lemmatised version with the original one\n",
    "# note that speakers is lemmatised to speaker; \n",
    "print(' '.join(data_words[3]), '\\n')\n",
    "print(' '.join(data_lemmatized[3]))"
   ]
  },
  {
   "cell_type": "markdown",
   "id": "dcd26c6c",
   "metadata": {
    "papermill": {
     "duration": 0.025359,
     "end_time": "2022-01-23T18:12:09.489692",
     "exception": false,
     "start_time": "2022-01-23T18:12:09.464333",
     "status": "completed"
    },
    "tags": []
   },
   "source": [
    "### Creating Dictionary and Corpus\n",
    "\n",
    "Gensim's LDA requires the data in a certain format. Firstly, it needs the corpus as a dicionary of id-word mapping, where each word has a unique numeric ID. This is for computationally efficiency purposes. Secondly, it needs the corpus as a term-document frequency matrix which contains the frequency of each word in each document."
   ]
  },
  {
   "cell_type": "code",
   "execution_count": 9,
   "id": "578c4de5",
   "metadata": {
    "execution": {
     "iopub.execute_input": "2022-01-23T18:12:09.543670Z",
     "iopub.status.busy": "2022-01-23T18:12:09.543152Z",
     "iopub.status.idle": "2022-01-23T18:12:09.593500Z",
     "shell.execute_reply": "2022-01-23T18:12:09.593851Z",
     "shell.execute_reply.started": "2022-01-23T17:33:09.335381Z"
    },
    "papermill": {
     "duration": 0.078826,
     "end_time": "2022-01-23T18:12:09.594004",
     "exception": false,
     "start_time": "2022-01-23T18:12:09.515178",
     "status": "completed"
    },
    "scrolled": true,
    "tags": []
   },
   "outputs": [
    {
     "name": "stdout",
     "output_type": "stream",
     "text": [
      "[(3, 5), (12, 2), (15, 2), (16, 3), (19, 2), (23, 4), (27, 2), (30, 1), (34, 1), (47, 2), (50, 1), (55, 1), (59, 5), (68, 1), (80, 1), (83, 8), (86, 1), (89, 2), (94, 1), (95, 1), (96, 2), (98, 1), (99, 1), (108, 2), (112, 1), (116, 1), (120, 1), (129, 2), (132, 1), (135, 1), (142, 1), (143, 1), (144, 2), (145, 1), (146, 1), (147, 1), (148, 1), (149, 1), (150, 1), (151, 1), (152, 1), (153, 1), (154, 2), (155, 1), (156, 2), (157, 1), (158, 1), (159, 1), (160, 1), (161, 1), (162, 1), (163, 1), (164, 1), (165, 2), (166, 1), (167, 3), (168, 1), (169, 1), (170, 1), (171, 1), (172, 1), (173, 1), (174, 1), (175, 1), (176, 1), (177, 1), (178, 1), (179, 1), (180, 1), (181, 2), (182, 1), (183, 1), (184, 2), (185, 2), (186, 5), (187, 1), (188, 3), (189, 2), (190, 1), (191, 3), (192, 1), (193, 1), (194, 1), (195, 1), (196, 6), (197, 1), (198, 1), (199, 1), (200, 2), (201, 1), (202, 2), (203, 1), (204, 1), (205, 1), (206, 1), (207, 1), (208, 2), (209, 1), (210, 1), (211, 2), (212, 1)]\n"
     ]
    }
   ],
   "source": [
    "# create dictionary and corpus\n",
    "# create dictionary\n",
    "id2word = corpora.Dictionary(data_lemmatized)\n",
    "\n",
    "# Create corpus\n",
    "corpus = [id2word.doc2bow(text) for text in data_lemmatized]\n",
    "\n",
    "# sample\n",
    "print(corpus[2])"
   ]
  },
  {
   "cell_type": "markdown",
   "id": "28a7ca94",
   "metadata": {
    "papermill": {
     "duration": 0.026124,
     "end_time": "2022-01-23T18:12:09.646363",
     "exception": false,
     "start_time": "2022-01-23T18:12:09.620239",
     "status": "completed"
    },
    "tags": []
   },
   "source": [
    "The (3, 7) above represents the fact that the word with id=3 appears 7 times in the second document (review), word id 12 appears twice and so on. The nested list below shows the frequencies of words in the first document."
   ]
  },
  {
   "cell_type": "code",
   "execution_count": 10,
   "id": "0955fafd",
   "metadata": {
    "execution": {
     "iopub.execute_input": "2022-01-23T18:12:09.713020Z",
     "iopub.status.busy": "2022-01-23T18:12:09.712355Z",
     "iopub.status.idle": "2022-01-23T18:12:09.715038Z",
     "shell.execute_reply": "2022-01-23T18:12:09.715509Z",
     "shell.execute_reply.started": "2022-01-23T17:33:09.386371Z"
    },
    "papermill": {
     "duration": 0.043045,
     "end_time": "2022-01-23T18:12:09.715670",
     "exception": false,
     "start_time": "2022-01-23T18:12:09.672625",
     "status": "completed"
    },
    "scrolled": true,
    "tags": []
   },
   "outputs": [
    {
     "data": {
      "text/plain": [
       "[[('admit', 1),\n",
       "  ('alexa', 2),\n",
       "  ('allow', 1),\n",
       "  ('amazon', 4),\n",
       "  ('announce', 1),\n",
       "  ('answer', 1),\n",
       "  ('anyway', 1),\n",
       "  ('app', 2),\n",
       "  ('appealing', 1),\n",
       "  ('associate', 1),\n",
       "  ('avid', 1),\n",
       "  ('aware', 1),\n",
       "  ('battery', 3),\n",
       "  ('buy', 1),\n",
       "  ('choose', 2),\n",
       "  ('command', 1),\n",
       "  ('control', 1),\n",
       "  ('convenience', 1),\n",
       "  ('cook', 1),\n",
       "  ('day', 1),\n",
       "  ('decide', 2),\n",
       "  ('demand', 1),\n",
       "  ('development', 1),\n",
       "  ('device', 3),\n",
       "  ('drain', 1),\n",
       "  ('early', 2),\n",
       "  ('easily', 2),\n",
       "  ('echo', 3),\n",
       "  ('echos', 1),\n",
       "  ('enable', 1),\n",
       "  ('especially', 1),\n",
       "  ('fabulous', 1),\n",
       "  ('financial', 1),\n",
       "  ('firmware', 1),\n",
       "  ('first', 1),\n",
       "  ('free', 6),\n",
       "  ('get', 1),\n",
       "  ('give', 1),\n",
       "  ('go', 1),\n",
       "  ('hand', 6),\n",
       "  ('high', 1),\n",
       "  ('hope', 1),\n",
       "  ('important', 1),\n",
       "  ('introduce', 1),\n",
       "  ('keep', 1),\n",
       "  ('kitchen', 1),\n",
       "  ('lack', 1),\n",
       "  ('life', 1),\n",
       "  ('listener', 1),\n",
       "  ('little', 2),\n",
       "  ('lot', 1),\n",
       "  ('love', 1),\n",
       "  ('major', 1),\n",
       "  ('make', 1),\n",
       "  ('maximum', 1),\n",
       "  ('microphone', 1),\n",
       "  ('mind', 1),\n",
       "  ('minimal', 1),\n",
       "  ('mode', 2),\n",
       "  ('music', 2),\n",
       "  ('operation', 1),\n",
       "  ('option', 2),\n",
       "  ('original', 1),\n",
       "  ('owner', 2),\n",
       "  ('pick', 1),\n",
       "  ('power', 1),\n",
       "  ('question', 1),\n",
       "  ('quickly', 2),\n",
       "  ('read', 2),\n",
       "  ('regular', 1),\n",
       "  ('require', 1),\n",
       "  ('respond', 1),\n",
       "  ('review', 1),\n",
       "  ('risk', 1),\n",
       "  ('sell', 1),\n",
       "  ('set', 1),\n",
       "  ('setting', 1),\n",
       "  ('shortcoming', 1),\n",
       "  ('skeptical', 1),\n",
       "  ('soon', 1),\n",
       "  ('sound', 1),\n",
       "  ('start', 1),\n",
       "  ('stream', 1),\n",
       "  ('tap', 7),\n",
       "  ('thank', 1),\n",
       "  ('thing', 1),\n",
       "  ('think', 1),\n",
       "  ('though', 1),\n",
       "  ('thrill', 1),\n",
       "  ('time', 1),\n",
       "  ('today', 1),\n",
       "  ('toggle', 1),\n",
       "  ('touch', 1),\n",
       "  ('try', 2),\n",
       "  ('update', 2),\n",
       "  ('use', 4),\n",
       "  ('voice', 2),\n",
       "  ('want', 2),\n",
       "  ('well', 1),\n",
       "  ('whole', 1),\n",
       "  ('wonderful', 1)]]"
      ]
     },
     "execution_count": 10,
     "metadata": {},
     "output_type": "execute_result"
    }
   ],
   "source": [
    "# human-readable format of corpus (term-frequency)\n",
    "[[(id2word[id], freq) for id, freq in cp] for cp in corpus[:1]]"
   ]
  },
  {
   "cell_type": "markdown",
   "id": "7d29d4f3",
   "metadata": {
    "papermill": {
     "duration": 0.041029,
     "end_time": "2022-01-23T18:12:09.798472",
     "exception": false,
     "start_time": "2022-01-23T18:12:09.757443",
     "status": "completed"
    },
    "tags": []
   },
   "source": [
    "### Building the Topic Model"
   ]
  },
  {
   "cell_type": "markdown",
   "id": "9150efa3",
   "metadata": {
    "papermill": {
     "duration": 0.041201,
     "end_time": "2022-01-23T18:12:09.881218",
     "exception": false,
     "start_time": "2022-01-23T18:12:09.840017",
     "status": "completed"
    },
    "tags": []
   },
   "source": [
    "Let's now build the topic model. We'll define 10 topics to start with. The hyperparameter `alpha` affects sparsity of the document-topic\n",
    "(theta) distributions, whose default value is 1. Similarly, the hyperparameter `eta` can also be specified, which affects the topic-word distribution's sparsity.\n",
    "\n"
   ]
  },
  {
   "cell_type": "code",
   "execution_count": 11,
   "id": "664e2e19",
   "metadata": {
    "execution": {
     "iopub.execute_input": "2022-01-23T18:12:09.968405Z",
     "iopub.status.busy": "2022-01-23T18:12:09.967789Z",
     "iopub.status.idle": "2022-01-23T18:12:09.970784Z",
     "shell.execute_reply": "2022-01-23T18:12:09.971399Z",
     "shell.execute_reply.started": "2022-01-23T17:33:09.401229Z"
    },
    "papermill": {
     "duration": 0.047902,
     "end_time": "2022-01-23T18:12:09.971548",
     "exception": false,
     "start_time": "2022-01-23T18:12:09.923646",
     "status": "completed"
    },
    "tags": []
   },
   "outputs": [],
   "source": [
    "# help(gensim.models.ldamodel.LdaModel)"
   ]
  },
  {
   "cell_type": "code",
   "execution_count": 12,
   "id": "5ddbf7b1",
   "metadata": {
    "execution": {
     "iopub.execute_input": "2022-01-23T18:12:10.057949Z",
     "iopub.status.busy": "2022-01-23T18:12:10.057276Z",
     "iopub.status.idle": "2022-01-23T18:12:12.177816Z",
     "shell.execute_reply": "2022-01-23T18:12:12.178348Z",
     "shell.execute_reply.started": "2022-01-23T17:33:09.412187Z"
    },
    "papermill": {
     "duration": 2.164952,
     "end_time": "2022-01-23T18:12:12.178508",
     "exception": false,
     "start_time": "2022-01-23T18:12:10.013556",
     "status": "completed"
    },
    "tags": []
   },
   "outputs": [],
   "source": [
    "# Build LDA model\n",
    "lda_model = gensim.models.ldamodel.LdaModel(corpus=corpus,\n",
    "                                           id2word=id2word,\n",
    "                                           num_topics=10, \n",
    "                                           random_state=100,\n",
    "                                           update_every=1,\n",
    "                                           chunksize=100,\n",
    "                                           passes=10,\n",
    "                                           alpha='auto',\n",
    "                                           per_word_topics=True)"
   ]
  },
  {
   "cell_type": "markdown",
   "id": "2d4ea371",
   "metadata": {
    "papermill": {
     "duration": 0.040748,
     "end_time": "2022-01-23T18:12:12.260756",
     "exception": false,
     "start_time": "2022-01-23T18:12:12.220008",
     "status": "completed"
    },
    "tags": []
   },
   "source": [
    "Let's now print the topics found in the dataset."
   ]
  },
  {
   "cell_type": "code",
   "execution_count": 13,
   "id": "66a17484",
   "metadata": {
    "execution": {
     "iopub.execute_input": "2022-01-23T18:12:12.344928Z",
     "iopub.status.busy": "2022-01-23T18:12:12.344323Z",
     "iopub.status.idle": "2022-01-23T18:12:12.359106Z",
     "shell.execute_reply": "2022-01-23T18:12:12.359570Z",
     "shell.execute_reply.started": "2022-01-23T17:33:11.719828Z"
    },
    "papermill": {
     "duration": 0.058261,
     "end_time": "2022-01-23T18:12:12.359710",
     "exception": false,
     "start_time": "2022-01-23T18:12:12.301449",
     "status": "completed"
    },
    "tags": []
   },
   "outputs": [
    {
     "name": "stdout",
     "output_type": "stream",
     "text": [
      "[(0,\n",
      "  '0.030*\"use\" + 0.027*\"say\" + 0.023*\"great\" + 0.022*\"get\" + 0.021*\"music\" + '\n",
      "  '0.020*\"buy\" + 0.018*\"alexa\" + 0.017*\"enjoy\" + 0.015*\"find\" + '\n",
      "  '0.014*\"device\"'),\n",
      " (1,\n",
      "  '0.050*\"beat\" + 0.035*\"useful\" + 0.023*\"additional\" + 0.019*\"store\" + '\n",
      "  '0.015*\"walk\" + 0.012*\"piece\" + 0.007*\"chagrin\" + 0.007*\"cut\" + '\n",
      "  '0.007*\"around\" + 0.007*\"procrastinated\"'),\n",
      " (2,\n",
      "  '0.061*\"easy\" + 0.049*\"use\" + 0.039*\"music\" + 0.032*\"question\" + '\n",
      "  '0.031*\"great\" + 0.027*\"fun\" + 0.025*\"play\" + 0.025*\"ask\" + 0.023*\"really\" + '\n",
      "  '0.023*\"tap\"'),\n",
      " (3,\n",
      "  '0.051*\"know\" + 0.047*\"overall\" + 0.021*\"fire\" + 0.019*\"application\" + '\n",
      "  '0.018*\"backyard\" + 0.015*\"podcast\" + 0.014*\"request\" + 0.014*\"continue\" + '\n",
      "  '0.014*\"calendar\" + 0.011*\"playback\"'),\n",
      " (4,\n",
      "  '0.051*\"love\" + 0.033*\"buy\" + 0.032*\"connect\" + 0.025*\"purchase\" + '\n",
      "  '0.023*\"gift\" + 0.019*\"tap\" + 0.016*\"give\" + 0.016*\"charge\" + '\n",
      "  '0.015*\"excellent\" + 0.015*\"stream\"'),\n",
      " (5,\n",
      "  '0.030*\"price\" + 0.029*\"worth\" + 0.018*\"build\" + 0.018*\"hype\" + 0.018*\"pill\" '\n",
      "  '+ 0.018*\"therefore\" + 0.014*\"less\" + 0.012*\"entertain\" + 0.012*\"surprise\" + '\n",
      "  '0.012*\"pleasantly\"'),\n",
      " (6,\n",
      "  '0.034*\"product\" + 0.029*\"bedroom\" + 0.026*\"version\" + 0.026*\"buy\" + '\n",
      "  '0.023*\"portability\" + 0.023*\"impressed\" + 0.021*\"figure\" + '\n",
      "  '0.021*\"technology\" + 0.020*\"ok\" + 0.019*\"computer\"'),\n",
      " (7,\n",
      "  '0.038*\"functionality\" + 0.037*\"definitely\" + 0.035*\"pleased\" + '\n",
      "  '0.032*\"wherever\" + 0.025*\"check\" + 0.013*\"trip\" + 0.011*\"exactly\" + '\n",
      "  '0.011*\"outdoor\" + 0.008*\"wonderfully\" + 0.007*\"want\"'),\n",
      " (8,\n",
      "  '0.063*\"echo\" + 0.057*\"tap\" + 0.030*\"alexa\" + 0.029*\"use\" + 0.020*\"button\" + '\n",
      "  '0.020*\"dot\" + 0.019*\"portable\" + 0.018*\"speaker\" + 0.016*\"great\" + '\n",
      "  '0.015*\"able\"'),\n",
      " (9,\n",
      "  '0.064*\"sound\" + 0.052*\"good\" + 0.051*\"great\" + 0.045*\"speaker\" + '\n",
      "  '0.028*\"well\" + 0.025*\"tap\" + 0.024*\"quality\" + 0.023*\"amazon\" + '\n",
      "  '0.022*\"product\" + 0.019*\"alexa\"')]\n"
     ]
    }
   ],
   "source": [
    "# print the 10 topics\n",
    "pprint.pprint(lda_model.print_topics())\n",
    "doc_lda = lda_model[corpus]"
   ]
  },
  {
   "cell_type": "markdown",
   "id": "f2a08b91",
   "metadata": {
    "papermill": {
     "duration": 0.041543,
     "end_time": "2022-01-23T18:12:12.442532",
     "exception": false,
     "start_time": "2022-01-23T18:12:12.400989",
     "status": "completed"
    },
    "tags": []
   },
   "source": [
    "Let's now evaluate the model using coherence score."
   ]
  },
  {
   "cell_type": "code",
   "execution_count": 14,
   "id": "3fd2d2e9",
   "metadata": {
    "execution": {
     "iopub.execute_input": "2022-01-23T18:12:12.528508Z",
     "iopub.status.busy": "2022-01-23T18:12:12.527935Z",
     "iopub.status.idle": "2022-01-23T18:12:13.300098Z",
     "shell.execute_reply": "2022-01-23T18:12:13.299397Z",
     "shell.execute_reply.started": "2022-01-23T17:33:11.740151Z"
    },
    "papermill": {
     "duration": 0.81719,
     "end_time": "2022-01-23T18:12:13.300208",
     "exception": false,
     "start_time": "2022-01-23T18:12:12.483018",
     "status": "completed"
    },
    "tags": []
   },
   "outputs": [
    {
     "name": "stdout",
     "output_type": "stream",
     "text": [
      "\n",
      "Coherence Score:  0.43460377264509686\n"
     ]
    }
   ],
   "source": [
    "# coherence score\n",
    "coherence_model_lda = CoherenceModel(model=lda_model, texts=data_lemmatized, dictionary=id2word, coherence='c_v')\n",
    "coherence_lda = coherence_model_lda.get_coherence()\n",
    "print('\\nCoherence Score: ', coherence_lda)"
   ]
  },
  {
   "cell_type": "markdown",
   "id": "98ab2e44",
   "metadata": {
    "papermill": {
     "duration": 0.041103,
     "end_time": "2022-01-23T18:12:13.368165",
     "exception": false,
     "start_time": "2022-01-23T18:12:13.327062",
     "status": "completed"
    },
    "tags": []
   },
   "source": [
    "Now lets visualise the topics. The `pyLDAvis` library comes with excellent interactive visualisation capabilities."
   ]
  },
  {
   "cell_type": "code",
   "execution_count": 15,
   "id": "231e333b",
   "metadata": {
    "execution": {
     "iopub.execute_input": "2022-01-23T18:12:13.455862Z",
     "iopub.status.busy": "2022-01-23T18:12:13.455268Z",
     "iopub.status.idle": "2022-01-23T18:12:16.024515Z",
     "shell.execute_reply": "2022-01-23T18:12:16.025061Z",
     "shell.execute_reply.started": "2022-01-23T17:33:12.547735Z"
    },
    "papermill": {
     "duration": 2.614073,
     "end_time": "2022-01-23T18:12:16.025218",
     "exception": false,
     "start_time": "2022-01-23T18:12:13.411145",
     "status": "completed"
    },
    "tags": []
   },
   "outputs": [
    {
     "name": "stderr",
     "output_type": "stream",
     "text": [
      "/opt/conda/lib/python3.7/site-packages/pyLDAvis/_prepare.py:248: FutureWarning: In a future version of pandas all arguments of DataFrame.drop except for the argument 'labels' will be keyword-only\n",
      "  by='saliency', ascending=False).head(R).drop('saliency', 1)\n"
     ]
    },
    {
     "data": {
      "text/html": [
       "\n",
       "<link rel=\"stylesheet\" type=\"text/css\" href=\"https://cdn.jsdelivr.net/gh/bmabey/pyLDAvis@3.2.2/pyLDAvis/js/ldavis.v1.0.0.css\">\n",
       "\n",
       "\n",
       "<div id=\"ldavis_el191401508480484649526985413\"></div>\n",
       "<script type=\"text/javascript\">\n",
       "\n",
       "var ldavis_el191401508480484649526985413_data = {\"mdsDat\": {\"x\": [-0.22849733272437886, -0.228332216505232, -0.04877295087817954, -0.09316759137756828, -0.1505944032443755, 0.16043738235291471, 0.15901453759313292, 0.1522709917451842, 0.13297001840600225, 0.1446715646325004], \"y\": [-0.2006264334072651, -0.07597729480056285, 0.1819639133967251, 0.07885019493490991, 0.16304800141978126, -0.049598008740031674, -0.02143198380197041, -0.03680744534471556, -0.02203253121550411, -0.017388412441366907], \"topics\": [1, 2, 3, 4, 5, 6, 7, 8, 9, 10], \"cluster\": [1, 1, 1, 1, 1, 1, 1, 1, 1, 1], \"Freq\": [28.832654280398724, 28.726732207380962, 13.122652250742304, 13.082180337584074, 10.764120091499942, 1.8872418972470453, 1.275890341371013, 0.9687396903348365, 0.7142163158162798, 0.6255725876248275]}, \"tinfo\": {\"Term\": [\"echo\", \"good\", \"product\", \"easy\", \"buy\", \"use\", \"price\", \"sound\", \"love\", \"great\", \"portability\", \"connect\", \"question\", \"say\", \"music\", \"ask\", \"speaker\", \"well\", \"fun\", \"dot\", \"want\", \"recommend\", \"enjoy\", \"purchase\", \"play\", \"gift\", \"really\", \"item\", \"quality\", \"portable\", \"home\", \"good\", \"room\", \"pretty\", \"size\", \"control\", \"loud\", \"perfect\", \"recommend\", \"move\", \"volume\", \"hit\", \"carry\", \"base\", \"full\", \"expensive\", \"extra\", \"rechargeable\", \"capability\", \"activation\", \"sale\", \"part\", \"office\", \"enable\", \"live\", \"timer\", \"highly\", \"fi\", \"fact\", \"bluetooth\", \"product\", \"well\", \"quality\", \"always\", \"sound\", \"come\", \"price\", \"speaker\", \"want\", \"listen\", \"great\", \"make\", \"amazon\", \"portable\", \"work\", \"device\", \"alexa\", \"tap\", \"get\", \"need\", \"music\", \"love\", \"echo\", \"able\", \"dot\", \"hand\", \"talk\", \"wish\", \"push\", \"free\", \"function\", \"phone\", \"anywhere\", \"wifi\", \"put\", \"outside\", \"start\", \"option\", \"unit\", \"plug\", \"press\", \"actually\", \"access\", \"last\", \"touch\", \"app\", \"call\", \"place\", \"apple\", \"decide\", \"original\", \"disappoint\", \"high\", \"echo\", \"even\", \"go\", \"button\", \"nice\", \"news\", \"tap\", \"take\", \"time\", \"alexa\", \"portable\", \"use\", \"house\", \"set\", \"battery\", \"speaker\", \"work\", \"get\", \"great\", \"need\", \"buy\", \"also\", \"sound\", \"love\", \"music\", \"amazon\", \"life\", \"hold\", \"give\", \"speak\", \"daughter\", \"operate\", \"wireless\", \"decent\", \"review\", \"microphone\", \"mobile\", \"old\", \"month\", \"read\", \"cool\", \"stream\", \"case\", \"movie\", \"hour\", \"away\", \"member\", \"produce\", \"low\", \"blue\", \"simply\", \"tooth\", \"pool\", \"camping\", \"people\", \"gadget\", \"sit\", \"gift\", \"connect\", \"purchase\", \"light\", \"year\", \"excellent\", \"love\", \"buy\", \"charge\", \"small\", \"day\", \"battery\", \"tap\", \"little\", \"portability\", \"device\", \"music\", \"really\", \"play\", \"much\", \"find\", \"still\", \"alarm\", \"radio\", \"understand\", \"say\", \"information\", \"service\", \"addition\", \"song\", \"skill\", \"mostly\", \"problem\", \"name\", \"many\", \"pay\", \"tell\", \"instead\", \"far\", \"network\", \"deck\", \"station\", \"spotify\", \"bose\", \"wife\", \"connection\", \"compact\", \"mean\", \"friend\", \"upgrade\", \"already\", \"enjoy\", \"activate\", \"family\", \"command\", \"smart\", \"use\", \"buy\", \"get\", \"small\", \"voice\", \"music\", \"great\", \"device\", \"play\", \"alexa\", \"day\", \"also\", \"love\", \"tap\", \"fun\", \"item\", \"lot\", \"first\", \"favorite\", \"easy\", \"learn\", \"return\", \"super\", \"sync\", \"glad\", \"value\", \"several\", \"everyday\", \"never\", \"travel\", \"regular\", \"event\", \"personal\", \"help\", \"difficult\", \"physically\", \"guess\", \"question\", \"course\", \"lack\", \"science\", \"dual\", \"moment\", \"cooking\", \"kid\", \"ask\", \"request\", \"pair\", \"little\", \"really\", \"play\", \"use\", \"enjoy\", \"music\", \"awesome\", \"like\", \"weather\", \"set\", \"great\", \"work\", \"excellent\", \"tap\", \"love\", \"time\", \"get\", \"thing\", \"bedroom\", \"version\", \"impressed\", \"figure\", \"technology\", \"ok\", \"computer\", \"yet\", \"cell\", \"useless\", \"ready\", \"otherwise\", \"compliment\", \"avail\", \"follow\", \"unable\", \"box\", \"versatile\", \"interesting\", \"research\", \"potential\", \"debate\", \"unique\", \"commercial\", \"chart\", \"idea\", \"recharge\", \"announcement\", \"error\", \"fishing\", \"cheap\", \"fantastic\", \"happy\", \"product\", \"portability\", \"buy\", \"interface\", \"know\", \"overall\", \"fire\", \"application\", \"backyard\", \"podcast\", \"continue\", \"calendar\", \"playback\", \"recent\", \"knowledge\", \"reading\", \"premium\", \"audible\", \"example\", \"improve\", \"thank\", \"glitch\", \"minor\", \"promptly\", \"repository\", \"better\", \"episode\", \"mess\", \"manage\", \"advanced\", \"membership\", \"explore\", \"input\", \"mariachi\", \"change\", \"request\", \"respond\", \"app\", \"word\", \"hype\", \"pill\", \"therefore\", \"less\", \"entertain\", \"surprise\", \"pleasantly\", \"alone\", \"penny\", \"fast\", \"rate\", \"pull\", \"informative\", \"build\", \"balanced\", \"beef\", \"multipurpose\", \"pass\", \"scream\", \"seriously\", \"sweet\", \"community\", \"environment\", \"exist\", \"favor\", \"innovation\", \"interaction\", \"leader\", \"naturally\", \"opportunity\", \"worth\", \"price\", \"pair\", \"functionality\", \"definitely\", \"pleased\", \"wherever\", \"check\", \"trip\", \"exactly\", \"outdoor\", \"wonderfully\", \"boyfriend\", \"camera\", \"fall\", \"school\", \"yearbook\", \"kink\", \"programming\", \"lead\", \"luck\", \"pf\", \"alezxa\", \"algorithm\", \"boughy\", \"believe\", \"compatibility\", \"exceed\", \"rake\", \"shop\", \"expectation\", \"miss\", \"search\", \"want\", \"recommend\", \"love\", \"product\", \"beat\", \"useful\", \"additional\", \"store\", \"walk\", \"piece\", \"chagrin\", \"cut\", \"around\", \"channel\", \"hvac\", \"onboard\", \"procrastinated\", \"random\", \"snap\", \"trivium\", \"forget\", \"detail\", \"nite\", \"competitor\", \"frequently\", \"playing\", \"ijnfo\", \"planning\", \"upcoming\", \"report\", \"rely\", \"cheap\", \"shop\", \"rake\", \"side\", \"tune\"], \"Freq\": [187.0, 137.0, 63.0, 62.0, 96.0, 176.0, 33.0, 212.0, 152.0, 229.0, 42.0, 47.0, 35.0, 32.0, 137.0, 38.0, 173.0, 84.0, 27.0, 53.0, 55.0, 36.0, 38.0, 38.0, 61.0, 31.0, 47.0, 22.0, 75.0, 93.0, 30.749641191954574, 134.4942670783197, 25.21012191405034, 20.38249810352769, 26.171141548365565, 19.601253563478465, 18.253635046413354, 17.69602130928031, 34.99278305726325, 15.514439341742733, 15.084033202996881, 14.904464032511315, 14.856858088424557, 13.762629994497091, 12.485659081232699, 11.955470757704102, 11.25133377157937, 10.390924862434039, 9.9290675001763, 9.798228375355379, 9.649163178991714, 9.07248392808158, 8.63359554655647, 8.551937077084432, 8.192902303661695, 8.15896909293743, 7.999257637125441, 7.691690484330735, 7.567208953401556, 48.019283989371004, 55.977118846746244, 73.96146009759084, 63.726016168597276, 19.35312994385445, 166.2167527748517, 14.387252541098986, 28.352363754945564, 117.67575967644045, 41.501738195520595, 45.092525637585, 131.74075119169456, 33.940086155899806, 59.16598667679664, 43.23261720745988, 41.7945908828871, 31.69872451490289, 49.22390418803888, 64.68246187235421, 35.02721835861687, 24.632064790785844, 34.72154994420938, 32.1320487147491, 23.483220865022453, 37.76613112626483, 52.251935654266184, 30.458157041787505, 27.80493617185471, 26.206562362750702, 19.90268781546957, 18.574703966583844, 16.550797526497195, 36.75628328458905, 16.012671505189463, 15.18684423257482, 15.362104158718186, 15.055231835259644, 14.808891101025973, 14.001411817704449, 13.826370334372504, 13.973825266414432, 13.817589174726596, 13.536431552831463, 13.421665803055763, 16.33800405651274, 15.206750286340572, 23.82638052469957, 9.099088072103934, 8.674499210615947, 8.389771678023646, 8.381330854691665, 8.213757460404372, 7.649517868200774, 7.584747160881309, 162.97762787303108, 21.192901574707367, 28.480730645879373, 53.02761762956259, 24.390718476511626, 14.575580902896874, 146.94763300808935, 32.545924815390265, 36.92911620247954, 78.69182873187412, 50.2241732761547, 75.02924035307741, 21.004483184625116, 22.993676527557383, 23.47822130301583, 45.598182100736246, 34.25480172228133, 34.689828770929495, 40.686482210373626, 22.957931559663965, 27.09810833621173, 22.33199997622896, 30.839920250439448, 28.275293026367954, 26.07868280309149, 22.65669288838067, 16.88114793722011, 15.521892769205955, 19.211530573259626, 15.05389812995763, 14.905245549441702, 14.123252132070249, 13.57000427090118, 11.645080264404005, 11.459157033629214, 10.646113929514682, 9.743601197154632, 9.741747698453812, 9.463231126275012, 8.940954666062135, 8.251924518003152, 17.72217765883865, 7.328829790700288, 7.2925608677285725, 6.361205335983977, 5.7242424032139985, 5.5240899037098234, 5.179215100976499, 5.109230364040655, 5.0834181067020365, 4.999445022789413, 4.726378133733045, 4.65580349685375, 4.310492884863139, 4.240409739385326, 4.2401624775866, 10.318347879066478, 27.08349722983658, 38.296917383658624, 29.59440909567265, 9.556910545144998, 8.111303948960234, 18.10755763796936, 60.7538326648682, 39.597987467531006, 18.443927406658197, 15.884231366807185, 11.558059547886344, 14.857243130678919, 22.88033333183399, 10.785459322324702, 11.273196313886054, 12.293566644480515, 13.77873292322807, 11.288985785269608, 10.622395541321131, 9.947843302061154, 17.130633403825072, 16.41791706853302, 14.922271969061208, 13.540486971686848, 12.97043129973352, 31.392308369347028, 11.139543974047113, 9.775226619842293, 9.596715023146661, 9.367459214049122, 9.086312160541155, 8.94056379915553, 8.896531949916094, 8.580399046128084, 8.340674302819563, 8.10474899998776, 8.049028636265703, 7.9377934622337545, 7.796620587896976, 7.785678441151574, 7.618620676299539, 7.60963293579386, 7.376040169542874, 7.290191941129333, 7.04935094386331, 7.007384521690487, 6.89335623952854, 6.590725007193018, 7.000925527840873, 6.091276932318155, 10.755677923302617, 20.61454719443809, 15.388396758019123, 10.514934206662137, 15.397143220589133, 10.94345811021948, 35.994251351476485, 24.000598874187023, 25.38030415468537, 14.198753637077498, 16.531906878131192, 24.650666486629365, 26.772129391988656, 16.95925571966926, 15.769856624703577, 21.000734789602323, 11.077164559143817, 12.311711757306442, 13.409664865829459, 13.223958899708073, 26.60301804573311, 21.452199120341014, 20.972247083182094, 15.676029805749767, 10.334263844521113, 59.35565921011899, 9.994203906807119, 8.402799226856478, 8.345927813717081, 7.720193035990829, 7.4934445049616825, 6.169320543446926, 6.083761083975331, 5.5809261716870635, 5.509422670097138, 5.428988692468115, 5.140518217309326, 5.065296095886025, 4.984988740360048, 4.7473742240023915, 4.6742164950805325, 4.5820166107477815, 4.56821706262478, 30.777723458730325, 3.9843064699781268, 3.944209772161509, 3.5415236728355866, 3.541409486831947, 3.541409486831947, 3.539651926819493, 11.565709018820527, 24.113925966239744, 6.524447154757972, 4.996035614407195, 16.574977999661392, 22.259720729192058, 24.134413422512544, 47.92781905042544, 17.343429454174082, 37.633416748386715, 8.614874969473405, 8.935136636932606, 10.121076540728163, 12.755142788216554, 29.980177862712097, 18.898274715201048, 10.788811870034685, 22.235863316091056, 17.544311802881765, 12.36009720225495, 14.596486837369167, 10.24442365352298, 4.995088949832706, 4.490064171941854, 3.843062226054017, 3.6134288169359245, 3.606754142560459, 3.4564743849751776, 3.2865318346214614, 3.1866923940261778, 3.1462802630930176, 2.7771770496390844, 2.7108330824907627, 2.4245267848333687, 2.2013826777077488, 2.2011627363089374, 2.2011627363089374, 2.2011627363089374, 2.06467538174155, 1.4272825122371133, 1.2998988604136077, 1.2229215115714158, 1.1034594765815973, 1.0949573222850055, 0.9977518662643124, 0.9280411465501186, 0.82769236797864, 0.7950713479157772, 0.7390644679381252, 0.7239356077398539, 0.7239356077398539, 0.7239356077398539, 1.0503358586687532, 1.4022415417598915, 1.8609179909782143, 5.7221711308794205, 3.88239891173358, 4.407193360909665, 1.234066213409819, 5.919569822989876, 5.390984601751004, 2.361578631427686, 2.2090003874607014, 2.020847776236794, 1.7377867317749256, 1.6289046222406733, 1.628604018547898, 1.2807053090407963, 1.171269912895127, 1.1226732092740401, 1.1053953580793787, 0.964696534653206, 0.8516600584996301, 0.8476712168808931, 0.7603142185628338, 0.7425886243856913, 0.6646862768783464, 0.6646862768783464, 0.6646862768783464, 0.6646862768783464, 0.6646064625241126, 0.6646064625241126, 0.6646064625241126, 0.6429906556145931, 0.506748356977533, 0.506748356977533, 0.4908277250234333, 0.38967083021863597, 0.38967083021863597, 1.2316271463668371, 1.6670002440078289, 0.9128539758230754, 0.7752480256267774, 0.5639526822450623, 1.5874397808441685, 1.5874397808441685, 1.5874397808441685, 1.200018464061172, 1.0808021749419592, 1.0406321146956525, 1.0290254282507023, 0.9436471399364103, 0.9376953687214504, 0.869147520537711, 0.8180812909544326, 0.7578684457882079, 0.5970899175526794, 1.6071634883138315, 0.5222514004590475, 0.5222514004590475, 0.5222514004590475, 0.5222514004590475, 0.5222514004590475, 0.5222514004590475, 0.5222514004590475, 0.5222019922926432, 0.5222019922926432, 0.5222019922926432, 0.5222019922926432, 0.5222019922926432, 0.5222019922926432, 0.5222019922926432, 0.5222019922926432, 0.5222019922926432, 2.498125731785389, 2.582774211829532, 0.7396614957695782, 2.4757175749830824, 2.3520350956287466, 2.250314095630232, 2.05479478170627, 1.5959109079984921, 0.8206533914939, 0.7408591243337372, 0.7072556412654717, 0.51928694362475, 0.34637789074980707, 0.26631891393755897, 0.26631891393755897, 0.26631891393755897, 0.26631891393755897, 0.2662562021745961, 0.2662562021745961, 0.2661476418117255, 0.2661476418117255, 0.26605432430798653, 0.20664645106191823, 0.20664645106191823, 0.20664645106191823, 0.20655919469507805, 0.16239011481802748, 0.16237445188010086, 0.16233885020222746, 0.1623160159191582, 0.15677159094097917, 0.21498908090462535, 0.29941977272764714, 0.4727398126922084, 0.3535681994494788, 0.3839018491889818, 0.20883413140921897, 2.840437892646029, 1.9684200469994175, 1.2703557675900043, 1.053855976410321, 0.844717484468276, 0.6895304559328121, 0.40809278536580007, 0.40809278536580007, 0.4080667666497788, 0.4078706801444912, 0.4078706801444912, 0.4078706801444912, 0.4078706801444912, 0.4078706801444912, 0.4078706801444912, 0.4078706801444912, 0.3946583498673581, 0.3411760117951, 0.3411760117951, 0.3110784283922269, 0.3110784283922269, 0.3110784283922269, 0.1856989139982959, 0.1856989139982959, 0.1856989139982959, 0.31047973510842425, 0.3107545873631217, 0.3110782181399762, 0.03040127635301887, 0.03040127635301887, 0.03053603819012854, 0.030501254583407172], \"Total\": [187.0, 137.0, 63.0, 62.0, 96.0, 176.0, 33.0, 212.0, 152.0, 229.0, 42.0, 47.0, 35.0, 32.0, 137.0, 38.0, 173.0, 84.0, 27.0, 53.0, 55.0, 36.0, 38.0, 38.0, 61.0, 31.0, 47.0, 22.0, 75.0, 93.0, 31.321217419357282, 137.19985435554375, 25.87968630161408, 20.954061846171697, 26.964218873733312, 20.212163206955623, 18.825243989118945, 18.267618824046867, 36.185367182306116, 16.086273673270405, 15.655663433590044, 15.476113593593222, 15.428489429671046, 14.334334111136823, 13.057245060751237, 12.52713834384646, 11.822981129367177, 10.962563145571716, 10.50075040155033, 10.369796777569483, 10.220798787152212, 9.64402631960609, 9.205181227198436, 9.123529419610074, 8.764593180120075, 8.73068215488911, 8.570845161582417, 8.263485195187826, 8.141833287467042, 51.788732138842725, 63.03023008351906, 84.58860827982625, 75.27754683042846, 21.561383751495388, 212.33393686305092, 16.043541913320883, 33.90171211696573, 173.63694696634053, 55.163413768563586, 63.100176925226386, 229.6117145078401, 45.730120230738464, 95.29174753721331, 93.94152967121974, 101.77398103217864, 69.39779998298205, 159.2755767577938, 270.1768298577109, 109.99432990032496, 50.11377422240196, 137.06962733281892, 152.67179759551212, 187.2170474390927, 38.350882269475484, 53.146139739679086, 31.04288374141715, 28.389677129575436, 26.79133136642616, 20.51586728723412, 19.159417116089624, 17.135565436713158, 38.05627874816526, 16.597381939347862, 15.771704956203218, 15.955074802811673, 15.639968396381603, 15.393635523070433, 14.588504187767395, 14.411117613274195, 14.564997828270428, 14.40231274924961, 14.12128503674289, 14.00645175633717, 17.104602942639126, 15.97303025499311, 25.136869634264954, 9.683818016818417, 9.259215313552673, 8.97451494928629, 8.966060860211352, 8.798463746713345, 8.234291953191779, 8.169507862461922, 187.2170474390927, 24.989586968278946, 35.25075673574801, 73.18211458934329, 30.346948187597174, 16.879295338741002, 270.1768298577109, 46.04435402390839, 54.235915966796995, 159.2755767577938, 93.94152967121974, 176.23554807360318, 26.669340627759922, 36.246817623438645, 38.83657004848643, 173.63694696634053, 101.77398103217864, 109.99432990032496, 229.6117145078401, 50.11377422240196, 96.04135330606059, 49.835504092422795, 212.33393686305092, 152.67179759551212, 137.06962733281892, 95.29174753721331, 17.461207661916585, 16.101995476119118, 19.930889535337045, 15.633945594266407, 15.485429595695656, 14.703421995659667, 14.15010978010643, 12.225180972070781, 12.03927529157864, 11.226243107116701, 10.323661429776532, 10.321827747957316, 10.043313750605769, 9.521076461870205, 8.83197963408178, 19.113844794771904, 7.908946563140564, 7.872731524805309, 6.941263221715353, 6.304384052702039, 6.1041746446092615, 5.759355514845484, 5.689327697190589, 5.663437567992356, 5.579509249755558, 5.306407081954335, 5.235876683699455, 4.890691563824618, 4.820595007907653, 4.820460226022874, 11.801082907435472, 31.619095611968177, 47.38679576442204, 38.948293883127214, 11.864116009240309, 9.92196754906421, 29.38966245414155, 152.67179759551212, 96.04135330606059, 35.36837644734141, 32.57683461858624, 23.12021039447255, 38.83657004848643, 270.1768298577109, 27.85372538607512, 42.53921548084491, 69.39779998298205, 137.06962733281892, 47.37009952697316, 61.0031610733939, 31.62317179545548, 17.709538081769242, 16.99691651130078, 15.501294937152293, 14.119386807596507, 13.549399498123762, 32.92168616172591, 11.718575284673825, 10.35414429270181, 10.175600345574338, 9.946401893383472, 9.670349213002023, 9.519529718205627, 9.475493812900982, 9.15926445041013, 8.919623219695875, 8.683691618360314, 8.627981089153733, 8.516676479964799, 8.37549448382195, 8.364658667594776, 8.197607019459364, 8.188535043791132, 7.954964747907772, 7.869198776235385, 7.628528645803702, 7.586320524084596, 7.4726043761973475, 7.169884357909065, 7.6606018984740025, 6.670158693384538, 13.964350765433569, 38.450135199385315, 27.662785791788846, 15.833509675907308, 31.715250200599584, 17.4425005032426, 176.23554807360318, 96.04135330606059, 109.99432990032496, 32.57683461858624, 50.30792803479969, 137.06962733281892, 229.6117145078401, 69.39779998298205, 61.0031610733939, 159.2755767577938, 23.12021039447255, 49.835504092422795, 152.67179759551212, 270.1768298577109, 27.19021286556896, 22.04643000405647, 21.559443828623422, 16.2632513837389, 10.921457931800413, 62.731932872260494, 10.581344174549827, 8.990201096259126, 8.933149857094742, 8.307443535315379, 8.080593474406829, 6.756471196133906, 6.670945177562054, 6.168190975374183, 6.096585278943934, 6.016141069690614, 5.727676943697917, 5.652456451207151, 5.572159650112905, 5.334543192591491, 5.261409491440978, 5.169216451257664, 5.155613550901999, 35.015662877856386, 4.571589861341362, 4.5314532648408745, 4.128699730962569, 4.1286069751351375, 4.1286069751351375, 4.127093031926305, 13.810816853059118, 38.33973626667469, 8.729087056356015, 6.284167829865193, 27.85372538607512, 47.37009952697316, 61.0031610733939, 176.23554807360318, 38.450135199385315, 137.06962733281892, 14.21550631833344, 16.29974460530079, 21.40686027109533, 36.246817623438645, 229.6117145078401, 101.77398103217864, 29.38966245414155, 270.1768298577109, 152.67179759551212, 54.235915966796995, 109.99432990032496, 34.412861262197524, 5.6151541928948205, 5.110120398383731, 4.46320569385273, 4.233642767424826, 4.25080924645426, 4.076459648067737, 3.9068053408200423, 3.806677650969066, 3.7664985776787336, 3.39716728492178, 3.331134370545242, 3.044642713039221, 2.8213384223279614, 2.821164296921566, 2.821164296921566, 2.821164296921566, 2.6848930293825655, 2.0474770420878703, 1.9199166794397946, 1.8429245581639875, 1.7234938276250065, 1.7149550669925118, 1.6183066440291933, 1.5483647236812041, 1.4477535133646109, 1.4150759604750487, 1.3591075843122482, 1.3439615871642512, 1.3439615871642512, 1.3439615871642512, 1.9512345110133937, 3.3074084916659565, 6.115084207999185, 63.03023008351906, 42.53921548084491, 96.04135330606059, 4.327747828521739, 6.544030517888086, 6.015425043767162, 2.985980407082596, 2.833426583930814, 2.645297427637633, 2.362422700327711, 2.25337487865048, 2.2531615113036407, 1.9051075424196564, 1.7956612419184572, 1.747130069401888, 1.7299890885783453, 1.589140216475772, 1.4764918832035199, 1.4720383758172542, 1.384696209145945, 1.3672037654286457, 1.289125430367707, 1.289125430367707, 1.289125430367707, 1.289125430367707, 1.2890507238195994, 1.2890507238195994, 1.2890507238195994, 1.2673525384374744, 1.1311920180683508, 1.1311920180683508, 1.1151837816073784, 1.0140663872411546, 1.0140663872411546, 3.372059231819121, 8.729087056356015, 8.98904758055057, 25.136869634264954, 3.78563254655277, 2.222457636631607, 2.222457636631607, 2.222457636631607, 1.8351523193867327, 1.7158123899555564, 1.6756587158037628, 1.6642455109800736, 1.5787036830358774, 1.572686570030822, 1.5041318282406444, 1.453086325137825, 1.3928982082902837, 1.232110288208501, 3.328124633545788, 1.1572794492834215, 1.1572794492834215, 1.1572794492834215, 1.1572794492834215, 1.1572794492834215, 1.1572794492834215, 1.1572794492834215, 1.1572393743043947, 1.1572393743043947, 1.1572393743043947, 1.1572393743043947, 1.1572393743043947, 1.1572393743043947, 1.1572393743043947, 1.1572393743043947, 1.1572393743043947, 10.51975518122621, 33.90171211696573, 6.284167829865193, 3.115824777652043, 2.9922686666832536, 2.8905962197974477, 2.6949355837306124, 2.2366224985650467, 1.4608700851207639, 1.3809196087386655, 1.3474997420572539, 1.1594201870537966, 0.9864710004816271, 0.9063668509350638, 0.9063668509350638, 0.9063668509350638, 0.9063668509350638, 0.9063227397336673, 0.9063227397336673, 0.9062462821184813, 0.9062462821184813, 0.9061771142176669, 0.8467092284481985, 0.8467092284481985, 0.8467092284481985, 0.8466250718208292, 0.8024272570572226, 0.8024138790957924, 0.8023837165541887, 0.802371878901047, 1.2009566733086854, 2.233079932840527, 4.228957479743954, 55.163413768563586, 36.185367182306116, 152.67179759551212, 63.03023008351906, 3.4839984402965953, 2.6121328848258756, 1.9138385730412975, 1.6973865751347446, 1.4882778135640544, 1.3330075951888132, 1.051653546883796, 1.051653546883796, 1.0516342953481441, 1.051588345385275, 1.051588345385275, 1.051588345385275, 1.051588345385275, 1.051588345385275, 1.051588345385275, 1.051588345385275, 1.038185855857647, 0.9846599424753277, 0.9846599424753277, 0.9546715821083246, 0.9546715821083246, 0.9546715821083246, 0.8291992551062897, 0.8291992551062897, 0.8291992551062897, 1.7562853112132097, 1.8208066077020901, 1.9512345110133937, 0.802371878901047, 0.8023837165541887, 3.9984945117185715, 3.6280901448711647], \"Category\": [\"Default\", \"Default\", \"Default\", \"Default\", \"Default\", \"Default\", \"Default\", \"Default\", \"Default\", \"Default\", \"Default\", \"Default\", \"Default\", \"Default\", \"Default\", \"Default\", \"Default\", \"Default\", \"Default\", \"Default\", \"Default\", \"Default\", \"Default\", \"Default\", \"Default\", \"Default\", \"Default\", \"Default\", \"Default\", \"Default\", \"Topic1\", \"Topic1\", \"Topic1\", \"Topic1\", \"Topic1\", \"Topic1\", \"Topic1\", \"Topic1\", \"Topic1\", \"Topic1\", \"Topic1\", \"Topic1\", \"Topic1\", \"Topic1\", \"Topic1\", \"Topic1\", \"Topic1\", \"Topic1\", \"Topic1\", \"Topic1\", \"Topic1\", \"Topic1\", \"Topic1\", \"Topic1\", \"Topic1\", \"Topic1\", \"Topic1\", \"Topic1\", \"Topic1\", \"Topic1\", \"Topic1\", \"Topic1\", \"Topic1\", \"Topic1\", \"Topic1\", \"Topic1\", \"Topic1\", \"Topic1\", \"Topic1\", \"Topic1\", \"Topic1\", \"Topic1\", \"Topic1\", \"Topic1\", \"Topic1\", \"Topic1\", \"Topic1\", \"Topic1\", \"Topic1\", \"Topic1\", \"Topic1\", \"Topic1\", \"Topic1\", \"Topic2\", \"Topic2\", \"Topic2\", \"Topic2\", \"Topic2\", \"Topic2\", \"Topic2\", \"Topic2\", \"Topic2\", \"Topic2\", \"Topic2\", \"Topic2\", \"Topic2\", \"Topic2\", \"Topic2\", \"Topic2\", \"Topic2\", \"Topic2\", \"Topic2\", \"Topic2\", \"Topic2\", \"Topic2\", \"Topic2\", \"Topic2\", \"Topic2\", \"Topic2\", \"Topic2\", \"Topic2\", \"Topic2\", \"Topic2\", \"Topic2\", \"Topic2\", \"Topic2\", \"Topic2\", \"Topic2\", \"Topic2\", \"Topic2\", \"Topic2\", \"Topic2\", \"Topic2\", \"Topic2\", \"Topic2\", \"Topic2\", \"Topic2\", \"Topic2\", \"Topic2\", \"Topic2\", \"Topic2\", \"Topic2\", \"Topic2\", \"Topic2\", \"Topic2\", \"Topic2\", \"Topic2\", \"Topic2\", \"Topic2\", \"Topic3\", \"Topic3\", \"Topic3\", \"Topic3\", \"Topic3\", \"Topic3\", \"Topic3\", \"Topic3\", \"Topic3\", \"Topic3\", \"Topic3\", \"Topic3\", \"Topic3\", \"Topic3\", \"Topic3\", \"Topic3\", \"Topic3\", \"Topic3\", \"Topic3\", \"Topic3\", \"Topic3\", \"Topic3\", \"Topic3\", \"Topic3\", \"Topic3\", \"Topic3\", \"Topic3\", \"Topic3\", \"Topic3\", \"Topic3\", \"Topic3\", \"Topic3\", \"Topic3\", \"Topic3\", \"Topic3\", \"Topic3\", \"Topic3\", \"Topic3\", \"Topic3\", \"Topic3\", \"Topic3\", \"Topic3\", \"Topic3\", \"Topic3\", \"Topic3\", \"Topic3\", \"Topic3\", \"Topic3\", \"Topic3\", \"Topic3\", \"Topic3\", \"Topic4\", \"Topic4\", \"Topic4\", \"Topic4\", \"Topic4\", \"Topic4\", \"Topic4\", \"Topic4\", \"Topic4\", \"Topic4\", \"Topic4\", \"Topic4\", \"Topic4\", \"Topic4\", \"Topic4\", \"Topic4\", \"Topic4\", \"Topic4\", \"Topic4\", \"Topic4\", \"Topic4\", \"Topic4\", \"Topic4\", \"Topic4\", \"Topic4\", \"Topic4\", \"Topic4\", \"Topic4\", \"Topic4\", \"Topic4\", \"Topic4\", \"Topic4\", \"Topic4\", \"Topic4\", \"Topic4\", \"Topic4\", \"Topic4\", \"Topic4\", \"Topic4\", \"Topic4\", \"Topic4\", \"Topic4\", \"Topic4\", \"Topic4\", \"Topic4\", \"Topic4\", \"Topic4\", \"Topic4\", \"Topic4\", \"Topic4\", \"Topic5\", \"Topic5\", \"Topic5\", \"Topic5\", \"Topic5\", \"Topic5\", \"Topic5\", \"Topic5\", \"Topic5\", \"Topic5\", \"Topic5\", \"Topic5\", \"Topic5\", \"Topic5\", \"Topic5\", \"Topic5\", \"Topic5\", \"Topic5\", \"Topic5\", \"Topic5\", \"Topic5\", \"Topic5\", \"Topic5\", \"Topic5\", \"Topic5\", \"Topic5\", \"Topic5\", \"Topic5\", \"Topic5\", \"Topic5\", \"Topic5\", \"Topic5\", \"Topic5\", \"Topic5\", \"Topic5\", \"Topic5\", \"Topic5\", \"Topic5\", \"Topic5\", \"Topic5\", \"Topic5\", \"Topic5\", \"Topic5\", \"Topic5\", \"Topic5\", \"Topic5\", \"Topic5\", \"Topic5\", \"Topic5\", \"Topic5\", \"Topic5\", \"Topic5\", \"Topic6\", \"Topic6\", \"Topic6\", \"Topic6\", \"Topic6\", \"Topic6\", \"Topic6\", \"Topic6\", \"Topic6\", \"Topic6\", \"Topic6\", \"Topic6\", \"Topic6\", \"Topic6\", \"Topic6\", \"Topic6\", \"Topic6\", \"Topic6\", \"Topic6\", \"Topic6\", \"Topic6\", \"Topic6\", \"Topic6\", \"Topic6\", \"Topic6\", \"Topic6\", \"Topic6\", \"Topic6\", \"Topic6\", \"Topic6\", \"Topic6\", \"Topic6\", \"Topic6\", \"Topic6\", \"Topic6\", \"Topic6\", \"Topic6\", \"Topic7\", \"Topic7\", \"Topic7\", \"Topic7\", \"Topic7\", \"Topic7\", \"Topic7\", \"Topic7\", \"Topic7\", \"Topic7\", \"Topic7\", \"Topic7\", \"Topic7\", \"Topic7\", \"Topic7\", \"Topic7\", \"Topic7\", \"Topic7\", \"Topic7\", \"Topic7\", \"Topic7\", \"Topic7\", \"Topic7\", \"Topic7\", \"Topic7\", \"Topic7\", \"Topic7\", \"Topic7\", \"Topic7\", \"Topic7\", \"Topic7\", \"Topic7\", \"Topic7\", \"Topic7\", \"Topic7\", \"Topic8\", \"Topic8\", \"Topic8\", \"Topic8\", \"Topic8\", \"Topic8\", \"Topic8\", \"Topic8\", \"Topic8\", \"Topic8\", \"Topic8\", \"Topic8\", \"Topic8\", \"Topic8\", \"Topic8\", \"Topic8\", \"Topic8\", \"Topic8\", \"Topic8\", \"Topic8\", \"Topic8\", \"Topic8\", \"Topic8\", \"Topic8\", \"Topic8\", \"Topic8\", \"Topic8\", \"Topic8\", \"Topic8\", \"Topic8\", \"Topic8\", \"Topic8\", \"Topic8\", \"Topic9\", \"Topic9\", \"Topic9\", \"Topic9\", \"Topic9\", \"Topic9\", \"Topic9\", \"Topic9\", \"Topic9\", \"Topic9\", \"Topic9\", \"Topic9\", \"Topic9\", \"Topic9\", \"Topic9\", \"Topic9\", \"Topic9\", \"Topic9\", \"Topic9\", \"Topic9\", \"Topic9\", \"Topic9\", \"Topic9\", \"Topic9\", \"Topic9\", \"Topic9\", \"Topic9\", \"Topic9\", \"Topic9\", \"Topic9\", \"Topic9\", \"Topic9\", \"Topic9\", \"Topic9\", \"Topic10\", \"Topic10\", \"Topic10\", \"Topic10\", \"Topic10\", \"Topic10\", \"Topic10\", \"Topic10\", \"Topic10\", \"Topic10\", \"Topic10\", \"Topic10\", \"Topic10\", \"Topic10\", \"Topic10\", \"Topic10\", \"Topic10\", \"Topic10\", \"Topic10\", \"Topic10\", \"Topic10\", \"Topic10\", \"Topic10\", \"Topic10\", \"Topic10\", \"Topic10\", \"Topic10\", \"Topic10\", \"Topic10\", \"Topic10\", \"Topic10\", \"Topic10\"], \"logprob\": [30.0, 29.0, 28.0, 27.0, 26.0, 25.0, 24.0, 23.0, 22.0, 21.0, 20.0, 19.0, 18.0, 17.0, 16.0, 15.0, 14.0, 13.0, 12.0, 11.0, 10.0, 9.0, 8.0, 7.0, 6.0, 5.0, 4.0, 3.0, 2.0, 1.0, -4.4379, -2.9622, -4.6365, -4.8491, -4.5991, -4.8882, -4.9594, -4.9904, -4.3086, -5.122, -5.1501, -5.1621, -5.1653, -5.2418, -5.3392, -5.3826, -5.4433, -5.5228, -5.5683, -5.5816, -5.5969, -5.6585, -5.7081, -5.7176, -5.7605, -5.7646, -5.7844, -5.8236, -5.8399, -3.9922, -3.8388, -3.5602, -3.7092, -4.9009, -2.7505, -5.1974, -4.519, -3.0958, -4.138, -4.055, -2.9829, -4.3392, -3.7834, -4.0972, -4.131, -4.4075, -3.9674, -3.6943, -4.3076, -4.6597, -4.3164, -4.3939, -4.7075, -4.2287, -3.904, -4.4437, -4.5349, -4.5941, -4.8692, -4.9383, -5.0536, -4.2558, -5.0867, -5.1396, -5.1282, -5.1484, -5.1649, -5.2209, -5.2335, -5.2229, -5.2341, -5.2547, -5.2632, -5.0666, -5.1383, -4.6893, -5.6519, -5.6997, -5.7331, -5.7341, -5.7543, -5.8254, -5.8339, -2.7665, -4.8064, -4.5109, -3.8893, -4.6659, -5.1807, -2.87, -4.3774, -4.2511, -3.4945, -3.9436, -3.5422, -4.8153, -4.7249, -4.704, -4.0402, -4.3263, -4.3136, -4.1542, -4.7264, -4.5606, -4.7541, -4.4313, -4.5181, -4.599, -4.7396, -4.2504, -4.3343, -4.1211, -4.365, -4.3749, -4.4288, -4.4687, -4.6217, -4.6378, -4.7114, -4.8, -4.8002, -4.8292, -4.8859, -4.9661, -4.2018, -5.0848, -5.0897, -5.2264, -5.3319, -5.3675, -5.4319, -5.4455, -5.4506, -5.4673, -5.5234, -5.5385, -5.6155, -5.6319, -5.632, -4.7427, -3.7777, -3.4312, -3.689, -4.8193, -4.9833, -4.1803, -2.9698, -3.3978, -4.1619, -4.3113, -4.6292, -4.3781, -3.9463, -4.6984, -4.6542, -4.5675, -4.4535, -4.6528, -4.7136, -4.7792, -4.2326, -4.2751, -4.3706, -4.4678, -4.5108, -3.6269, -4.663, -4.7937, -4.8121, -4.8363, -4.8667, -4.8829, -4.8878, -4.924, -4.9524, -4.9811, -4.988, -5.0019, -5.0198, -5.0212, -5.0429, -5.0441, -5.0753, -5.087, -5.1206, -5.1265, -5.1429, -5.1878, -5.1275, -5.2666, -4.6981, -4.0475, -4.3399, -4.7207, -4.3393, -4.6808, -3.4901, -3.8954, -3.8395, -4.4203, -4.2682, -3.8687, -3.7861, -4.2427, -4.3154, -4.0289, -4.6686, -4.563, -4.4775, -4.4915, -3.5974, -3.8126, -3.8353, -4.1263, -4.543, -2.7949, -4.5765, -4.7499, -4.7567, -4.8346, -4.8644, -5.0589, -5.0728, -5.1591, -5.172, -5.1867, -5.2413, -5.2561, -5.272, -5.3209, -5.3364, -5.3563, -5.3593, -3.4517, -5.4961, -5.5062, -5.6139, -5.6139, -5.6139, -5.6144, -4.4304, -3.6957, -5.0029, -5.2698, -4.0706, -3.7757, -3.6948, -3.0088, -4.0253, -3.2506, -4.725, -4.6885, -4.5638, -4.3325, -3.4779, -3.9394, -4.5, -3.7768, -4.0137, -4.364, -4.1977, -4.5517, -3.5289, -3.6355, -3.7911, -3.8527, -3.8546, -3.8971, -3.9475, -3.9784, -3.9911, -4.1159, -4.1401, -4.2517, -4.3483, -4.3484, -4.3484, -4.3484, -4.4124, -4.7816, -4.8751, -4.9361, -5.0389, -5.0467, -5.1396, -5.212, -5.3265, -5.3667, -5.4397, -5.4604, -5.4604, -5.4604, -5.0883, -4.7993, -4.5163, -3.393, -3.7809, -3.6541, -4.9271, -2.9676, -3.0612, -3.8866, -3.9534, -4.0424, -4.1933, -4.258, -4.2582, -4.4985, -4.5878, -4.6302, -4.6457, -4.7818, -4.9065, -4.9112, -5.0199, -5.0435, -5.1543, -5.1543, -5.1543, -5.1543, -5.1545, -5.1545, -5.1545, -5.1875, -5.4256, -5.4256, -5.4576, -5.6883, -5.6883, -4.5376, -4.2349, -4.8371, -5.0005, -5.3187, -4.0084, -4.0084, -4.0084, -4.2882, -4.3928, -4.4307, -4.4419, -4.5285, -4.5348, -4.6107, -4.6713, -4.7477, -4.9862, -3.996, -5.1201, -5.1201, -5.1201, -5.1201, -5.1201, -5.1201, -5.1201, -5.1202, -5.1202, -5.1202, -5.1202, -5.1202, -5.1202, -5.1202, -5.1202, -5.1202, -3.555, -3.5216, -4.7721, -3.2592, -3.3104, -3.3546, -3.4455, -3.6982, -4.3633, -4.4656, -4.512, -4.821, -5.2259, -5.4887, -5.4887, -5.4887, -5.4887, -5.489, -5.489, -5.4894, -5.4894, -5.4897, -5.7424, -5.7424, -5.7424, -5.7428, -5.9834, -5.9835, -5.9838, -5.9839, -6.0186, -5.7028, -5.3716, -4.9149, -5.2054, -5.1231, -5.7319, -2.9892, -3.3559, -3.7939, -3.9807, -4.2019, -4.4049, -4.9294, -4.9294, -4.9295, -4.93, -4.93, -4.93, -4.93, -4.93, -4.93, -4.93, -4.9629, -5.1085, -5.1085, -5.2009, -5.2009, -5.2009, -5.7168, -5.7168, -5.7168, -5.2028, -5.2019, -5.2009, -7.5264, -7.5264, -7.522, -7.5232], \"loglift\": [30.0, 29.0, 28.0, 27.0, 26.0, 25.0, 24.0, 23.0, 22.0, 21.0, 20.0, 19.0, 18.0, 17.0, 16.0, 15.0, 14.0, 13.0, 12.0, 11.0, 10.0, 9.0, 8.0, 7.0, 6.0, 5.0, 4.0, 3.0, 2.0, 1.0, 1.2252, 1.2237, 1.2174, 1.216, 1.2138, 1.213, 1.2128, 1.2119, 1.2101, 1.2075, 1.2065, 1.206, 1.2059, 1.203, 1.1989, 1.197, 1.1941, 1.1901, 1.1877, 1.187, 1.1861, 1.1826, 1.1796, 1.179, 1.1762, 1.1759, 1.1746, 1.172, 1.1705, 1.1681, 1.125, 1.1094, 1.0771, 1.1356, 0.9988, 1.1347, 1.0649, 0.8546, 0.9591, 0.9077, 0.6881, 0.9455, 0.7671, 0.4676, 0.3537, 0.4601, 0.0694, -0.1859, 0.0994, 0.5334, -0.1295, -0.3148, -0.8323, 1.232, 1.2304, 1.2283, 1.2265, 1.2253, 1.217, 1.2163, 1.2126, 1.2126, 1.2115, 1.2096, 1.2095, 1.2092, 1.2086, 1.2063, 1.2059, 1.2059, 1.2059, 1.205, 1.2047, 1.2015, 1.1982, 1.1938, 1.1851, 1.1821, 1.18, 1.1799, 1.1786, 1.1737, 1.1731, 1.1087, 1.0825, 1.0341, 0.9252, 1.0288, 1.1006, 0.6383, 0.9004, 0.863, 0.5422, 0.6212, 0.3934, 1.0086, 0.7922, 0.7441, -0.0898, 0.1584, 0.0934, -0.4832, 0.4667, -0.018, 0.4446, -0.682, -0.439, -0.412, -0.1891, 1.997, 1.9941, 1.9941, 1.993, 1.9926, 1.9906, 1.989, 1.9822, 1.9814, 1.9778, 1.973, 1.973, 1.9713, 1.968, 1.9629, 1.9552, 1.9547, 1.9543, 1.9436, 1.9343, 1.931, 1.9247, 1.9233, 1.9228, 1.9211, 1.9151, 1.9134, 1.9045, 1.9026, 1.9026, 1.8966, 1.876, 1.8179, 1.7562, 1.8146, 1.8293, 1.5465, 1.1094, 1.1448, 1.3797, 1.3126, 1.3375, 1.07, -0.438, 1.0821, 0.7028, 0.3001, -0.2665, 0.5967, 0.2829, 0.8743, 2.0007, 1.9993, 1.9959, 1.9921, 1.9902, 1.9864, 1.9832, 1.9764, 1.9753, 1.974, 1.9716, 1.9712, 1.9709, 1.9686, 1.9668, 1.9649, 1.9645, 1.9635, 1.9623, 1.9622, 1.9607, 1.9606, 1.9584, 1.9575, 1.955, 1.9545, 1.9532, 1.9497, 1.9439, 1.9431, 1.7728, 1.4106, 1.4474, 1.6246, 1.3113, 1.5678, 0.4455, 0.6472, 0.5675, 1.2035, 0.921, 0.3182, -0.1151, 0.6249, 0.6811, 0.0078, 1.2981, 0.6357, -0.3984, -0.9831, 2.2071, 2.2016, 2.2013, 2.1922, 2.1737, 2.1736, 2.1719, 2.1614, 2.161, 2.1556, 2.1535, 2.138, 2.1368, 2.1289, 2.1277, 2.1263, 2.1208, 2.1193, 2.1176, 2.1123, 2.1106, 2.1084, 2.108, 2.0999, 2.0915, 2.0902, 2.0755, 2.0755, 2.0755, 2.0754, 2.0515, 1.7653, 1.9378, 1.9996, 1.7099, 1.4737, 1.3017, 0.9268, 1.4328, 0.9364, 1.7281, 1.6278, 1.4799, 1.1845, 0.1931, 0.5453, 1.2268, -0.2684, 0.0654, 0.7501, 0.2093, 1.0173, 3.853, 3.8407, 3.8205, 3.8116, 3.8058, 3.8051, 3.7972, 3.7923, 3.7901, 3.7685, 3.764, 3.7423, 3.7219, 3.7219, 3.7219, 3.7219, 3.7074, 3.6092, 3.5801, 3.5599, 3.5242, 3.5214, 3.4864, 3.4582, 3.4109, 3.3935, 3.3609, 3.3514, 3.3514, 3.3514, 3.3507, 3.112, 2.7804, 1.5708, 1.5761, 0.8885, 2.7153, 4.2612, 4.2519, 4.1269, 4.1126, 4.0923, 4.0545, 4.037, 4.0369, 3.9644, 3.9342, 3.9193, 3.9136, 3.8624, 3.8113, 3.8096, 3.762, 3.7511, 3.6991, 3.6991, 3.6991, 3.6991, 3.6991, 3.6991, 3.6991, 3.683, 3.5585, 3.5585, 3.5408, 3.4051, 3.4051, 3.3543, 2.7059, 2.0743, 0.8826, 2.4575, 4.3004, 4.3004, 4.3004, 4.2121, 4.1747, 4.1606, 4.1562, 4.1223, 4.1198, 4.0885, 4.0624, 4.0283, 3.9125, 3.909, 3.8413, 3.8413, 3.8413, 3.8413, 3.8413, 3.8413, 3.8413, 3.8412, 3.8412, 3.8412, 3.8412, 3.8412, 3.8412, 3.8412, 3.8412, 3.8412, 3.1992, 2.0623, 2.4973, 4.7118, 4.701, 4.6913, 4.6705, 4.6042, 4.3651, 4.319, 4.2971, 4.1385, 3.8951, 3.717, 3.717, 3.717, 3.717, 3.7168, 3.7168, 3.7165, 3.7165, 3.7162, 3.5314, 3.5314, 3.5314, 3.5311, 3.3441, 3.344, 3.3438, 3.3437, 2.9057, 2.6012, 2.2939, 0.1822, 0.3134, -1.0439, -0.7681, 4.87, 4.7913, 4.6644, 4.5976, 4.5079, 4.4151, 4.1276, 4.1276, 4.1276, 4.1272, 4.1272, 4.1272, 4.1272, 4.1272, 4.1272, 4.1272, 4.107, 4.0144, 4.0144, 3.9529, 3.9529, 3.9529, 3.5779, 3.5779, 3.5779, 3.3414, 3.3062, 3.2381, 1.8012, 1.8012, 0.1995, 0.2956]}, \"token.table\": {\"Topic\": [2, 2, 1, 4, 1, 2, 4, 10, 7, 4, 1, 2, 3, 4, 5, 8, 3, 4, 1, 2, 4, 1, 4, 1, 2, 3, 4, 5, 6, 2, 2, 7, 2, 7, 2, 5, 7, 6, 3, 1, 5, 7, 8, 1, 2, 3, 10, 6, 8, 7, 3, 1, 2, 4, 6, 2, 8, 1, 2, 4, 1, 2, 3, 4, 6, 7, 2, 3, 1, 1, 3, 6, 4, 7, 2, 3, 6, 6, 9, 1, 6, 2, 4, 6, 8, 4, 6, 6, 3, 4, 4, 7, 1, 5, 3, 5, 3, 3, 4, 6, 3, 2, 4, 9, 1, 2, 3, 4, 5, 5, 2, 2, 5, 3, 5, 1, 2, 1, 4, 5, 8, 8, 7, 6, 2, 4, 5, 5, 9, 7, 3, 5, 8, 1, 1, 1, 1, 3, 4, 4, 6, 4, 8, 8, 5, 1, 6, 4, 7, 5, 6, 6, 2, 4, 1, 5, 2, 9, 3, 1, 2, 4, 5, 3, 4, 3, 5, 7, 2, 3, 4, 1, 3, 1, 2, 4, 5, 5, 2, 4, 6, 5, 2, 1, 1, 3, 1, 3, 2, 5, 8, 6, 6, 7, 4, 8, 8, 4, 8, 6, 5, 6, 5, 4, 5, 7, 7, 5, 2, 8, 5, 8, 3, 2, 3, 3, 5, 1, 2, 3, 3, 5, 1, 5, 1, 1, 2, 3, 4, 5, 3, 1, 2, 7, 4, 4, 3, 7, 7, 3, 7, 3, 3, 5, 3, 4, 1, 3, 1, 3, 4, 5, 8, 1, 2, 3, 4, 5, 4, 8, 1, 2, 5, 4, 5, 2, 3, 2, 4, 1, 6, 3, 3, 8, 2, 2, 6, 9, 2, 7, 5, 8, 1, 8, 4, 8, 3, 1, 5, 2, 3, 5, 10, 8, 2, 2, 3, 4, 5, 7, 8, 9, 2, 7, 3, 1, 2, 3, 6, 1, 2, 6, 7, 2, 1, 1, 4, 8, 4, 3, 1, 6, 7, 8, 2, 3, 5, 2, 2, 1, 2, 3, 2, 5, 4, 8, 3, 7, 6, 1, 2, 3, 5, 7, 6, 1, 1, 5, 3, 5, 7, 5, 7, 6, 2, 5, 7, 5, 3, 1, 1, 3, 4, 5, 8, 4, 8, 4, 2, 5, 5, 2, 3, 3, 4, 1, 4, 3, 4, 5, 1, 4, 4, 1, 2, 3, 4, 5, 3, 1, 2, 3, 4, 4, 2, 4, 4, 10, 3, 4, 5, 8, 8, 5, 1, 2, 2, 1, 2, 3, 4, 5, 6, 4, 7, 8, 2, 3, 4, 5, 2, 4, 5, 1, 3, 2, 5, 9, 2, 3, 6, 4, 6, 2, 4, 1, 2, 3, 4, 5, 10, 6, 5, 6, 6, 1, 2, 4, 1, 10, 1, 2, 3, 5, 2, 3, 5, 1, 2, 4, 9, 4, 2, 3, 2, 9, 2, 7, 1, 2, 4, 5, 1, 8, 3, 4, 6], \"Freq\": [0.990850738008842, 0.9281437030701366, 0.43379578941618974, 0.5422447367702372, 0.9643390525868958, 0.9914111898154232, 0.9827429989768897, 0.5225101082641945, 0.8840232109378059, 0.9676610928838707, 0.30764289790965893, 0.4959956925482256, 0.018835279463856668, 0.1318469562469967, 0.04394898541566556, 0.6334310933366424, 0.21483275881511096, 0.7877201156554069, 0.3009902332317466, 0.44145234207322837, 0.2407921865853973, 0.8812050385533469, 0.09275842511087862, 0.6191512017025329, 0.24136402778234334, 0.08395270531559768, 0.04197635265779884, 0.01049408816444971, 0.7440688852647883, 0.9640074596384607, 0.9547728237124942, 0.039782200988020586, 0.8914130786128125, 0.7058591217229984, 0.36515639811974787, 0.6259823967767106, 0.6772810683051753, 0.7089271625131459, 0.9517186690789275, 0.35172859045840704, 0.6331114628251326, 0.756058649248409, 0.8640955307892076, 0.9766759928612891, 0.592225316789951, 0.3862339022543159, 0.8610796047729022, 0.8904474976531881, 0.8640955307892076, 0.7757646627255208, 0.8828560286879723, 0.9268425392480097, 0.05792765870300061, 0.8895441834738849, 0.7449086343897776, 0.3004695166522651, 0.6009390333045302, 0.245961736703098, 0.7242206691813441, 0.013664540927949888, 0.010412181477839464, 0.2811288999016655, 0.41648725911357853, 0.24989235546814714, 0.041648725911357855, 0.887641649285423, 0.9293854948914991, 0.8178802420473886, 0.9523128936122127, 0.9722273893614625, 0.8850736244221594, 0.7964957209273337, 0.5931093917709928, 0.2965546958854964, 0.45238152290710243, 0.5089292132704902, 0.6907253139216897, 0.5124960604969209, 0.894205437566305, 0.8726252641491752, 0.06233037601065537, 0.5044891621160068, 0.47295858948375635, 0.6458426653007964, 0.8641254542527904, 0.9367550652483698, 0.708883409438612, 0.7678908310722994, 0.8019111524001875, 0.18992632556846545, 0.9227134521639073, 0.8875576003571038, 0.9895031914801375, 0.9692051933544652, 0.9057991901531058, 0.8749691291918189, 0.9686524940947983, 0.5190264186725954, 0.4757742171165457, 0.5831056563794895, 0.9815805612542488, 0.892253591039245, 0.9758945483736551, 0.6683891798448959, 0.46110971828857894, 0.10086775087562663, 0.1729161443582171, 0.24496453784080754, 0.014409678696518092, 0.95031569166661, 0.9715468003170615, 0.9784341864659764, 0.9688497897935834, 0.04782253411685603, 0.940509837631502, 0.12285206029372184, 0.8706472099076809, 0.9864603473142136, 0.5461619287189325, 0.44213108515342153, 0.5828143017581907, 0.8641254542527904, 0.7757646627255208, 0.7440688852647883, 0.8403500236581256, 0.12005000337973223, 0.8845711670953589, 0.9727325278925917, 0.7241551163962411, 0.6793301155921391, 0.612460249520949, 0.3742812635961355, 0.8641254542527904, 0.8326695060904725, 0.9579202903825678, 0.9303914029497206, 0.9825796866062868, 0.3157859566415735, 0.6947291046114618, 0.30235152462110765, 0.30235152462110765, 0.9551674847918231, 0.6648353430361764, 0.8641254542527904, 0.9156286699491494, 0.9681145196047226, 0.9448128289844014, 0.9599346929042908, 0.6697967593009317, 0.9838131147623951, 0.7440688852647883, 0.7089271625131459, 0.99167943809962, 0.9137663192489359, 0.9190300055002254, 0.9930043627643009, 0.9920886511032366, 0.6418846189120806, 0.829796287583977, 0.3181982201420421, 0.3181982201420421, 0.22728444295860148, 0.13637066577516088, 0.853914366538055, 0.12650583207971186, 0.9532941300142878, 0.8662730060818767, 0.7757197061225938, 0.7943091891586266, 0.14184092663546904, 0.028368185327093808, 0.9766774216301166, 0.014577274949703234, 0.5748835606359833, 0.17856231807632816, 0.1175898192209966, 0.13065535468999623, 0.9698166766446694, 0.9664050624257648, 0.6541201828042812, 0.3270600914021406, 0.9372873776603593, 0.9792511537640115, 0.9333968645074644, 0.9692355841979395, 0.9936656623540612, 0.9897444146229526, 0.8643959764022976, 0.7874210425038125, 0.18748120059614584, 0.8999046672634141, 0.7066758449237556, 0.8962168168743122, 0.7221800662087329, 0.9386806614952915, 0.8116156561390365, 0.8641254542527904, 0.9393335556211084, 0.8641254542527904, 0.5208559364627148, 0.6932012027661816, 0.2310670675887272, 0.952535172185976, 0.144814026663238, 0.8688841599794281, 0.9168661398505125, 0.5723672309883258, 0.8827190232845672, 0.9354207200048168, 0.8641254542527904, 0.9450595156002891, 0.5449138959398083, 0.9735867260245411, 0.16857555998629056, 0.8428777999314528, 0.4294545816210857, 0.5521558906556816, 0.7131517246508664, 0.20602160934358363, 0.07923908051676293, 0.3949202430745303, 0.6103312847515467, 0.9127634147521723, 0.9740511010826413, 0.9561629060640097, 0.20959994251708908, 0.18339994970245296, 0.39954989042320105, 0.08514997664756745, 0.11789996766586261, 0.878838461435262, 0.7434924690433283, 0.2405416811610768, 0.7890464331518247, 0.8968988715055577, 0.9763058440793866, 0.9829338689217779, 0.8840232109378059, 0.7757646627255208, 0.9798469439011811, 0.7757197061225938, 0.4478120040817249, 0.9686485815155662, 0.9688497897935834, 0.896118574355716, 0.9454248546320464, 0.9946368142788867, 0.8891450163065364, 0.5375804840184641, 0.3162238141285083, 0.1264895256514033, 0.03162238141285083, 0.8640955307892076, 0.25534467905874186, 0.1896846187293511, 0.10213787162349675, 0.18238905647052991, 0.27723136583520547, 0.9826116549781463, 0.8641254542527904, 0.4988648408130564, 0.4589556535480119, 0.039909187265044506, 0.9564048358592937, 0.9841574792240642, 0.8886626899389761, 0.11848835865853015, 0.7908538233115916, 0.1647612131899149, 0.9777102457698291, 0.7359327109792477, 0.9688206627919163, 0.952159300340607, 0.8641254542527904, 0.9596597306898084, 0.9092496406532776, 0.6568915266919978, 0.7421151698873654, 0.9590812218949456, 0.8311964597049901, 0.7956502969633864, 0.15913005939267727, 0.933220182290793, 0.8640955307892076, 0.9212671697236744, 0.6358546064142976, 0.8297730868157234, 0.9853500980820454, 0.8973181520200499, 0.9722442975795108, 0.026276872907554347, 0.9672645839358316, 0.7501832724804208, 0.8999046672634141, 0.9720046132663898, 0.16392593144425477, 0.18031852458868025, 0.26228149031080766, 0.39342223546621147, 0.5249047509044612, 0.6008728840801261, 0.6918987807090351, 0.9612085195664241, 0.8465885464623091, 0.9549499161365287, 0.23507720786489175, 0.39963125337031596, 0.25858492865138094, 0.0940308831459567, 0.4577315288615492, 0.5322459637924991, 0.5802167573631587, 0.6292710924009556, 0.9720661010315463, 0.954468882779116, 0.825916989189101, 0.08849110598454653, 0.08849110598454653, 0.9498185717504672, 0.8681526929726517, 0.8884625667048406, 0.09519241786123292, 0.7757197061225938, 0.7179275513804074, 0.10270026235302798, 0.7702519676477099, 0.12837532794128498, 0.9748552045101639, 0.940139747721937, 0.8501871101640378, 0.10627338877050473, 0.03985252078893927, 0.11423459307204967, 0.885318096308385, 0.9915444764547229, 0.6881903591688885, 0.9452712659165169, 0.5780383278727907, 0.9005941118817606, 0.14777254153781347, 0.12666217846098296, 0.23221399384513544, 0.4644279876902709, 0.556897914069591, 0.7357769256405349, 0.9121954297740543, 0.967241808647841, 0.8729542621116979, 0.5492071457616405, 0.5693835697511006, 0.7757197061225938, 0.8019166213840204, 0.2291190346811487, 0.5426158089706339, 0.2224929818290607, 0.5562324545726517, 0.11124649091453034, 0.8898577367005557, 0.9136762582125185, 0.9660086180581249, 0.9783971104655967, 0.03037511490412602, 0.9416285620279067, 0.9688280235064313, 0.8640955307892076, 0.7093946946427179, 0.8640955307892076, 0.9657968555690855, 0.6345384645610178, 0.35865217562144486, 0.899422771480899, 0.7502823853347209, 0.8961361611183014, 0.8473798615294306, 0.08473798615294306, 0.964240800809083, 0.9306799373800564, 0.4911465520616123, 0.4297532330539107, 0.061393319007701536, 0.34398737720458067, 0.6306435248750646, 0.9048498237324357, 0.7817874168040555, 0.14599644530678146, 0.03296693926282162, 0.00470956275183166, 0.03767650201465328, 0.9594506971740454, 0.6795788687926785, 0.2649205759700272, 0.023036571823480626, 0.03455485773522094, 0.8799536166192394, 0.9744286836933035, 0.9769757297510637, 0.941347213735035, 0.5891409857065804, 0.941725759169261, 0.052318097731625615, 0.8955407810209709, 0.5967802336887738, 0.8640955307892076, 0.9629917995820952, 0.2823364617787838, 0.7167002491307588, 0.9862739851602792, 0.24058317670775972, 0.5440881073237028, 0.08512943175813037, 0.048116635341551944, 0.08142815211647253, 0.940997294417888, 0.9272157550341446, 0.7314198697269386, 0.8999046672634141, 0.4068246430696822, 0.058117806152811737, 0.23247122461124695, 0.2905890307640587, 0.6822047593452879, 0.09218983234395782, 0.22125559762549876, 0.9163086982292749, 0.942257147402742, 0.9390829266920755, 0.8310975328005614, 0.6845235659112934, 0.5512542192005048, 0.2756271096002524, 0.7089271625131459, 0.9594521145974152, 0.6179298612469644, 0.9714721908247067, 0.8995288231973849, 0.08511336199740693, 0.42556680998703467, 0.011348448266320924, 0.20427206879377663, 0.2723627583917022, 0.7656578314289396, 0.883088687835717, 0.8880375311054736, 0.4884059647283135, 0.7827604220959552, 0.37767407130854325, 0.27828615780629506, 0.33791890590764395, 0.9581197285971743, 0.6719175619538729, 0.7613741995049421, 0.0362559142621401, 0.16315161417963045, 0.01812795713107005, 0.23356998348568023, 0.28028398018281625, 0.46713996697136045, 0.8748222899613357, 0.08275345986120743, 0.03546576851194604, 0.7421327663911693, 0.9176081424103397, 0.9510702895884635, 0.9893916172779473, 0.9704631563245929, 0.8625000764745184, 0.7924699407848832, 0.2641566469282944, 0.412679150152538, 0.33407359774253076, 0.06877985835875633, 0.18668818697376718, 0.6654147249065603, 0.1901184928304458, 0.8062916916871513, 0.10078646146089391, 0.7880887942366988], \"Term\": [\"able\", \"access\", \"activate\", \"activate\", \"activation\", \"actually\", \"addition\", \"additional\", \"advanced\", \"alarm\", \"alexa\", \"alexa\", \"alexa\", \"alexa\", \"alexa\", \"alone\", \"already\", \"already\", \"also\", \"also\", \"also\", \"always\", \"always\", \"amazon\", \"amazon\", \"amazon\", \"amazon\", \"amazon\", \"announcement\", \"anywhere\", \"app\", \"app\", \"apple\", \"application\", \"ask\", \"ask\", \"audible\", \"avail\", \"away\", \"awesome\", \"awesome\", \"backyard\", \"balanced\", \"base\", \"battery\", \"battery\", \"beat\", \"bedroom\", \"beef\", \"better\", \"blue\", \"bluetooth\", \"bluetooth\", \"bose\", \"box\", \"build\", \"build\", \"button\", \"button\", \"button\", \"buy\", \"buy\", \"buy\", \"buy\", \"buy\", \"calendar\", \"call\", \"camping\", \"capability\", \"carry\", \"case\", \"cell\", \"change\", \"change\", \"charge\", \"charge\", \"chart\", \"cheap\", \"check\", \"come\", \"come\", \"command\", \"command\", \"commercial\", \"community\", \"compact\", \"compliment\", \"computer\", \"connect\", \"connect\", \"connection\", \"continue\", \"control\", \"cooking\", \"cool\", \"course\", \"daughter\", \"day\", \"day\", \"debate\", \"decent\", \"decide\", \"deck\", \"definitely\", \"device\", \"device\", \"device\", \"device\", \"device\", \"difficult\", \"disappoint\", \"dot\", \"dual\", \"easy\", \"easy\", \"echo\", \"echo\", \"enable\", \"enjoy\", \"enjoy\", \"entertain\", \"environment\", \"episode\", \"error\", \"even\", \"even\", \"event\", \"everyday\", \"exactly\", \"example\", \"excellent\", \"excellent\", \"exist\", \"expectation\", \"expensive\", \"extra\", \"fact\", \"family\", \"family\", \"fantastic\", \"fantastic\", \"far\", \"fast\", \"favor\", \"favorite\", \"fi\", \"figure\", \"find\", \"fire\", \"first\", \"fishing\", \"follow\", \"free\", \"friend\", \"full\", \"fun\", \"function\", \"functionality\", \"gadget\", \"get\", \"get\", \"get\", \"get\", \"gift\", \"gift\", \"give\", \"glad\", \"glitch\", \"go\", \"go\", \"go\", \"good\", \"good\", \"great\", \"great\", \"great\", \"great\", \"guess\", \"hand\", \"happy\", \"happy\", \"help\", \"high\", \"highly\", \"hit\", \"hold\", \"home\", \"hour\", \"house\", \"house\", \"hype\", \"idea\", \"impressed\", \"improve\", \"information\", \"informative\", \"innovation\", \"instead\", \"interaction\", \"interesting\", \"interface\", \"interface\", \"item\", \"kid\", \"kid\", \"know\", \"knowledge\", \"lack\", \"last\", \"leader\", \"learn\", \"less\", \"life\", \"light\", \"light\", \"like\", \"like\", \"listen\", \"listen\", \"listen\", \"little\", \"little\", \"live\", \"lot\", \"loud\", \"love\", \"love\", \"love\", \"love\", \"love\", \"low\", \"make\", \"make\", \"manage\", \"many\", \"mean\", \"member\", \"membership\", \"mess\", \"microphone\", \"minor\", \"miss\", \"mobile\", \"moment\", \"month\", \"mostly\", \"move\", \"movie\", \"much\", \"much\", \"much\", \"much\", \"multipurpose\", \"music\", \"music\", \"music\", \"music\", \"music\", \"name\", \"naturally\", \"need\", \"need\", \"need\", \"network\", \"never\", \"news\", \"news\", \"nice\", \"nice\", \"office\", \"ok\", \"old\", \"operate\", \"opportunity\", \"option\", \"original\", \"otherwise\", \"outdoor\", \"outside\", \"overall\", \"pair\", \"pair\", \"part\", \"pass\", \"pay\", \"penny\", \"people\", \"perfect\", \"personal\", \"phone\", \"phone\", \"physically\", \"piece\", \"pill\", \"place\", \"play\", \"play\", \"play\", \"play\", \"playback\", \"pleasantly\", \"pleased\", \"plug\", \"podcast\", \"pool\", \"portability\", \"portability\", \"portability\", \"portability\", \"portable\", \"portable\", \"potential\", \"premium\", \"press\", \"pretty\", \"price\", \"price\", \"price\", \"problem\", \"produce\", \"product\", \"product\", \"promptly\", \"pull\", \"purchase\", \"purchase\", \"purchase\", \"push\", \"put\", \"quality\", \"quality\", \"quality\", \"question\", \"question\", \"radio\", \"rate\", \"read\", \"reading\", \"ready\", \"really\", \"really\", \"really\", \"really\", \"recent\", \"recharge\", \"rechargeable\", \"recommend\", \"regular\", \"rely\", \"report\", \"repository\", \"request\", \"request\", \"research\", \"respond\", \"respond\", \"respond\", \"return\", \"review\", \"room\", \"sale\", \"say\", \"say\", \"science\", \"scream\", \"search\", \"seriously\", \"service\", \"set\", \"set\", \"several\", \"side\", \"simply\", \"sit\", \"sit\", \"size\", \"skill\", \"small\", \"small\", \"small\", \"smart\", \"smart\", \"song\", \"sound\", \"sound\", \"sound\", \"sound\", \"sound\", \"speak\", \"speaker\", \"speaker\", \"speaker\", \"speaker\", \"spotify\", \"start\", \"station\", \"still\", \"store\", \"stream\", \"stream\", \"super\", \"surprise\", \"sweet\", \"sync\", \"take\", \"take\", \"talk\", \"tap\", \"tap\", \"tap\", \"tap\", \"tap\", \"technology\", \"tell\", \"thank\", \"therefore\", \"thing\", \"thing\", \"thing\", \"thing\", \"time\", \"time\", \"time\", \"timer\", \"tooth\", \"touch\", \"travel\", \"trip\", \"tune\", \"tune\", \"unable\", \"understand\", \"unique\", \"unit\", \"upgrade\", \"use\", \"use\", \"use\", \"use\", \"use\", \"useful\", \"useless\", \"value\", \"versatile\", \"version\", \"voice\", \"voice\", \"voice\", \"volume\", \"walk\", \"want\", \"want\", \"want\", \"want\", \"weather\", \"weather\", \"weather\", \"well\", \"well\", \"well\", \"wherever\", \"wife\", \"wifi\", \"wireless\", \"wish\", \"wonderfully\", \"word\", \"word\", \"work\", \"work\", \"work\", \"work\", \"worth\", \"worth\", \"year\", \"year\", \"yet\"]}, \"R\": 30, \"lambda.step\": 0.01, \"plot.opts\": {\"xlab\": \"PC1\", \"ylab\": \"PC2\"}, \"topic.order\": [10, 9, 5, 1, 3, 7, 4, 6, 8, 2]};\n",
       "\n",
       "function LDAvis_load_lib(url, callback){\n",
       "  var s = document.createElement('script');\n",
       "  s.src = url;\n",
       "  s.async = true;\n",
       "  s.onreadystatechange = s.onload = callback;\n",
       "  s.onerror = function(){console.warn(\"failed to load library \" + url);};\n",
       "  document.getElementsByTagName(\"head\")[0].appendChild(s);\n",
       "}\n",
       "\n",
       "if(typeof(LDAvis) !== \"undefined\"){\n",
       "   // already loaded: just create the visualization\n",
       "   !function(LDAvis){\n",
       "       new LDAvis(\"#\" + \"ldavis_el191401508480484649526985413\", ldavis_el191401508480484649526985413_data);\n",
       "   }(LDAvis);\n",
       "}else if(typeof define === \"function\" && define.amd){\n",
       "   // require.js is available: use it to load d3/LDAvis\n",
       "   require.config({paths: {d3: \"https://d3js.org/d3.v5\"}});\n",
       "   require([\"d3\"], function(d3){\n",
       "      window.d3 = d3;\n",
       "      LDAvis_load_lib(\"https://cdn.jsdelivr.net/gh/bmabey/pyLDAvis@3.2.2/pyLDAvis/js/ldavis.v3.0.0.js\", function(){\n",
       "        new LDAvis(\"#\" + \"ldavis_el191401508480484649526985413\", ldavis_el191401508480484649526985413_data);\n",
       "      });\n",
       "    });\n",
       "}else{\n",
       "    // require.js not available: dynamically load d3 & LDAvis\n",
       "    LDAvis_load_lib(\"https://d3js.org/d3.v5.js\", function(){\n",
       "         LDAvis_load_lib(\"https://cdn.jsdelivr.net/gh/bmabey/pyLDAvis@3.2.2/pyLDAvis/js/ldavis.v3.0.0.js\", function(){\n",
       "                 new LDAvis(\"#\" + \"ldavis_el191401508480484649526985413\", ldavis_el191401508480484649526985413_data);\n",
       "            })\n",
       "         });\n",
       "}\n",
       "</script>"
      ],
      "text/plain": [
       "PreparedData(topic_coordinates=              x         y  topics  cluster       Freq\n",
       "topic                                                \n",
       "9     -0.228497 -0.200626       1        1  28.832654\n",
       "8     -0.228332 -0.075977       2        1  28.726732\n",
       "4     -0.048773  0.181964       3        1  13.122652\n",
       "0     -0.093168  0.078850       4        1  13.082180\n",
       "2     -0.150594  0.163048       5        1  10.764120\n",
       "6      0.160437 -0.049598       6        1   1.887242\n",
       "3      0.159015 -0.021432       7        1   1.275890\n",
       "5      0.152271 -0.036807       8        1   0.968740\n",
       "7      0.132970 -0.022033       9        1   0.714216\n",
       "1      0.144672 -0.017388      10        1   0.625573, topic_info=         Term        Freq       Total Category  logprob  loglift\n",
       "27       echo  187.000000  187.000000  Default  30.0000  30.0000\n",
       "167      good  137.000000  137.000000  Default  29.0000  29.0000\n",
       "189   product   63.000000   63.000000  Default  28.0000  28.0000\n",
       "396      easy   62.000000   62.000000  Default  27.0000  27.0000\n",
       "13        buy   96.000000   96.000000  Default  26.0000  26.0000\n",
       "...       ...         ...         ...      ...      ...      ...\n",
       "1019    cheap    0.311078    1.951235  Topic10  -5.2009   3.2381\n",
       "535      shop    0.030401    0.802372  Topic10  -7.5264   1.8012\n",
       "526      rake    0.030401    0.802384  Topic10  -7.5264   1.8012\n",
       "1142     side    0.030536    3.998495  Topic10  -7.5220   0.1995\n",
       "451      tune    0.030501    3.628090  Topic10  -7.5232   0.2956\n",
       "\n",
       "[463 rows x 6 columns], token_table=      Topic      Freq        Term\n",
       "term                             \n",
       "281       2  0.990851        able\n",
       "229       2  0.928144      access\n",
       "144       1  0.433796    activate\n",
       "144       4  0.542245    activate\n",
       "606       1  0.964339  activation\n",
       "...     ...       ...         ...\n",
       "314       1  0.665415       worth\n",
       "314       8  0.190118       worth\n",
       "142       3  0.806292        year\n",
       "142       4  0.100786        year\n",
       "696       6  0.788089         yet\n",
       "\n",
       "[477 rows x 3 columns], R=30, lambda_step=0.01, plot_opts={'xlab': 'PC1', 'ylab': 'PC2'}, topic_order=[10, 9, 5, 1, 3, 7, 4, 6, 8, 2])"
      ]
     },
     "execution_count": 15,
     "metadata": {},
     "output_type": "execute_result"
    }
   ],
   "source": [
    "# visualize the topics\n",
    "pyLDAvis.enable_notebook()\n",
    "vis = pyLDAvis.gensim.prepare(lda_model, corpus, id2word)\n",
    "vis"
   ]
  },
  {
   "cell_type": "markdown",
   "id": "0c07c4c9",
   "metadata": {
    "papermill": {
     "duration": 0.043754,
     "end_time": "2022-01-23T18:12:16.113147",
     "exception": false,
     "start_time": "2022-01-23T18:12:16.069393",
     "status": "completed"
    },
    "tags": []
   },
   "source": [
    "## Hyperparameter Tuning - Number of Topics and Alpha\n",
    "\n",
    "Let's now tune the two main hyperparameters - number of topics and alpha. The strategy typically used is to tune these parameters such that the coherence score is maximised."
   ]
  },
  {
   "cell_type": "code",
   "execution_count": 16,
   "id": "f2f81f54",
   "metadata": {
    "execution": {
     "iopub.execute_input": "2022-01-23T18:12:16.222056Z",
     "iopub.status.busy": "2022-01-23T18:12:16.221247Z",
     "iopub.status.idle": "2022-01-23T18:12:16.224776Z",
     "shell.execute_reply": "2022-01-23T18:12:16.224024Z",
     "shell.execute_reply.started": "2022-01-23T17:33:15.68648Z"
    },
    "papermill": {
     "duration": 0.065004,
     "end_time": "2022-01-23T18:12:16.224948",
     "exception": false,
     "start_time": "2022-01-23T18:12:16.159944",
     "status": "completed"
    },
    "tags": []
   },
   "outputs": [],
   "source": [
    "# compute coherence value at various values of alpha and num_topics\n",
    "def compute_coherence_values(dictionary, corpus, texts, num_topics_range, alpha_range):\n",
    "    \n",
    "    coherence_values = []\n",
    "    model_list = []\n",
    "    for alpha in alpha_range:\n",
    "        for num_topics in num_topics_range:\n",
    "            lda_model = gensim.models.ldamodel.LdaModel(corpus=corpus,\n",
    "                                               id2word=dictionary,\n",
    "                                               num_topics=num_topics, \n",
    "                                               alpha=alpha,\n",
    "                                               per_word_topics=True)\n",
    "            model_list.append(lda_model)\n",
    "            coherencemodel = CoherenceModel(model=lda_model, texts=texts, dictionary=dictionary, coherence='c_v')\n",
    "            coherence_values.append((alpha, num_topics, coherencemodel.get_coherence()))\n",
    "        \n",
    "\n",
    "    return model_list, coherence_values"
   ]
  },
  {
   "cell_type": "code",
   "execution_count": 17,
   "id": "77f54663",
   "metadata": {
    "execution": {
     "iopub.execute_input": "2022-01-23T18:12:16.321479Z",
     "iopub.status.busy": "2022-01-23T18:12:16.317534Z",
     "iopub.status.idle": "2022-01-23T18:12:31.329325Z",
     "shell.execute_reply": "2022-01-23T18:12:31.328755Z",
     "shell.execute_reply.started": "2022-01-23T17:33:15.697814Z"
    },
    "papermill": {
     "duration": 15.057469,
     "end_time": "2022-01-23T18:12:31.329461",
     "exception": false,
     "start_time": "2022-01-23T18:12:16.271992",
     "status": "completed"
    },
    "tags": []
   },
   "outputs": [],
   "source": [
    "# build models across a range of num_topics and alpha\n",
    "num_topics_range = [2, 6, 10, 15, 20]\n",
    "alpha_range = [0.01, 0.1, 1]\n",
    "model_list, coherence_values = compute_coherence_values(dictionary=id2word, \n",
    "                                                        corpus=corpus, \n",
    "                                                        texts=data_lemmatized, \n",
    "                                                        num_topics_range=num_topics_range, \n",
    "                                                        alpha_range=alpha_range)"
   ]
  },
  {
   "cell_type": "code",
   "execution_count": 18,
   "id": "2e420c13",
   "metadata": {
    "execution": {
     "iopub.execute_input": "2022-01-23T18:12:31.430080Z",
     "iopub.status.busy": "2022-01-23T18:12:31.429422Z",
     "iopub.status.idle": "2022-01-23T18:12:31.432446Z",
     "shell.execute_reply": "2022-01-23T18:12:31.432924Z",
     "shell.execute_reply.started": "2022-01-23T17:33:35.090607Z"
    },
    "papermill": {
     "duration": 0.059752,
     "end_time": "2022-01-23T18:12:31.433098",
     "exception": false,
     "start_time": "2022-01-23T18:12:31.373346",
     "status": "completed"
    },
    "tags": []
   },
   "outputs": [
    {
     "data": {
      "text/html": [
       "<div>\n",
       "<style scoped>\n",
       "    .dataframe tbody tr th:only-of-type {\n",
       "        vertical-align: middle;\n",
       "    }\n",
       "\n",
       "    .dataframe tbody tr th {\n",
       "        vertical-align: top;\n",
       "    }\n",
       "\n",
       "    .dataframe thead th {\n",
       "        text-align: right;\n",
       "    }\n",
       "</style>\n",
       "<table border=\"1\" class=\"dataframe\">\n",
       "  <thead>\n",
       "    <tr style=\"text-align: right;\">\n",
       "      <th></th>\n",
       "      <th>alpha</th>\n",
       "      <th>num_topics</th>\n",
       "      <th>coherence_value</th>\n",
       "    </tr>\n",
       "  </thead>\n",
       "  <tbody>\n",
       "    <tr>\n",
       "      <th>0</th>\n",
       "      <td>0.01</td>\n",
       "      <td>2</td>\n",
       "      <td>0.467340</td>\n",
       "    </tr>\n",
       "    <tr>\n",
       "      <th>1</th>\n",
       "      <td>0.01</td>\n",
       "      <td>6</td>\n",
       "      <td>0.465695</td>\n",
       "    </tr>\n",
       "    <tr>\n",
       "      <th>2</th>\n",
       "      <td>0.01</td>\n",
       "      <td>10</td>\n",
       "      <td>0.426646</td>\n",
       "    </tr>\n",
       "    <tr>\n",
       "      <th>3</th>\n",
       "      <td>0.01</td>\n",
       "      <td>15</td>\n",
       "      <td>0.438815</td>\n",
       "    </tr>\n",
       "    <tr>\n",
       "      <th>4</th>\n",
       "      <td>0.01</td>\n",
       "      <td>20</td>\n",
       "      <td>0.432718</td>\n",
       "    </tr>\n",
       "    <tr>\n",
       "      <th>5</th>\n",
       "      <td>0.10</td>\n",
       "      <td>2</td>\n",
       "      <td>0.470828</td>\n",
       "    </tr>\n",
       "    <tr>\n",
       "      <th>6</th>\n",
       "      <td>0.10</td>\n",
       "      <td>6</td>\n",
       "      <td>0.432863</td>\n",
       "    </tr>\n",
       "    <tr>\n",
       "      <th>7</th>\n",
       "      <td>0.10</td>\n",
       "      <td>10</td>\n",
       "      <td>0.448954</td>\n",
       "    </tr>\n",
       "    <tr>\n",
       "      <th>8</th>\n",
       "      <td>0.10</td>\n",
       "      <td>15</td>\n",
       "      <td>0.399676</td>\n",
       "    </tr>\n",
       "    <tr>\n",
       "      <th>9</th>\n",
       "      <td>0.10</td>\n",
       "      <td>20</td>\n",
       "      <td>0.421171</td>\n",
       "    </tr>\n",
       "    <tr>\n",
       "      <th>10</th>\n",
       "      <td>1.00</td>\n",
       "      <td>2</td>\n",
       "      <td>0.469027</td>\n",
       "    </tr>\n",
       "    <tr>\n",
       "      <th>11</th>\n",
       "      <td>1.00</td>\n",
       "      <td>6</td>\n",
       "      <td>0.466993</td>\n",
       "    </tr>\n",
       "    <tr>\n",
       "      <th>12</th>\n",
       "      <td>1.00</td>\n",
       "      <td>10</td>\n",
       "      <td>0.475658</td>\n",
       "    </tr>\n",
       "    <tr>\n",
       "      <th>13</th>\n",
       "      <td>1.00</td>\n",
       "      <td>15</td>\n",
       "      <td>0.477560</td>\n",
       "    </tr>\n",
       "    <tr>\n",
       "      <th>14</th>\n",
       "      <td>1.00</td>\n",
       "      <td>20</td>\n",
       "      <td>0.471603</td>\n",
       "    </tr>\n",
       "  </tbody>\n",
       "</table>\n",
       "</div>"
      ],
      "text/plain": [
       "    alpha  num_topics  coherence_value\n",
       "0    0.01           2         0.467340\n",
       "1    0.01           6         0.465695\n",
       "2    0.01          10         0.426646\n",
       "3    0.01          15         0.438815\n",
       "4    0.01          20         0.432718\n",
       "5    0.10           2         0.470828\n",
       "6    0.10           6         0.432863\n",
       "7    0.10          10         0.448954\n",
       "8    0.10          15         0.399676\n",
       "9    0.10          20         0.421171\n",
       "10   1.00           2         0.469027\n",
       "11   1.00           6         0.466993\n",
       "12   1.00          10         0.475658\n",
       "13   1.00          15         0.477560\n",
       "14   1.00          20         0.471603"
      ]
     },
     "execution_count": 18,
     "metadata": {},
     "output_type": "execute_result"
    }
   ],
   "source": [
    "coherence_df = pd.DataFrame(coherence_values, columns=['alpha', 'num_topics', 'coherence_value'])\n",
    "coherence_df"
   ]
  },
  {
   "cell_type": "code",
   "execution_count": 19,
   "id": "d26f4e77",
   "metadata": {
    "execution": {
     "iopub.execute_input": "2022-01-23T18:12:31.528549Z",
     "iopub.status.busy": "2022-01-23T18:12:31.527727Z",
     "iopub.status.idle": "2022-01-23T18:12:31.538947Z",
     "shell.execute_reply": "2022-01-23T18:12:31.538363Z",
     "shell.execute_reply.started": "2022-01-23T17:37:25.009158Z"
    },
    "papermill": {
     "duration": 0.061021,
     "end_time": "2022-01-23T18:12:31.539073",
     "exception": false,
     "start_time": "2022-01-23T18:12:31.478052",
     "status": "completed"
    },
    "tags": []
   },
   "outputs": [
    {
     "data": {
      "text/html": [
       "<div>\n",
       "<style scoped>\n",
       "    .dataframe tbody tr th:only-of-type {\n",
       "        vertical-align: middle;\n",
       "    }\n",
       "\n",
       "    .dataframe tbody tr th {\n",
       "        vertical-align: top;\n",
       "    }\n",
       "\n",
       "    .dataframe thead th {\n",
       "        text-align: right;\n",
       "    }\n",
       "</style>\n",
       "<table border=\"1\" class=\"dataframe\">\n",
       "  <thead>\n",
       "    <tr style=\"text-align: right;\">\n",
       "      <th></th>\n",
       "      <th>alpha</th>\n",
       "      <th>num_topics</th>\n",
       "      <th>coherence_value</th>\n",
       "    </tr>\n",
       "  </thead>\n",
       "  <tbody>\n",
       "    <tr>\n",
       "      <th>8</th>\n",
       "      <td>0.10</td>\n",
       "      <td>15</td>\n",
       "      <td>0.399676</td>\n",
       "    </tr>\n",
       "    <tr>\n",
       "      <th>9</th>\n",
       "      <td>0.10</td>\n",
       "      <td>20</td>\n",
       "      <td>0.421171</td>\n",
       "    </tr>\n",
       "    <tr>\n",
       "      <th>2</th>\n",
       "      <td>0.01</td>\n",
       "      <td>10</td>\n",
       "      <td>0.426646</td>\n",
       "    </tr>\n",
       "    <tr>\n",
       "      <th>4</th>\n",
       "      <td>0.01</td>\n",
       "      <td>20</td>\n",
       "      <td>0.432718</td>\n",
       "    </tr>\n",
       "    <tr>\n",
       "      <th>6</th>\n",
       "      <td>0.10</td>\n",
       "      <td>6</td>\n",
       "      <td>0.432863</td>\n",
       "    </tr>\n",
       "    <tr>\n",
       "      <th>3</th>\n",
       "      <td>0.01</td>\n",
       "      <td>15</td>\n",
       "      <td>0.438815</td>\n",
       "    </tr>\n",
       "    <tr>\n",
       "      <th>7</th>\n",
       "      <td>0.10</td>\n",
       "      <td>10</td>\n",
       "      <td>0.448954</td>\n",
       "    </tr>\n",
       "    <tr>\n",
       "      <th>1</th>\n",
       "      <td>0.01</td>\n",
       "      <td>6</td>\n",
       "      <td>0.465695</td>\n",
       "    </tr>\n",
       "    <tr>\n",
       "      <th>11</th>\n",
       "      <td>1.00</td>\n",
       "      <td>6</td>\n",
       "      <td>0.466993</td>\n",
       "    </tr>\n",
       "    <tr>\n",
       "      <th>0</th>\n",
       "      <td>0.01</td>\n",
       "      <td>2</td>\n",
       "      <td>0.467340</td>\n",
       "    </tr>\n",
       "    <tr>\n",
       "      <th>10</th>\n",
       "      <td>1.00</td>\n",
       "      <td>2</td>\n",
       "      <td>0.469027</td>\n",
       "    </tr>\n",
       "    <tr>\n",
       "      <th>5</th>\n",
       "      <td>0.10</td>\n",
       "      <td>2</td>\n",
       "      <td>0.470828</td>\n",
       "    </tr>\n",
       "    <tr>\n",
       "      <th>14</th>\n",
       "      <td>1.00</td>\n",
       "      <td>20</td>\n",
       "      <td>0.471603</td>\n",
       "    </tr>\n",
       "    <tr>\n",
       "      <th>12</th>\n",
       "      <td>1.00</td>\n",
       "      <td>10</td>\n",
       "      <td>0.475658</td>\n",
       "    </tr>\n",
       "    <tr>\n",
       "      <th>13</th>\n",
       "      <td>1.00</td>\n",
       "      <td>15</td>\n",
       "      <td>0.477560</td>\n",
       "    </tr>\n",
       "  </tbody>\n",
       "</table>\n",
       "</div>"
      ],
      "text/plain": [
       "    alpha  num_topics  coherence_value\n",
       "8    0.10          15         0.399676\n",
       "9    0.10          20         0.421171\n",
       "2    0.01          10         0.426646\n",
       "4    0.01          20         0.432718\n",
       "6    0.10           6         0.432863\n",
       "3    0.01          15         0.438815\n",
       "7    0.10          10         0.448954\n",
       "1    0.01           6         0.465695\n",
       "11   1.00           6         0.466993\n",
       "0    0.01           2         0.467340\n",
       "10   1.00           2         0.469027\n",
       "5    0.10           2         0.470828\n",
       "14   1.00          20         0.471603\n",
       "12   1.00          10         0.475658\n",
       "13   1.00          15         0.477560"
      ]
     },
     "execution_count": 19,
     "metadata": {},
     "output_type": "execute_result"
    }
   ],
   "source": [
    "coherence_df.sort_values('coherence_value')"
   ]
  },
  {
   "cell_type": "code",
   "execution_count": 20,
   "id": "81f77c62",
   "metadata": {
    "execution": {
     "iopub.execute_input": "2022-01-23T18:12:31.638196Z",
     "iopub.status.busy": "2022-01-23T18:12:31.637346Z",
     "iopub.status.idle": "2022-01-23T18:12:32.093452Z",
     "shell.execute_reply": "2022-01-23T18:12:32.092929Z",
     "shell.execute_reply.started": "2022-01-23T17:33:35.110844Z"
    },
    "papermill": {
     "duration": 0.509275,
     "end_time": "2022-01-23T18:12:32.093584",
     "exception": false,
     "start_time": "2022-01-23T18:12:31.584309",
     "status": "completed"
    },
    "tags": []
   },
   "outputs": [
    {
     "data": {
      "image/png": "[encoded data removed]",
      "text/plain": [
       "<Figure size 1152x432 with 3 Axes>"
      ]
     },
     "metadata": {
      "needs_background": "light"
     },
     "output_type": "display_data"
    }
   ],
   "source": [
    "# plot\n",
    "def plot_coherence(coherence_df, alpha_range, num_topics_range):\n",
    "    plt.figure(figsize=(16,6))\n",
    "\n",
    "    for i, val in enumerate(alpha_range):\n",
    "\n",
    "        # subplot 1/3/i\n",
    "        plt.subplot(1, 3, i+1)\n",
    "        alpha_subset = coherence_df[coherence_df['alpha']==val]\n",
    "\n",
    "        plt.plot(alpha_subset[\"num_topics\"], alpha_subset[\"coherence_value\"])\n",
    "        plt.xlabel('num_topics')\n",
    "        plt.ylabel('Coherence Value')\n",
    "        plt.title(\"alpha={0}\".format(val))\n",
    "        plt.ylim([0.30, 1])\n",
    "        plt.legend('coherence value', loc='upper left')\n",
    "        plt.xticks(num_topics_range)\n",
    "\n",
    "plot_coherence(coherence_df, alpha_range, num_topics_range)"
   ]
  },
  {
   "cell_type": "code",
   "execution_count": 21,
   "id": "4d300b1d",
   "metadata": {
    "execution": {
     "iopub.execute_input": "2022-01-23T18:12:32.194070Z",
     "iopub.status.busy": "2022-01-23T18:12:32.190729Z",
     "iopub.status.idle": "2022-01-23T18:12:33.666225Z",
     "shell.execute_reply": "2022-01-23T18:12:33.665687Z",
     "shell.execute_reply.started": "2022-01-23T17:38:30.427628Z"
    },
    "papermill": {
     "duration": 1.527241,
     "end_time": "2022-01-23T18:12:33.666357",
     "exception": false,
     "start_time": "2022-01-23T18:12:32.139116",
     "status": "completed"
    },
    "tags": []
   },
   "outputs": [],
   "source": [
    "#Finally building the LDA Model by selecting \n",
    "\n",
    "Final_LDA_model = gensim.models.ldamodel.LdaModel(corpus=corpus,\n",
    "                                                  id2word=id2word,\n",
    "                                                  num_topics=6,\n",
    "                                                  random_state=100,\n",
    "                                                  update_every=1,\n",
    "                                                  chunksize=100,\n",
    "                                                  passes=10,\n",
    "                                                  alpha=1,\n",
    "                                                  per_word_topics=True)"
   ]
  },
  {
   "cell_type": "code",
   "execution_count": 22,
   "id": "36b0b8a5",
   "metadata": {
    "execution": {
     "iopub.execute_input": "2022-01-23T18:12:33.762631Z",
     "iopub.status.busy": "2022-01-23T18:12:33.761985Z",
     "iopub.status.idle": "2022-01-23T18:12:33.772305Z",
     "shell.execute_reply": "2022-01-23T18:12:33.771791Z",
     "shell.execute_reply.started": "2022-01-23T17:38:32.452576Z"
    },
    "papermill": {
     "duration": 0.060233,
     "end_time": "2022-01-23T18:12:33.772432",
     "exception": false,
     "start_time": "2022-01-23T18:12:33.712199",
     "status": "completed"
    },
    "tags": []
   },
   "outputs": [
    {
     "name": "stdout",
     "output_type": "stream",
     "text": [
      "[(0,\n",
      "  '0.051*\"speaker\" + 0.041*\"echo\" + 0.039*\"tap\" + 0.031*\"well\" + 0.025*\"get\" + '\n",
      "  '0.023*\"portable\" + 0.021*\"voice\" + 0.019*\"sound\" + 0.019*\"nice\" + '\n",
      "  '0.018*\"good\"'),\n",
      " (1,\n",
      "  '0.055*\"use\" + 0.028*\"ask\" + 0.024*\"music\" + 0.023*\"question\" + '\n",
      "  '0.023*\"really\" + 0.020*\"fun\" + 0.017*\"device\" + 0.016*\"alexa\" + '\n",
      "  '0.016*\"also\" + 0.016*\"buy\"'),\n",
      " (2,\n",
      "  '0.056*\"alexa\" + 0.054*\"great\" + 0.049*\"work\" + 0.032*\"echo\" + '\n",
      "  '0.031*\"button\" + 0.026*\"portable\" + 0.026*\"tap\" + 0.024*\"take\" + '\n",
      "  '0.020*\"time\" + 0.018*\"set\"'),\n",
      " (3,\n",
      "  '0.090*\"tap\" + 0.048*\"echo\" + 0.043*\"get\" + 0.024*\"dot\" + 0.023*\"enjoy\" + '\n",
      "  '0.017*\"much\" + 0.016*\"even\" + 0.013*\"room\" + 0.012*\"first\" + '\n",
      "  '0.012*\"weather\"'),\n",
      " (4,\n",
      "  '0.054*\"music\" + 0.040*\"play\" + 0.039*\"amazon\" + 0.030*\"speaker\" + '\n",
      "  '0.026*\"love\" + 0.023*\"tap\" + 0.019*\"thing\" + 0.018*\"connect\" + 0.017*\"use\" '\n",
      "  '+ 0.017*\"listen\"'),\n",
      " (5,\n",
      "  '0.080*\"sound\" + 0.063*\"great\" + 0.059*\"love\" + 0.052*\"good\" + '\n",
      "  '0.034*\"product\" + 0.031*\"use\" + 0.030*\"buy\" + 0.027*\"easy\" + '\n",
      "  '0.026*\"quality\" + 0.022*\"portability\"')]\n"
     ]
    }
   ],
   "source": [
    "# print the 10 topics\n",
    "pprint.pprint(Final_LDA_model.print_topics())\n",
    "doc_lda = Final_LDA_model[corpus]"
   ]
  },
  {
   "cell_type": "code",
   "execution_count": 23,
   "id": "693e5e9f",
   "metadata": {
    "execution": {
     "iopub.execute_input": "2022-01-23T18:12:33.870797Z",
     "iopub.status.busy": "2022-01-23T18:12:33.870192Z",
     "iopub.status.idle": "2022-01-23T18:12:34.398514Z",
     "shell.execute_reply": "2022-01-23T18:12:34.399018Z",
     "shell.execute_reply.started": "2022-01-23T17:38:32.468322Z"
    },
    "papermill": {
     "duration": 0.580379,
     "end_time": "2022-01-23T18:12:34.399183",
     "exception": false,
     "start_time": "2022-01-23T18:12:33.818804",
     "status": "completed"
    },
    "tags": []
   },
   "outputs": [
    {
     "name": "stdout",
     "output_type": "stream",
     "text": [
      "\n",
      "Coherence Score:  0.4117722875480922\n"
     ]
    }
   ],
   "source": [
    "# coherence score\n",
    "coherence_model_lda = CoherenceModel(model=Final_LDA_model, texts=data_lemmatized, dictionary=id2word, coherence='c_v')\n",
    "coherence_lda = coherence_model_lda.get_coherence()\n",
    "print('\\nCoherence Score: ', coherence_lda)"
   ]
  },
  {
   "cell_type": "code",
   "execution_count": 24,
   "id": "0d052a0e",
   "metadata": {
    "execution": {
     "iopub.execute_input": "2022-01-23T18:12:34.497131Z",
     "iopub.status.busy": "2022-01-23T18:12:34.496514Z",
     "iopub.status.idle": "2022-01-23T18:12:34.867701Z",
     "shell.execute_reply": "2022-01-23T18:12:34.868238Z",
     "shell.execute_reply.started": "2022-01-23T17:38:33.061958Z"
    },
    "papermill": {
     "duration": 0.42169,
     "end_time": "2022-01-23T18:12:34.868389",
     "exception": false,
     "start_time": "2022-01-23T18:12:34.446699",
     "status": "completed"
    },
    "tags": []
   },
   "outputs": [
    {
     "name": "stderr",
     "output_type": "stream",
     "text": [
      "/opt/conda/lib/python3.7/site-packages/pyLDAvis/_prepare.py:248: FutureWarning: In a future version of pandas all arguments of DataFrame.drop except for the argument 'labels' will be keyword-only\n",
      "  by='saliency', ascending=False).head(R).drop('saliency', 1)\n"
     ]
    },
    {
     "data": {
      "text/html": [
       "\n",
       "<link rel=\"stylesheet\" type=\"text/css\" href=\"https://cdn.jsdelivr.net/gh/bmabey/pyLDAvis@3.2.2/pyLDAvis/js/ldavis.v1.0.0.css\">\n",
       "\n",
       "\n",
       "<div id=\"ldavis_el191401508458371361134725934\"></div>\n",
       "<script type=\"text/javascript\">\n",
       "\n",
       "var ldavis_el191401508458371361134725934_data = {\"mdsDat\": {\"x\": [-0.026104313899259827, 0.10827136926717339, 0.09878314853105934, -0.1653987003587934, -0.20410977027198043, 0.18855826673180062], \"y\": [0.07155352385034269, -0.05511998257814727, -0.13636196346479054, 0.19459566342091927, -0.17208182171985675, 0.09741458049153269], \"topics\": [1, 2, 3, 4, 5, 6], \"cluster\": [1, 1, 1, 1, 1, 1], \"Freq\": [18.30651294919356, 18.193386318216103, 17.983461214568173, 15.589051436972278, 15.277068523939455, 14.650519557110432]}, \"tinfo\": {\"Term\": [\"great\", \"sound\", \"tap\", \"echo\", \"love\", \"good\", \"work\", \"play\", \"music\", \"get\", \"alexa\", \"use\", \"speaker\", \"amazon\", \"product\", \"button\", \"ask\", \"easy\", \"well\", \"portable\", \"take\", \"question\", \"enjoy\", \"voice\", \"portability\", \"fun\", \"buy\", \"nice\", \"also\", \"recommend\", \"play\", \"put\", \"kid\", \"order\", \"favorite\", \"learn\", \"ability\", \"easily\", \"old\", \"month\", \"year\", \"amazing\", \"apple\", \"glad\", \"hook\", \"way\", \"manually\", \"bonus\", \"pandora\", \"member\", \"directly\", \"streaming\", \"new\", \"low\", \"mobile\", \"feel\", \"run\", \"show\", \"lack\", \"people\", \"little\", \"thing\", \"amazon\", \"music\", \"connect\", \"still\", \"issue\", \"stream\", \"phone\", \"listen\", \"want\", \"bluetooth\", \"speaker\", \"love\", \"app\", \"purchase\", \"tap\", \"use\", \"alexa\", \"device\", \"nice\", \"activate\", \"think\", \"long\", \"already\", \"touch\", \"decent\", \"extra\", \"service\", \"addition\", \"bass\", \"problem\", \"name\", \"many\", \"pay\", \"high\", \"far\", \"enable\", \"star\", \"spotify\", \"bose\", \"instead\", \"support\", \"mean\", \"hour\", \"upgrade\", \"due\", \"offer\", \"mom\", \"spend\", \"wish\", \"last\", \"well\", \"voice\", \"battery\", \"speaker\", \"charge\", \"command\", \"function\", \"echo\", \"also\", \"portable\", \"get\", \"bluetooth\", \"prime\", \"tap\", \"wifi\", \"good\", \"need\", \"sound\", \"amazon\", \"say\", \"button\", \"listen\", \"use\", \"great\", \"hand\", \"talk\", \"free\", \"anywhere\", \"hold\", \"take\", \"operate\", \"actually\", \"press\", \"hit\", \"speak\", \"radio\", \"base\", \"microphone\", \"original\", \"require\", \"network\", \"station\", \"thought\", \"functionality\", \"push\", \"expect\", \"clock\", \"wake\", \"several\", \"rechargeable\", \"kitchen\", \"garage\", \"quickly\", \"regular\", \"work\", \"set\", \"button\", \"alexa\", \"able\", \"time\", \"great\", \"option\", \"portable\", \"go\", \"want\", \"echo\", \"like\", \"tap\", \"sound\", \"need\", \"say\", \"device\", \"speaker\", \"ask\", \"fun\", \"news\", \"loud\", \"start\", \"alarm\", \"carry\", \"information\", \"expensive\", \"list\", \"turn\", \"song\", \"capability\", \"place\", \"skill\", \"mostly\", \"enough\", \"big\", \"convenient\", \"timer\", \"movie\", \"friend\", \"fi\", \"certain\", \"question\", \"hear\", \"compare\", \"siri\", \"useful\", \"away\", \"access\", \"really\", \"keep\", \"use\", \"house\", \"item\", \"small\", \"home\", \"also\", \"device\", \"phone\", \"music\", \"easy\", \"day\", \"buy\", \"alexa\", \"make\", \"voice\", \"app\", \"work\", \"recommend\", \"gift\", \"perfect\", \"daughter\", \"worth\", \"price\", \"beat\", \"product\", \"bedroom\", \"office\", \"highly\", \"compact\", \"value\", \"impressed\", \"daily\", \"beach\", \"ok\", \"instruction\", \"benefit\", \"mother\", \"produce\", \"useless\", \"other\", \"ready\", \"clear\", \"feature\", \"gathering\", \"camping\", \"portability\", \"compliment\", \"good\", \"sound\", \"love\", \"easy\", \"excellent\", \"quality\", \"great\", \"buy\", \"lot\", \"size\", \"use\", \"connect\", \"well\", \"purchase\", \"look\", \"speaker\", \"really\", \"need\", \"item\", \"first\", \"move\", \"full\", \"review\", \"know\", \"request\", \"call\", \"sit\", \"return\", \"read\", \"decide\", \"super\", \"deck\", \"week\", \"live\", \"happy\", \"definitely\", \"pleased\", \"everyday\", \"remember\", \"hot\", \"wherever\", \"personal\", \"area\", \"event\", \"wait\", \"invest\", \"difficult\", \"ago\", \"physically\", \"enjoy\", \"even\", \"much\", \"try\", \"room\", \"weather\", \"awesome\", \"family\", \"get\", \"tap\", \"dot\", \"echo\", \"come\", \"give\", \"buy\", \"house\", \"make\", \"time\"], \"Freq\": [191.0, 171.0, 264.0, 183.0, 135.0, 107.0, 91.0, 67.0, 141.0, 105.0, 149.0, 171.0, 163.0, 94.0, 51.0, 68.0, 39.0, 58.0, 73.0, 88.0, 41.0, 36.0, 36.0, 48.0, 37.0, 28.0, 88.0, 31.0, 48.0, 27.0, 65.50047140928515, 17.236838329066874, 15.091042531300864, 14.381207058518529, 11.934677630066155, 11.549092329731039, 11.865609276963049, 10.800418454149819, 10.411256873630643, 10.109233474800481, 9.96897253507419, 21.226176567107437, 9.437743416516389, 8.667412664870024, 8.186570642281822, 6.506693395987564, 6.420892281631881, 6.126026057724913, 6.063962214681231, 5.92798973480576, 5.799973132427924, 6.378905983178512, 14.039457724129827, 5.471215693310022, 9.637058355737906, 8.477196090073758, 4.818537253340336, 4.764009363282354, 4.591884536208608, 4.557279987692143, 26.497368986991745, 31.077001110380515, 63.907606982600335, 90.01230501993744, 30.43711613981335, 13.0903129632805, 13.31285295820056, 13.469898572924036, 22.67846318795073, 28.20277625924511, 25.09114331673411, 23.87448049263695, 50.33675732645918, 43.070645063395446, 15.348774661417094, 16.723785942954247, 37.311311163884895, 28.708285385993168, 27.135804987264976, 19.146055117185984, 30.68943698885546, 25.711444471976467, 19.913885503157672, 19.255452590471847, 13.169598391721001, 15.820934317683676, 11.577272131028442, 10.251556778976958, 9.610959736482352, 9.43731471837, 9.121886952759876, 8.7470493443234, 8.438590829384093, 8.202623833650941, 7.977609063500387, 7.951224816526713, 7.678287467021154, 7.804723799190054, 7.617678374984175, 7.2673737824263185, 7.173209407026807, 7.721015592816292, 6.561821611558447, 6.489632006589512, 6.3483392009298605, 6.012233749599442, 5.997702120541141, 5.688186141431722, 5.474945644362833, 5.233280495114551, 22.091361301254558, 14.44337532289253, 51.47901594716192, 33.832711208604756, 27.077692765799554, 83.0064323347284, 24.245954293189687, 21.45600839440949, 13.133812000362402, 66.93679864823915, 25.104668703109088, 36.93458878256205, 41.325183074224306, 24.841356685222042, 14.58848218435909, 64.61486262018123, 11.503353589339023, 29.920397986449004, 18.441829645136153, 31.12827200784435, 22.310662631093162, 13.876770198712086, 17.297246019940236, 14.261630595484428, 16.352482230713896, 13.33301730709976, 28.669058546676634, 26.17753032050821, 17.504002643841478, 15.093031032878686, 13.88885681094318, 39.7069799969766, 12.660582241351944, 12.76073176905502, 13.003137491615286, 12.255386032924266, 13.413214362316264, 11.98973370084586, 11.322966481949742, 9.558355481833248, 7.769109225564198, 7.146919225777872, 6.9057374463883106, 6.764047136367452, 6.623155411489454, 6.185766475590364, 17.600944987125025, 6.140707612177284, 6.141151858217021, 5.997752183119793, 5.923781439901215, 8.241203750037023, 5.458829228245827, 5.291646901852921, 5.236345069589954, 5.0174413224686285, 79.23195813342859, 29.96160599865981, 49.77671404593941, 91.3468498452451, 24.30421125673942, 31.804272085686748, 87.5494467859014, 10.896868799560632, 42.95955608668864, 20.516622408375618, 23.50963188344137, 52.712669636758946, 10.490552154267428, 42.38703173641624, 24.712290531302536, 12.745506520427845, 11.46200718166217, 11.669608342466379, 11.683658756753774, 39.23959079130226, 27.940993135778616, 16.580538970382378, 16.263599018920615, 15.130522253786532, 14.305723380572719, 13.257549993242954, 10.71679620796232, 10.66708858698242, 9.9691987754435, 9.555436436530087, 9.024426513512935, 8.881773670701046, 8.897470297121046, 8.74882356583768, 8.604874623235029, 8.581277616938344, 8.186464924991023, 7.544035609905499, 7.3104979444236875, 7.115504020673003, 6.973399351446191, 6.892082351840058, 6.576777752160778, 32.90074198764354, 6.205631488732386, 6.137393373826358, 6.047365850108487, 5.93449252093274, 5.59720137952751, 11.982819148400019, 31.662969962099368, 10.888776665039144, 77.81937182474627, 17.182474172247694, 14.368107761305009, 17.68883462188188, 16.484107574125815, 22.847531844458892, 23.351471685287287, 17.696285067167228, 33.131873452705314, 20.16439963062222, 12.835917401077605, 21.996022443773416, 23.15892587726064, 13.99994075909348, 14.262017507183794, 10.449969931987923, 11.165756268480028, 26.81151619285808, 24.964420967402997, 13.093921053004204, 12.029259129709006, 10.343603358259207, 26.748122386251378, 7.097388875717931, 46.567139715120625, 7.024012848703078, 6.4131283012395865, 5.946124948686295, 5.526678503841025, 5.406078673496203, 5.417719997598502, 5.27165244418381, 5.259388234149143, 4.885363042256662, 4.765468250754401, 4.740605121757988, 4.599450376554843, 4.21126503949713, 3.933354901613678, 3.9686283446987054, 3.821462958839588, 3.695084184718324, 24.511927872612677, 3.511476281352945, 3.5084330936679162, 30.697025367938835, 3.123947204847365, 71.77719274944607, 110.2430132044143, 81.91353201712175, 37.311723536174135, 17.619898166873146, 35.257903348608686, 86.73439315121352, 41.78136557551693, 12.697564068660656, 12.19101820988051, 42.120518461581185, 14.685586193357015, 17.706991804431524, 12.538777896926787, 8.39300573507377, 15.921942564400275, 9.889310601279956, 8.634352372454307, 6.912816959296997, 16.107437422020585, 13.519408925189317, 10.897139095917737, 10.901919046085473, 10.679832934918451, 9.640083599462189, 9.118023917171161, 10.536760643328163, 8.652848473162665, 8.513460546973363, 8.405149067342006, 8.514176370054109, 7.178919510140991, 7.006333519028028, 7.144617243491741, 6.519387944008352, 6.234170299400093, 5.960941306525951, 5.769261981115624, 5.602540445990065, 5.591508276687143, 5.445347420849919, 5.158043856705418, 5.117354884813377, 5.2231788330768625, 4.965658863915833, 4.946593842483228, 4.843901235512345, 4.836908573414013, 4.749937300097444, 30.934052544111893, 20.845457468042866, 22.48071744293887, 14.10573634849429, 17.14713505572381, 15.74960466527105, 10.984133450374056, 11.752544599924407, 56.426884575160976, 118.6748842967519, 31.688213705729794, 63.33185557636472, 10.343191741943725, 10.803155156848385, 15.011459968147719, 9.542601175103963, 10.415017786854115, 9.635132541111782], \"Total\": [191.0, 171.0, 264.0, 183.0, 135.0, 107.0, 91.0, 67.0, 141.0, 105.0, 149.0, 171.0, 163.0, 94.0, 51.0, 68.0, 39.0, 58.0, 73.0, 88.0, 41.0, 36.0, 36.0, 48.0, 37.0, 28.0, 88.0, 31.0, 48.0, 27.0, 67.31921118572927, 17.96760488296313, 15.818127943845147, 15.106005882600128, 12.66244099869245, 12.27228285290647, 12.621383184387543, 11.526908409673284, 11.134979186513398, 10.837676207247554, 10.694532006337981, 22.845925291619757, 10.165389909348892, 9.396652481692993, 8.91256253320922, 7.23585830095873, 7.158355075139703, 6.854871934934246, 6.796267137165485, 6.654196311010375, 6.53103097587166, 7.227797297439368, 15.91015911016289, 6.210700636959198, 10.948100798109913, 9.68426745957028, 5.544531206732378, 5.494186602770831, 5.319251628081839, 5.290001247416309, 30.76016665138956, 37.70768326906917, 94.39859587587077, 141.4840188547286, 45.72308762304546, 17.346231501506196, 18.428804452937012, 20.030860722934307, 40.948018838586776, 60.35351430652905, 51.565159597409654, 49.308772217359945, 163.19169564568094, 135.71079489614115, 27.704701193182856, 36.90867100666665, 264.0912896290589, 171.0342259893524, 149.60047637026352, 66.09217170667434, 31.440088035637007, 26.448735068782202, 20.676053657782617, 19.99425317221653, 13.909543389605224, 16.793897320679918, 12.314894901029504, 11.003088718589515, 10.347673340417554, 10.173236144168815, 9.857675081221876, 9.489161768996775, 9.179155707627693, 8.945371127944153, 8.71520569848507, 8.690747086339949, 8.41364264937493, 8.554850243204045, 8.360976748948069, 8.003034846801235, 7.919037093934029, 8.549652984657625, 7.303817742855356, 7.236711297903281, 7.08684421966744, 6.747104705441128, 6.7322945769326985, 6.442129908628087, 6.2143074311090585, 5.973218843329079, 27.85316293857385, 17.856857406022357, 73.91443333834751, 48.68046938262922, 38.91776717923207, 163.19169564568094, 36.497182425765466, 31.97478164232436, 17.620396476779575, 183.43271814403275, 48.791817410035115, 88.12375285313816, 105.94583699510989, 49.308772217359945, 22.926846041562943, 264.0912896290589, 16.393324866371145, 107.98121681769629, 45.58653535423058, 171.19482059565263, 94.39859587587077, 31.579959416994896, 68.55229541627942, 60.35351430652905, 171.0342259893524, 191.40216493312582, 29.421938865090585, 26.928735049279375, 18.256011991215065, 15.848623559197476, 14.665184079458546, 41.948463750251385, 13.412660549865844, 13.5229728578026, 13.789758659816663, 13.010087416027583, 14.251766620980536, 12.74519104411552, 12.074691948848194, 10.308918869650288, 8.520518855241548, 7.902467816723679, 7.6706016887220505, 7.5148418065891684, 7.404713983484068, 6.936975564261009, 19.75212174901742, 6.897443703223736, 6.898970682931434, 6.7496711071028574, 6.679453363618307, 9.346770666211297, 6.222391300937721, 6.043697585506065, 5.9882278884935864, 5.768217295902416, 91.93096143186501, 34.70092849193098, 68.55229541627942, 149.60047637026352, 36.71513861996186, 52.85794972857476, 191.40216493312582, 14.399596359587818, 88.12375285313816, 34.942528806565946, 51.565159597409654, 183.43271814403275, 16.276060375576314, 264.0912896290589, 171.19482059565263, 45.58653535423058, 31.579959416994896, 66.09217170667434, 163.19169564568094, 39.9796454501246, 28.681250019999798, 17.323399134110545, 17.015836328091254, 15.893437912403497, 15.07640609666603, 13.999223230437893, 11.458340845241185, 11.418847526384202, 10.70932340663584, 10.296105247298044, 9.76217482534073, 9.620517876945927, 9.640132944353953, 9.497680007075719, 9.351941140415386, 9.335281608485058, 8.924338809747915, 8.283360621577135, 8.047885361270295, 7.860365660760809, 7.713958345073775, 7.632767969046193, 7.321878761567752, 36.70226774645741, 6.9476521595266965, 6.881371128609051, 6.801774475906483, 6.684965066378344, 6.341774222374415, 14.518126276929003, 45.47257575833805, 14.064047380325096, 171.0342259893524, 27.31653817240052, 21.897092735943183, 31.223874754879052, 28.258643345111206, 48.791817410035115, 66.09217170667434, 40.948018838586776, 141.4840188547286, 58.08954746518499, 22.458250170874905, 88.3905876084554, 149.60047637026352, 40.24096568148872, 48.68046938262922, 27.704701193182856, 91.93096143186501, 27.577362542411695, 25.728806468218348, 13.863093835787955, 12.7967298632289, 11.108322300285662, 28.841741806740387, 7.865053658719055, 51.6625178182623, 7.805113546171623, 7.179185561459786, 6.711191978071922, 6.289472160209657, 6.179397219729107, 6.193256320929846, 6.03572850520257, 6.050602972814012, 5.6497399655633815, 5.529672400247419, 5.504555704235678, 5.3626277408179, 4.97697575510313, 4.698831747978417, 4.741987127426145, 4.6097705584437385, 4.4594890529760844, 29.865352993341368, 4.278733361425007, 4.279275843379266, 37.54557880215007, 3.8921638130819183, 107.98121681769629, 171.19482059565263, 135.71079489614115, 58.08954746518499, 25.970418576861, 61.11508470728017, 191.40216493312582, 88.3905876084554, 20.381754255934244, 22.244517204165344, 171.0342259893524, 45.72308762304546, 73.91443333834751, 36.90867100666665, 15.982277120007574, 163.19169564568094, 45.47257575833805, 45.58653535423058, 21.897092735943183, 16.850603596755708, 14.267300407455005, 11.638207643205913, 11.644496822718635, 11.422754326680977, 10.381886914466612, 9.861509380638726, 11.421294206789012, 9.40348765580079, 9.260566231991941, 9.146773882089471, 9.346107276625498, 7.921847432540795, 7.7547500385974155, 7.914646940548559, 7.26278824785841, 6.9770202019190055, 6.709029929297844, 6.51310182626462, 6.351227103405562, 6.350540615810636, 6.195081305797942, 5.901987340088068, 5.857926679643336, 5.982452259565368, 5.706588317998769, 5.699867627080249, 5.584711661210735, 5.583416082889468, 5.4905627840688345, 36.83173955319933, 25.318666848898438, 29.11356251962052, 17.72936890573178, 22.505418185176534, 21.631843193862558, 14.246670362718188, 15.4371491875247, 105.94583699510989, 264.0912896290589, 52.79902575187387, 183.43271814403275, 15.151940681890416, 20.025909872350148, 88.3905876084554, 27.31653817240052, 40.24096568148872, 52.85794972857476], \"Category\": [\"Default\", \"Default\", \"Default\", \"Default\", \"Default\", \"Default\", \"Default\", \"Default\", \"Default\", \"Default\", \"Default\", \"Default\", \"Default\", \"Default\", \"Default\", \"Default\", \"Default\", \"Default\", \"Default\", \"Default\", \"Default\", \"Default\", \"Default\", \"Default\", \"Default\", \"Default\", \"Default\", \"Default\", \"Default\", \"Default\", \"Topic1\", \"Topic1\", \"Topic1\", \"Topic1\", \"Topic1\", \"Topic1\", \"Topic1\", \"Topic1\", \"Topic1\", \"Topic1\", \"Topic1\", \"Topic1\", \"Topic1\", \"Topic1\", \"Topic1\", \"Topic1\", \"Topic1\", \"Topic1\", \"Topic1\", \"Topic1\", \"Topic1\", \"Topic1\", \"Topic1\", \"Topic1\", \"Topic1\", \"Topic1\", \"Topic1\", \"Topic1\", \"Topic1\", \"Topic1\", \"Topic1\", \"Topic1\", \"Topic1\", \"Topic1\", \"Topic1\", \"Topic1\", \"Topic1\", \"Topic1\", \"Topic1\", \"Topic1\", \"Topic1\", \"Topic1\", \"Topic1\", \"Topic1\", \"Topic1\", \"Topic1\", \"Topic1\", \"Topic1\", \"Topic1\", \"Topic1\", \"Topic2\", \"Topic2\", \"Topic2\", \"Topic2\", \"Topic2\", \"Topic2\", \"Topic2\", \"Topic2\", \"Topic2\", \"Topic2\", \"Topic2\", \"Topic2\", \"Topic2\", \"Topic2\", \"Topic2\", \"Topic2\", \"Topic2\", \"Topic2\", \"Topic2\", \"Topic2\", \"Topic2\", \"Topic2\", \"Topic2\", \"Topic2\", \"Topic2\", \"Topic2\", \"Topic2\", \"Topic2\", \"Topic2\", \"Topic2\", \"Topic2\", \"Topic2\", \"Topic2\", \"Topic2\", \"Topic2\", \"Topic2\", \"Topic2\", \"Topic2\", \"Topic2\", \"Topic2\", \"Topic2\", \"Topic2\", \"Topic2\", \"Topic2\", \"Topic2\", \"Topic2\", \"Topic2\", \"Topic2\", \"Topic2\", \"Topic2\", \"Topic2\", \"Topic2\", \"Topic2\", \"Topic2\", \"Topic2\", \"Topic2\", \"Topic3\", \"Topic3\", \"Topic3\", \"Topic3\", \"Topic3\", \"Topic3\", \"Topic3\", \"Topic3\", \"Topic3\", \"Topic3\", \"Topic3\", \"Topic3\", \"Topic3\", \"Topic3\", \"Topic3\", \"Topic3\", \"Topic3\", \"Topic3\", \"Topic3\", \"Topic3\", \"Topic3\", \"Topic3\", \"Topic3\", \"Topic3\", \"Topic3\", \"Topic3\", \"Topic3\", \"Topic3\", \"Topic3\", \"Topic3\", \"Topic3\", \"Topic3\", \"Topic3\", \"Topic3\", \"Topic3\", \"Topic3\", \"Topic3\", \"Topic3\", \"Topic3\", \"Topic3\", \"Topic3\", \"Topic3\", \"Topic3\", \"Topic3\", \"Topic3\", \"Topic3\", \"Topic3\", \"Topic3\", \"Topic3\", \"Topic4\", \"Topic4\", \"Topic4\", \"Topic4\", \"Topic4\", \"Topic4\", \"Topic4\", \"Topic4\", \"Topic4\", \"Topic4\", \"Topic4\", \"Topic4\", \"Topic4\", \"Topic4\", \"Topic4\", \"Topic4\", \"Topic4\", \"Topic4\", \"Topic4\", \"Topic4\", \"Topic4\", \"Topic4\", \"Topic4\", \"Topic4\", \"Topic4\", \"Topic4\", \"Topic4\", \"Topic4\", \"Topic4\", \"Topic4\", \"Topic4\", \"Topic4\", \"Topic4\", \"Topic4\", \"Topic4\", \"Topic4\", \"Topic4\", \"Topic4\", \"Topic4\", \"Topic4\", \"Topic4\", \"Topic4\", \"Topic4\", \"Topic4\", \"Topic4\", \"Topic4\", \"Topic4\", \"Topic4\", \"Topic4\", \"Topic4\", \"Topic5\", \"Topic5\", \"Topic5\", \"Topic5\", \"Topic5\", \"Topic5\", \"Topic5\", \"Topic5\", \"Topic5\", \"Topic5\", \"Topic5\", \"Topic5\", \"Topic5\", \"Topic5\", \"Topic5\", \"Topic5\", \"Topic5\", \"Topic5\", \"Topic5\", \"Topic5\", \"Topic5\", \"Topic5\", \"Topic5\", \"Topic5\", \"Topic5\", \"Topic5\", \"Topic5\", \"Topic5\", \"Topic5\", \"Topic5\", \"Topic5\", \"Topic5\", \"Topic5\", \"Topic5\", \"Topic5\", \"Topic5\", \"Topic5\", \"Topic5\", \"Topic5\", \"Topic5\", \"Topic5\", \"Topic5\", \"Topic5\", \"Topic5\", \"Topic5\", \"Topic5\", \"Topic5\", \"Topic5\", \"Topic5\", \"Topic6\", \"Topic6\", \"Topic6\", \"Topic6\", \"Topic6\", \"Topic6\", \"Topic6\", \"Topic6\", \"Topic6\", \"Topic6\", \"Topic6\", \"Topic6\", \"Topic6\", \"Topic6\", \"Topic6\", \"Topic6\", \"Topic6\", \"Topic6\", \"Topic6\", \"Topic6\", \"Topic6\", \"Topic6\", \"Topic6\", \"Topic6\", \"Topic6\", \"Topic6\", \"Topic6\", \"Topic6\", \"Topic6\", \"Topic6\", \"Topic6\", \"Topic6\", \"Topic6\", \"Topic6\", \"Topic6\", \"Topic6\", \"Topic6\", \"Topic6\", \"Topic6\", \"Topic6\", \"Topic6\", \"Topic6\", \"Topic6\", \"Topic6\", \"Topic6\", \"Topic6\", \"Topic6\", \"Topic6\"], \"logprob\": [30.0, 29.0, 28.0, 27.0, 26.0, 25.0, 24.0, 23.0, 22.0, 21.0, 20.0, 19.0, 18.0, 17.0, 16.0, 15.0, 14.0, 13.0, 12.0, 11.0, 10.0, 9.0, 8.0, 7.0, 6.0, 5.0, 4.0, 3.0, 2.0, 1.0, -3.2275, -4.5625, -4.6954, -4.7436, -4.9301, -4.9629, -4.9359, -5.0299, -5.0666, -5.0961, -5.11, -4.3543, -5.1648, -5.2499, -5.307, -5.5367, -5.55, -5.597, -5.6071, -5.6298, -5.6517, -5.5565, -4.7676, -5.71, -5.1439, -5.2721, -5.837, -5.8484, -5.8852, -5.8928, -4.1325, -3.973, -3.2521, -2.9096, -3.9938, -4.8376, -4.8208, -4.8091, -4.2881, -4.0701, -4.187, -4.2367, -3.4908, -3.6467, -4.6785, -4.5927, -3.7902, -4.0523, -4.1087, -4.4574, -3.9794, -4.1564, -4.4119, -4.4455, -4.8254, -4.642, -4.9543, -5.0759, -5.1404, -5.1586, -5.1926, -5.2346, -5.2705, -5.2989, -5.3267, -5.33, -5.3649, -5.3486, -5.3728, -5.4199, -5.433, -5.3594, -5.522, -5.5331, -5.5551, -5.6095, -5.6119, -5.6649, -5.7031, -5.7483, -4.3081, -4.7331, -3.4621, -3.8819, -4.1046, -2.9844, -4.2151, -4.3373, -4.8281, -3.1996, -4.1803, -3.7942, -3.6818, -4.1908, -4.7231, -3.2349, -4.9607, -4.0048, -4.4887, -3.9652, -4.2982, -4.7731, -4.5528, -4.7457, -4.6089, -4.8131, -4.0359, -4.1268, -4.5293, -4.6775, -4.7606, -3.7102, -4.8532, -4.8453, -4.8265, -4.8857, -4.7955, -4.9077, -4.9649, -5.1343, -5.3415, -5.425, -5.4594, -5.4801, -5.5011, -5.5695, -4.5238, -5.5768, -5.5767, -5.6003, -5.6127, -5.2826, -5.6945, -5.7256, -5.7361, -5.7788, -3.0193, -3.9918, -3.4842, -2.877, -4.2011, -3.9321, -2.9195, -5.0032, -3.6314, -4.3705, -4.2343, -3.4268, -5.0412, -3.6449, -4.1844, -4.8465, -4.9527, -4.9347, -4.9335, -3.5791, -3.9187, -4.4406, -4.4599, -4.5321, -4.5882, -4.6643, -4.877, -4.8817, -4.9493, -4.9917, -5.0489, -5.0648, -5.0631, -5.0799, -5.0965, -5.0992, -5.1463, -5.2281, -5.2595, -5.2865, -5.3067, -5.3184, -5.3653, -3.7553, -5.4234, -5.4344, -5.4492, -5.468, -5.5266, -4.7653, -3.7937, -4.8611, -2.8944, -4.4049, -4.5838, -4.3759, -4.4464, -4.12, -4.0982, -4.3755, -3.7483, -4.2449, -4.6966, -4.158, -4.1064, -4.6098, -4.5912, -4.9022, -4.836, -3.9398, -4.0112, -4.6565, -4.7413, -4.8922, -3.9421, -5.2689, -3.3877, -5.2793, -5.3703, -5.4459, -5.519, -5.5411, -5.5389, -5.5663, -5.5686, -5.6424, -5.6672, -5.6724, -5.7027, -5.7908, -5.8591, -5.8502, -5.888, -5.9216, -4.0294, -5.9726, -5.9734, -3.8044, -6.0895, -2.955, -2.5259, -2.8229, -3.6093, -4.3596, -3.6659, -2.7658, -3.4962, -4.6872, -4.7279, -3.4881, -4.5417, -4.3546, -4.6998, -5.1012, -4.4609, -4.9371, -5.0729, -5.2952, -4.4074, -4.5826, -4.7982, -4.7978, -4.8184, -4.9208, -4.9765, -4.8319, -5.0288, -5.0451, -5.0579, -5.045, -5.2156, -5.2399, -5.2204, -5.3119, -5.3567, -5.4015, -5.4342, -5.4635, -5.4655, -5.492, -5.5462, -5.5541, -5.5336, -5.5842, -5.588, -5.609, -5.6105, -5.6286, -3.7549, -4.1496, -4.0741, -4.5401, -4.3449, -4.4299, -4.7903, -4.7227, -3.1538, -2.4103, -3.7308, -3.0383, -4.8504, -4.8069, -4.4779, -4.931, -4.8435, -4.9213], \"loglift\": [30.0, 29.0, 28.0, 27.0, 26.0, 25.0, 24.0, 23.0, 22.0, 21.0, 20.0, 19.0, 18.0, 17.0, 16.0, 15.0, 14.0, 13.0, 12.0, 11.0, 10.0, 9.0, 8.0, 7.0, 6.0, 5.0, 4.0, 3.0, 2.0, 1.0, 1.6705, 1.6564, 1.6509, 1.6487, 1.6387, 1.6372, 1.6362, 1.6328, 1.6307, 1.6283, 1.6277, 1.6244, 1.6236, 1.6171, 1.6129, 1.5917, 1.5892, 1.5855, 1.5839, 1.5824, 1.5792, 1.573, 1.5728, 1.5711, 1.5704, 1.5648, 1.5576, 1.5553, 1.5509, 1.5488, 1.5487, 1.5045, 1.3078, 1.2457, 1.291, 1.4164, 1.3727, 1.3011, 1.107, 0.9371, 0.9776, 0.9726, 0.5217, 0.5502, 1.1073, 0.9063, -0.2591, -0.0868, -0.0092, 0.459, 1.6799, 1.6758, 1.6666, 1.6665, 1.6494, 1.6444, 1.6423, 1.6334, 1.6303, 1.629, 1.6265, 1.6227, 1.62, 1.6174, 1.6157, 1.6152, 1.6127, 1.6123, 1.611, 1.6077, 1.6052, 1.6022, 1.597, 1.5952, 1.5941, 1.5888, 1.5886, 1.5796, 1.5774, 1.5719, 1.4724, 1.492, 1.3424, 1.3403, 1.3414, 1.0281, 1.2951, 1.3052, 1.4102, 0.696, 1.0396, 0.8345, 0.7627, 1.0185, 1.252, 0.2963, 1.3499, 0.4207, 0.7991, -0.0006, 0.2617, 0.8818, 0.3271, 0.2615, -0.6434, -0.96, 1.6898, 1.6874, 1.6737, 1.6669, 1.6613, 1.6608, 1.658, 1.6577, 1.657, 1.656, 1.6551, 1.6546, 1.6514, 1.6401, 1.6234, 1.6152, 1.6107, 1.6105, 1.6042, 1.6011, 1.6004, 1.5995, 1.5994, 1.5976, 1.5957, 1.5898, 1.5848, 1.5828, 1.5815, 1.5763, 1.5671, 1.5689, 1.3957, 1.2224, 1.3032, 1.2077, 0.9335, 1.437, 0.9972, 1.1832, 0.9303, 0.4687, 1.2765, -0.1137, -0.2198, 0.4413, 0.7022, -0.0183, -0.921, 1.8399, 1.8325, 1.8148, 1.8134, 1.8094, 1.8061, 1.8042, 1.7917, 1.7905, 1.787, 1.7839, 1.78, 1.7787, 1.7784, 1.7765, 1.7753, 1.7744, 1.7723, 1.7651, 1.7625, 1.759, 1.7577, 1.7565, 1.7513, 1.7493, 1.7457, 1.7442, 1.741, 1.7395, 1.7337, 1.6667, 1.4966, 1.6027, 1.0711, 1.395, 1.4373, 1.2904, 1.3196, 1.0999, 0.8182, 1.0197, 0.4069, 0.8005, 1.2992, 0.4677, -0.007, 0.8028, 0.6309, 0.8836, -0.2496, 1.8507, 1.8487, 1.8217, 1.817, 1.8075, 1.8035, 1.7761, 1.775, 1.7734, 1.766, 1.7578, 1.7495, 1.7451, 1.745, 1.7435, 1.7387, 1.7335, 1.7301, 1.7294, 1.7253, 1.7118, 1.701, 1.7008, 1.6913, 1.6908, 1.6813, 1.6812, 1.6802, 1.6774, 1.6589, 1.4704, 1.4387, 1.374, 1.4361, 1.4909, 1.3287, 1.0873, 1.1295, 1.4056, 1.2774, 0.4775, 0.7431, 0.4499, 0.7992, 1.2347, -0.4484, 0.3532, 0.215, 0.7258, 1.8756, 1.8669, 1.8549, 1.8548, 1.8534, 1.8466, 1.8423, 1.8401, 1.8375, 1.8366, 1.8361, 1.8275, 1.8222, 1.8192, 1.8183, 1.8127, 1.8081, 1.8025, 1.7994, 1.7953, 1.7934, 1.7917, 1.786, 1.7855, 1.785, 1.7816, 1.779, 1.7784, 1.7772, 1.7758, 1.7462, 1.7263, 1.6621, 1.6921, 1.6488, 1.6033, 1.6606, 1.648, 1.2907, 1.1208, 1.4101, 0.8572, 1.5389, 1.3035, 0.1477, 0.869, 0.5691, 0.2185]}, \"token.table\": {\"Topic\": [1, 2, 3, 4, 5, 2, 4, 2, 3, 2, 6, 4, 1, 2, 3, 4, 6, 2, 2, 4, 1, 5, 1, 2, 3, 3, 1, 3, 4, 6, 1, 6, 4, 4, 1, 6, 3, 2, 1, 2, 3, 5, 5, 5, 5, 4, 1, 2, 1, 2, 1, 2, 3, 1, 2, 3, 4, 5, 6, 6, 5, 4, 4, 4, 1, 2, 4, 5, 3, 1, 2, 5, 6, 2, 4, 6, 5, 4, 5, 1, 5, 4, 5, 5, 2, 4, 6, 2, 6, 6, 6, 1, 2, 3, 4, 6, 6, 1, 2, 3, 5, 6, 2, 1, 4, 5, 2, 3, 6, 2, 5, 6, 4, 1, 6, 6, 6, 4, 5, 3, 4, 2, 1, 6, 2, 1, 1, 2, 5, 1, 6, 4, 6, 3, 4, 6, 4, 2, 3, 3, 3, 5, 1, 2, 3, 6, 5, 1, 6, 1, 1, 2, 3, 2, 3, 5, 1, 2, 3, 4, 5, 3, 6, 4, 2, 5, 3, 3, 1, 2, 4, 6, 1, 6, 2, 4, 6, 5, 4, 2, 5, 6, 1, 6, 4, 5, 3, 4, 1, 3, 6, 1, 2, 6, 1, 1, 3, 4, 1, 2, 3, 4, 6, 1, 6, 6, 2, 1, 2, 5, 1, 2, 3, 5, 4, 1, 4, 5, 6, 1, 3, 4, 5, 6, 1, 2, 2, 1, 3, 1, 5, 2, 1, 4, 5, 6, 4, 2, 5, 6, 1, 2, 3, 4, 6, 2, 2, 3, 5, 6, 3, 1, 4, 4, 2, 2, 5, 5, 1, 3, 1, 3, 1, 3, 5, 1, 2, 1, 5, 6, 1, 4, 6, 4, 1, 4, 6, 3, 5, 1, 2, 3, 3, 2, 5, 1, 2, 2, 5, 2, 5, 6, 1, 3, 5, 6, 1, 3, 1, 1, 2, 3, 4, 5, 4, 6, 3, 3, 6, 5, 1, 3, 4, 5, 2, 3, 5, 3, 6, 6, 3, 6, 6, 3, 6, 1, 1, 2, 3, 2, 3, 5, 6, 3, 1, 4, 6, 1, 2, 5, 4, 1, 2, 4, 5, 4, 1, 2, 3, 5, 3, 1, 2, 3, 4, 5, 2, 2, 2, 4, 3, 1, 3, 1, 2, 1, 6, 2, 3, 4, 5, 3, 1, 2, 3, 4, 6, 1, 4, 2, 3, 2, 3, 4, 6, 4, 2, 3, 6, 4, 2, 1, 2, 3, 4, 5, 6, 4, 5, 5, 2, 4, 6, 3, 1, 2, 3, 1, 4, 6, 6, 2, 3, 5, 6, 6, 2, 6, 2, 6, 2, 3, 4, 5, 1], \"Freq\": [0.9507674257797525, 0.054473442704438234, 0.6536813124532588, 0.19065704946553383, 0.08171016405665735, 0.1377588238213793, 0.8265529429282759, 0.9830337795885048, 0.9613270792375472, 0.8846742445036725, 0.895509115883847, 0.9286032699196087, 0.18048070871896543, 0.04010682415977009, 0.6082868330898464, 0.15374282594578537, 0.013368941386590031, 0.9346101188134661, 0.5123809959753252, 0.4713905162972991, 0.9192011149446911, 0.04377148166403291, 0.6779761860457826, 0.23305431395323775, 0.08474702325572282, 0.9464544314509261, 0.5414243559389469, 0.03609495706259645, 0.36094957062596456, 0.03609495706259645, 0.8853570871612993, 0.8535443124229114, 0.9754963947505055, 0.9461074755438942, 0.21057551860332482, 0.7721102348788577, 0.910996325752997, 0.9129941822838448, 0.051390409701286055, 0.6937705309673617, 0.2569520485064303, 0.8263639214910513, 0.8900129997511114, 0.8968479393145372, 0.9083385233348753, 0.8964249532146544, 0.4867288095149612, 0.5070091765780846, 0.8752898751357276, 0.88394585313434, 0.014587403586233897, 0.24798586096597625, 0.7293701793116949, 0.011313421791353048, 0.056567108956765234, 0.04525368716541219, 0.24889527940976705, 0.475163715236828, 0.1697013268702957, 0.9126391967612846, 0.9347375926206414, 0.9355005744095231, 0.9286229518602628, 0.9560387747394452, 0.21919500269018954, 0.6575850080705686, 0.10959750134509477, 0.896963744608939, 0.8696949553423159, 0.13199629288348508, 0.13199629288348508, 0.06599814644174254, 0.6599814644174254, 0.6567675812429234, 0.250197173806828, 0.062549293451707, 0.9539751265549751, 0.8719192567677708, 0.7707794800200151, 0.6561236687978904, 0.3280618343989452, 0.9657915869509514, 0.828400415242367, 0.9377395731765593, 0.17810826620799783, 0.5788518651759929, 0.22263533275999728, 0.9744297532735599, 0.874625316327651, 0.8836322662875207, 0.8599659777894466, 0.2874773140202515, 0.1664342344327772, 0.1815646193812115, 0.34799885381398865, 0.01513038494843429, 0.895301369760606, 0.918691095198674, 0.18939743409271323, 0.18939743409271323, 0.018939743409271324, 0.6060717890966824, 0.8912265991090457, 0.9542888352239264, 0.3442960200711956, 0.6369476371317118, 0.365256540261215, 0.2889342781170805, 0.34345017964860514, 0.9351420273376712, 0.13575248035130297, 0.8416653781780784, 0.9640844676629452, 0.1579862014012018, 0.8294275573563095, 0.8357776682639597, 0.9212200515282143, 0.3080427824574149, 0.6930962605291835, 0.8698874913898481, 0.9633196322644278, 0.9088357147484583, 0.194336400041039, 0.777345600164156, 0.9508366748371871, 0.9476845737120627, 0.033483615620513676, 0.10045084686154104, 0.837090390512842, 0.8260821000037708, 0.10326026250047135, 0.9170984927601219, 0.9495208826276421, 0.9859765653452539, 0.9074459164626268, 0.9451627206893424, 0.9762475478047591, 0.7377813556653845, 0.2270096478970414, 0.8649302486968146, 0.8273081055529565, 0.9348561039260047, 0.028316355650090056, 0.3869901938845641, 0.047193926083483426, 0.5285719721350144, 0.9716735220843372, 0.4494177821316541, 0.5492884003831328, 0.9577878949481456, 0.2575657889508225, 0.14309210497267916, 0.6009868408852524, 0.2778260968354221, 0.05556521936708442, 0.666782632405013, 0.00522460130139798, 0.06791981691817374, 0.45976491452302226, 0.015673803904193942, 0.4545403132216243, 0.9856590394322646, 0.963817167885089, 0.8636010931797635, 0.9205192511670648, 0.8940289623071933, 0.9223612122095951, 0.9546419549966464, 0.07077480597970756, 0.17693701494926892, 0.5661984478376605, 0.17693701494926892, 0.8976094103341313, 0.9448014528183771, 0.8466391829735406, 0.6223336168261645, 0.3660785981330379, 0.8073297375247837, 0.9599993706391148, 0.9357104919177447, 0.9042126979848355, 0.8772133542619207, 0.7054174367739944, 0.2713143987592286, 0.6393542818138397, 0.31967714090691984, 0.21330986158343374, 0.782136159139257, 0.9482790917642387, 0.8035495934250382, 0.9629901585387757, 0.9399818526357318, 0.7840125326463321, 0.16800268556707115, 0.977813186334604, 0.3071996468815603, 0.6143992937631206, 0.9337658057654399, 0.46393321618010497, 0.23196660809005248, 0.13255234748003, 0.066276173740015, 0.0994142606100225, 0.8452489966866118, 0.13003830718255566, 0.8844361665884788, 0.9502730527790796, 0.31284653384846517, 0.12513861353938607, 0.5005544541575443, 0.19625396076176227, 0.04906349019044057, 0.09812698038088113, 0.6378253724757273, 0.9403005348368202, 0.31685025522772675, 0.02947444234676528, 0.6042260681086882, 0.044211663520147916, 0.8050621487446277, 0.24850298273533006, 0.3479041758294621, 0.12425149136766503, 0.24850298273533006, 0.8381813890229389, 0.8943172827127386, 0.8291058953448097, 0.9016866529879938, 0.9700338247340609, 0.9134004321303295, 0.09134004321303296, 0.8045948893628614, 0.9227070276663766, 0.9623670492434522, 0.9323787220847456, 0.9812648223685446, 0.8905438120956916, 0.17174126308418447, 0.0343482526168369, 0.7556615575704116, 0.636114246177932, 0.04947555248050583, 0.0636114246177932, 0.23324189026524175, 0.014135872137287378, 0.8715398512471209, 0.3948534333686656, 0.2851719240995918, 0.1974267166843328, 0.10968150926907377, 0.9125750865531156, 0.8799409171877645, 0.06285292265626889, 0.9813316583190791, 0.9860023281379438, 0.9313689858945668, 0.8357493964510349, 0.8849964831082999, 0.8980708299941794, 0.9692335052891522, 0.20833917320206563, 0.7639103017409072, 0.9267836984047463, 0.9389099579397866, 0.8435282282537784, 0.8828375752313963, 0.9179358785978636, 0.9451793612415595, 0.9377416148219487, 0.8471722678966965, 0.561687736118903, 0.4395817065278372, 0.9106534606084045, 0.9335970833546579, 0.9804036446284307, 0.014854600676188344, 0.8943170716527047, 0.1598057665222731, 0.8256631270317444, 0.09078142658463863, 0.41986409795395363, 0.4879501678924326, 0.9427286090134399, 0.034671969768701606, 0.9361431837549434, 0.34893591493122067, 0.6542548404960388, 0.9484504763534566, 0.8037009213674811, 0.038712786067368464, 0.909750472583159, 0.038712786067368464, 0.46059637305633044, 0.1625634257845872, 0.3522207558666056, 0.027093904297431203, 0.1012549449326623, 0.9112945043939606, 0.9461472528327572, 0.1145380069998683, 0.04908771728565784, 0.16362572428552613, 0.09817543457131568, 0.5726900349993415, 0.8991270029407172, 0.0817388184491561, 0.8349715630574995, 0.9415315908928978, 0.9718628185939886, 0.867722145665836, 0.021991276793169905, 0.06597383037950971, 0.703720857381437, 0.21991276793169906, 0.10698882381002602, 0.8559105904802081, 0.9790638955584038, 0.8668189396318102, 0.9446993316902127, 0.9632160398574104, 0.8857992417490367, 0.9570917014442096, 0.9446522393770412, 0.22216872216546105, 0.7553736553625675, 0.9017894955535307, 0.18999391103622107, 0.4433191257511825, 0.34832217023307194, 0.9664008198771064, 0.8645301812882589, 0.02881767270960863, 0.08645301812882589, 0.89827710044071, 0.9100528179145568, 0.88212274918162, 0.9631132690252749, 0.17981959164530617, 0.26972938746795927, 0.5394587749359185, 0.9475998342010944, 0.12810709853923427, 0.12810709853923427, 0.5764819434265542, 0.16013387317404285, 0.921925714405127, 0.02920649107609142, 0.1810802446717668, 0.1460324553804571, 0.6425428036740112, 0.9121676172315532, 0.3063881394342465, 0.5086043114608491, 0.07353315346421915, 0.012255525577369858, 0.09804420461895887, 0.8370696154191681, 0.8746681895053672, 0.9568260073210364, 0.9437857361429497, 0.9314900007425646, 0.7494423211676376, 0.23059763728235005, 0.6489985717446314, 0.29953780234367605, 0.8301284268342243, 0.9629677611885423, 0.9584028855111352, 0.9535510105482776, 0.02383877526370694, 0.02383877526370694, 0.9655113748351047, 0.14010306834416988, 0.2461270119559741, 0.15903591541770634, 0.0037865694147072937, 0.45060176035016797, 0.8221136201551967, 0.1591187651913284, 0.967302577707901, 0.9453437385445587, 0.18918630123472321, 0.6053961639511143, 0.01891863012347232, 0.18918630123472321, 0.8697937017948657, 0.9527270349746443, 0.16921076074118585, 0.7896502167922006, 0.9712410430754144, 0.8892703258571586, 0.169556706163627, 0.09354852753855283, 0.005846782971159552, 0.456049071750445, 0.24556488478870117, 0.02923391485579776, 0.8975364778159669, 0.8512754264335861, 0.8091404100122229, 0.6984320494685351, 0.28758966742822034, 0.8761802536604637, 0.8889322019981153, 0.4848234776190989, 0.058178817314291864, 0.4654305385143349, 0.9674042399465618, 0.23114072874837652, 0.7396503319948048, 0.9026725510376443, 0.6899870254912814, 0.013529157362574144, 0.2435248325263346, 0.04058747208772243, 0.8070919094024688, 0.7320052581045654, 0.2440017527015218, 0.7898564356413611, 0.17951282628212753, 0.010877728073595248, 0.8593405178140245, 0.11965500880954771, 0.9002259503888215, 0.9350572791846922], \"Term\": [\"ability\", \"able\", \"able\", \"able\", \"able\", \"access\", \"access\", \"activate\", \"actually\", \"addition\", \"ago\", \"alarm\", \"alexa\", \"alexa\", \"alexa\", \"alexa\", \"alexa\", \"already\", \"also\", \"also\", \"amazing\", \"amazing\", \"amazon\", \"amazon\", \"amazon\", \"anywhere\", \"app\", \"app\", \"app\", \"app\", \"apple\", \"area\", \"ask\", \"away\", \"awesome\", \"awesome\", \"base\", \"bass\", \"battery\", \"battery\", \"battery\", \"beach\", \"beat\", \"bedroom\", \"benefit\", \"big\", \"bluetooth\", \"bluetooth\", \"bonus\", \"bose\", \"button\", \"button\", \"button\", \"buy\", \"buy\", \"buy\", \"buy\", \"buy\", \"buy\", \"call\", \"camping\", \"capability\", \"carry\", \"certain\", \"charge\", \"charge\", \"charge\", \"clear\", \"clock\", \"come\", \"come\", \"come\", \"come\", \"command\", \"command\", \"command\", \"compact\", \"compare\", \"compliment\", \"connect\", \"connect\", \"convenient\", \"daily\", \"daughter\", \"day\", \"day\", \"day\", \"decent\", \"decide\", \"deck\", \"definitely\", \"device\", \"device\", \"device\", \"device\", \"device\", \"difficult\", \"directly\", \"dot\", \"dot\", \"dot\", \"dot\", \"due\", \"easily\", \"easy\", \"easy\", \"echo\", \"echo\", \"echo\", \"enable\", \"enjoy\", \"enjoy\", \"enough\", \"even\", \"even\", \"event\", \"everyday\", \"excellent\", \"excellent\", \"expect\", \"expensive\", \"extra\", \"family\", \"family\", \"far\", \"favorite\", \"feature\", \"feature\", \"feature\", \"feel\", \"feel\", \"fi\", \"first\", \"free\", \"friend\", \"full\", \"fun\", \"function\", \"function\", \"functionality\", \"garage\", \"gathering\", \"get\", \"get\", \"get\", \"get\", \"gift\", \"give\", \"give\", \"glad\", \"go\", \"go\", \"go\", \"good\", \"good\", \"good\", \"great\", \"great\", \"great\", \"great\", \"great\", \"hand\", \"happy\", \"hear\", \"high\", \"highly\", \"hit\", \"hold\", \"home\", \"home\", \"home\", \"home\", \"hook\", \"hot\", \"hour\", \"house\", \"house\", \"impressed\", \"information\", \"instead\", \"instruction\", \"invest\", \"issue\", \"issue\", \"item\", \"item\", \"keep\", \"keep\", \"kid\", \"kitchen\", \"know\", \"lack\", \"last\", \"last\", \"learn\", \"like\", \"like\", \"list\", \"listen\", \"listen\", \"listen\", \"listen\", \"listen\", \"little\", \"little\", \"live\", \"long\", \"look\", \"look\", \"look\", \"lot\", \"lot\", \"lot\", \"lot\", \"loud\", \"love\", \"love\", \"love\", \"love\", \"low\", \"make\", \"make\", \"make\", \"make\", \"manually\", \"many\", \"mean\", \"member\", \"microphone\", \"mobile\", \"mobile\", \"mom\", \"month\", \"mostly\", \"mother\", \"move\", \"movie\", \"much\", \"much\", \"much\", \"music\", \"music\", \"music\", \"music\", \"music\", \"name\", \"need\", \"need\", \"need\", \"need\", \"network\", \"new\", \"new\", \"news\", \"nice\", \"offer\", \"office\", \"ok\", \"old\", \"operate\", \"option\", \"option\", \"order\", \"original\", \"other\", \"pandora\", \"pay\", \"people\", \"perfect\", \"personal\", \"phone\", \"phone\", \"physically\", \"place\", \"play\", \"play\", \"pleased\", \"portability\", \"portability\", \"portable\", \"portable\", \"portable\", \"press\", \"price\", \"price\", \"prime\", \"prime\", \"problem\", \"produce\", \"product\", \"product\", \"product\", \"purchase\", \"purchase\", \"purchase\", \"purchase\", \"push\", \"push\", \"put\", \"quality\", \"quality\", \"quality\", \"quality\", \"quality\", \"question\", \"question\", \"quickly\", \"radio\", \"read\", \"ready\", \"really\", \"really\", \"really\", \"really\", \"rechargeable\", \"rechargeable\", \"recommend\", \"regular\", \"remember\", \"request\", \"require\", \"return\", \"review\", \"room\", \"room\", \"run\", \"say\", \"say\", \"say\", \"service\", \"set\", \"set\", \"set\", \"several\", \"show\", \"siri\", \"sit\", \"size\", \"size\", \"size\", \"skill\", \"small\", \"small\", \"small\", \"small\", \"song\", \"sound\", \"sound\", \"sound\", \"sound\", \"speak\", \"speaker\", \"speaker\", \"speaker\", \"speaker\", \"speaker\", \"spend\", \"spotify\", \"star\", \"start\", \"station\", \"still\", \"still\", \"stream\", \"stream\", \"streaming\", \"super\", \"support\", \"take\", \"take\", \"take\", \"talk\", \"tap\", \"tap\", \"tap\", \"tap\", \"tap\", \"thing\", \"thing\", \"think\", \"thought\", \"time\", \"time\", \"time\", \"time\", \"timer\", \"touch\", \"try\", \"try\", \"turn\", \"upgrade\", \"use\", \"use\", \"use\", \"use\", \"use\", \"use\", \"useful\", \"useless\", \"value\", \"voice\", \"voice\", \"wait\", \"wake\", \"want\", \"want\", \"want\", \"way\", \"weather\", \"weather\", \"week\", \"well\", \"well\", \"well\", \"well\", \"wherever\", \"wifi\", \"wifi\", \"wish\", \"wish\", \"work\", \"work\", \"work\", \"worth\", \"year\"]}, \"R\": 30, \"lambda.step\": 0.01, \"plot.opts\": {\"xlab\": \"PC1\", \"ylab\": \"PC2\"}, \"topic.order\": [5, 1, 3, 2, 6, 4]};\n",
       "\n",
       "function LDAvis_load_lib(url, callback){\n",
       "  var s = document.createElement('script');\n",
       "  s.src = url;\n",
       "  s.async = true;\n",
       "  s.onreadystatechange = s.onload = callback;\n",
       "  s.onerror = function(){console.warn(\"failed to load library \" + url);};\n",
       "  document.getElementsByTagName(\"head\")[0].appendChild(s);\n",
       "}\n",
       "\n",
       "if(typeof(LDAvis) !== \"undefined\"){\n",
       "   // already loaded: just create the visualization\n",
       "   !function(LDAvis){\n",
       "       new LDAvis(\"#\" + \"ldavis_el191401508458371361134725934\", ldavis_el191401508458371361134725934_data);\n",
       "   }(LDAvis);\n",
       "}else if(typeof define === \"function\" && define.amd){\n",
       "   // require.js is available: use it to load d3/LDAvis\n",
       "   require.config({paths: {d3: \"https://d3js.org/d3.v5\"}});\n",
       "   require([\"d3\"], function(d3){\n",
       "      window.d3 = d3;\n",
       "      LDAvis_load_lib(\"https://cdn.jsdelivr.net/gh/bmabey/pyLDAvis@3.2.2/pyLDAvis/js/ldavis.v3.0.0.js\", function(){\n",
       "        new LDAvis(\"#\" + \"ldavis_el191401508458371361134725934\", ldavis_el191401508458371361134725934_data);\n",
       "      });\n",
       "    });\n",
       "}else{\n",
       "    // require.js not available: dynamically load d3 & LDAvis\n",
       "    LDAvis_load_lib(\"https://d3js.org/d3.v5.js\", function(){\n",
       "         LDAvis_load_lib(\"https://cdn.jsdelivr.net/gh/bmabey/pyLDAvis@3.2.2/pyLDAvis/js/ldavis.v3.0.0.js\", function(){\n",
       "                 new LDAvis(\"#\" + \"ldavis_el191401508458371361134725934\", ldavis_el191401508458371361134725934_data);\n",
       "            })\n",
       "         });\n",
       "}\n",
       "</script>"
      ],
      "text/plain": [
       "PreparedData(topic_coordinates=              x         y  topics  cluster       Freq\n",
       "topic                                                \n",
       "4     -0.026104  0.071554       1        1  18.306513\n",
       "0      0.108271 -0.055120       2        1  18.193386\n",
       "2      0.098783 -0.136362       3        1  17.983461\n",
       "1     -0.165399  0.194596       4        1  15.589051\n",
       "5     -0.204110 -0.172082       5        1  15.277069\n",
       "3      0.188558  0.097415       6        1  14.650520, topic_info=      Term        Freq       Total Category  logprob  loglift\n",
       "168  great  191.000000  191.000000  Default  30.0000  30.0000\n",
       "80   sound  171.000000  171.000000  Default  29.0000  29.0000\n",
       "83     tap  264.000000  264.000000  Default  28.0000  28.0000\n",
       "27    echo  183.000000  183.000000  Default  27.0000  27.0000\n",
       "51    love  135.000000  135.000000  Default  26.0000  26.0000\n",
       "..     ...         ...         ...      ...      ...      ...\n",
       "37    give   10.803155   20.025910   Topic6  -4.8069   1.3035\n",
       "13     buy   15.011460   88.390588   Topic6  -4.4779   0.1477\n",
       "117  house    9.542601   27.316538   Topic6  -4.9310   0.8690\n",
       "53    make   10.415018   40.240966   Topic6  -4.8435   0.5691\n",
       "89    time    9.635133   52.857950   Topic6  -4.9213   0.2185\n",
       "\n",
       "[332 rows x 6 columns], token_table=      Topic      Freq     Term\n",
       "term                          \n",
       "101       1  0.950767  ability\n",
       "281       2  0.054473     able\n",
       "281       3  0.653681     able\n",
       "281       4  0.190657     able\n",
       "281       5  0.081710     able\n",
       "...     ...       ...      ...\n",
       "335       2  0.010878     work\n",
       "335       3  0.859341     work\n",
       "335       4  0.119655     work\n",
       "314       5  0.900226    worth\n",
       "142       1  0.935057     year\n",
       "\n",
       "[425 rows x 3 columns], R=30, lambda_step=0.01, plot_opts={'xlab': 'PC1', 'ylab': 'PC2'}, topic_order=[5, 1, 3, 2, 6, 4])"
      ]
     },
     "execution_count": 24,
     "metadata": {},
     "output_type": "execute_result"
    }
   ],
   "source": [
    "# visualize the topics\n",
    "pyLDAvis.enable_notebook()\n",
    "vis = pyLDAvis.gensim.prepare(Final_LDA_model, corpus, id2word)\n",
    "vis"
   ]
  },
  {
   "cell_type": "code",
   "execution_count": 25,
   "id": "fbd8748d",
   "metadata": {
    "execution": {
     "iopub.execute_input": "2022-01-23T18:12:34.968317Z",
     "iopub.status.busy": "2022-01-23T18:12:34.967543Z",
     "iopub.status.idle": "2022-01-23T18:12:34.969713Z",
     "shell.execute_reply": "2022-01-23T18:12:34.970184Z",
     "shell.execute_reply.started": "2022-01-23T17:37:43.81084Z"
    },
    "papermill": {
     "duration": 0.05422,
     "end_time": "2022-01-23T18:12:34.970318",
     "exception": false,
     "start_time": "2022-01-23T18:12:34.916098",
     "status": "completed"
    },
    "tags": []
   },
   "outputs": [],
   "source": [
    "#<<<------------------------------------------THE END---------------------------------------------->>"
   ]
  }
 ],
 "metadata": {
  "kernelspec": {
   "display_name": "Python 3",
   "language": "python",
   "name": "python3"
  },
  "language_info": {
   "codemirror_mode": {
    "name": "ipython",
    "version": 3
   },
   "file_extension": ".py",
   "mimetype": "text/x-python",
   "name": "python",
   "nbconvert_exporter": "python",
   "pygments_lexer": "ipython3",
   "version": "3.7.12"
  },
  "papermill": {
   "default_parameters": {},
   "duration": 53.586162,
   "end_time": "2022-01-23T18:12:38.275117",
   "environment_variables": {},
   "exception": null,
   "input_path": "__notebook__.ipynb",
   "output_path": "__notebook__.ipynb",
   "parameters": {},
   "start_time": "2022-01-23T18:11:44.688955",
   "version": "2.3.3"
  }
 },
 "nbformat": 4,
 "nbformat_minor": 5
}
